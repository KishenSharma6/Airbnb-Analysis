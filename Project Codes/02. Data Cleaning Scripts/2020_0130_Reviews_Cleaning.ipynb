{
 "cells": [
  {
   "cell_type": "markdown",
   "metadata": {},
   "source": [
    "Data Cleaning - Aggregated Airbnb Reviews"
   ]
  },
  {
   "cell_type": "markdown",
   "metadata": {},
   "source": [
    "# Introduction\n",
    "\n",
    "In the following notebook, I will be cleaning an aggregation of Airbnb Reviews data from different users about their stay in the San Francisco area. This aggregation consists of reviews data from 12/2018 through 12/2019.\n",
    "\n",
    "The aggregation source code can be found [here](https://github.com/KishenSharma6/Airbnb-Analysis/blob/master/Project%20Codes/01.%20Raw%20Data%20Aggregation%20Scripts/2020_0129_Airbnb_Raw_Data_Aggregation.ipynb)\n",
    "\n",
    "Raw data can be found [here](http://insideairbnb.com/get-the-data.html)"
   ]
  },
  {
   "cell_type": "markdown",
   "metadata": {},
   "source": [
    "## Read in libraries, data, and set notebook preferences"
   ]
  },
  {
   "cell_type": "markdown",
   "metadata": {},
   "source": [
    "**Read in libraries**"
   ]
  },
  {
   "cell_type": "code",
   "execution_count": 2,
   "metadata": {},
   "outputs": [],
   "source": [
    "#Read in libraries\n",
    "import pandas as pd\n",
    "import numpy as np\n",
    "\n",
    "import swifter"
   ]
  },
  {
   "cell_type": "markdown",
   "metadata": {},
   "source": [
    "**Read in Data**"
   ]
  },
  {
   "cell_type": "code",
   "execution_count": 3,
   "metadata": {},
   "outputs": [],
   "source": [
    "#Set path to get aggregated Calendar data\n",
    "path = r'C:\\Users\\kishe\\Documents\\Data Science\\Projects\\Python Projects\\In Progress\\Air BnB - SF\\Data\\01_Raw\\SF Airbnb Raw Data\\SF Airbnb Raw Data - Aggregated\\01_04_2020_Reviews_Raw_Aggregated.csv'\n",
    "\n",
    "#Read in Airbnb Review Data\n",
    "reviews = pd.read_csv(path, sep=',', parse_dates=['date'],\n",
    "                      dtype = {'id':'object','listing_id':'object','reviewer_id':'object'},\n",
    "                      index_col=0)              "
   ]
  },
  {
   "cell_type": "markdown",
   "metadata": {},
   "source": [
    "**Set Notebook preferences**"
   ]
  },
  {
   "cell_type": "code",
   "execution_count": 4,
   "metadata": {},
   "outputs": [],
   "source": [
    "#Set Pandas options\n",
    "pd.set_option('display.max_columns', 100)\n",
    "pd.set_option('display.max_rows',100)\n",
    "\n",
    "#Ignore warnings\n",
    "import warnings; warnings.simplefilter('ignore')"
   ]
  },
  {
   "cell_type": "markdown",
   "metadata": {},
   "source": [
    "## Data Preview"
   ]
  },
  {
   "cell_type": "code",
   "execution_count": 5,
   "metadata": {},
   "outputs": [
    {
     "data": {
      "text/html": [
       "<div>\n",
       "<style scoped>\n",
       "    .dataframe tbody tr th:only-of-type {\n",
       "        vertical-align: middle;\n",
       "    }\n",
       "\n",
       "    .dataframe tbody tr th {\n",
       "        vertical-align: top;\n",
       "    }\n",
       "\n",
       "    .dataframe thead th {\n",
       "        text-align: right;\n",
       "    }\n",
       "</style>\n",
       "<table border=\"1\" class=\"dataframe\">\n",
       "  <thead>\n",
       "    <tr style=\"text-align: right;\">\n",
       "      <th></th>\n",
       "      <th>comments</th>\n",
       "      <th>date</th>\n",
       "      <th>id</th>\n",
       "      <th>listing_id</th>\n",
       "      <th>reviewer_id</th>\n",
       "      <th>reviewer_name</th>\n",
       "    </tr>\n",
       "  </thead>\n",
       "  <tbody>\n",
       "    <tr>\n",
       "      <th>0</th>\n",
       "      <td>Our experience was, without a doubt, a five st...</td>\n",
       "      <td>2009-07-23</td>\n",
       "      <td>5977</td>\n",
       "      <td>958</td>\n",
       "      <td>15695</td>\n",
       "      <td>Edmund C</td>\n",
       "    </tr>\n",
       "    <tr>\n",
       "      <th>1</th>\n",
       "      <td>Returning to San Francisco is a rejuvenating t...</td>\n",
       "      <td>2009-08-03</td>\n",
       "      <td>6660</td>\n",
       "      <td>958</td>\n",
       "      <td>26145</td>\n",
       "      <td>Simon</td>\n",
       "    </tr>\n",
       "    <tr>\n",
       "      <th>2</th>\n",
       "      <td>We were very pleased with the accommodations a...</td>\n",
       "      <td>2009-09-27</td>\n",
       "      <td>11519</td>\n",
       "      <td>958</td>\n",
       "      <td>25839</td>\n",
       "      <td>Denis</td>\n",
       "    </tr>\n",
       "    <tr>\n",
       "      <th>3</th>\n",
       "      <td>We highly recommend this accomodation and agre...</td>\n",
       "      <td>2009-11-05</td>\n",
       "      <td>16282</td>\n",
       "      <td>958</td>\n",
       "      <td>33750</td>\n",
       "      <td>Anna</td>\n",
       "    </tr>\n",
       "    <tr>\n",
       "      <th>4</th>\n",
       "      <td>Holly's place was great. It was exactly what I...</td>\n",
       "      <td>2010-02-13</td>\n",
       "      <td>26008</td>\n",
       "      <td>958</td>\n",
       "      <td>15416</td>\n",
       "      <td>Venetia</td>\n",
       "    </tr>\n",
       "  </tbody>\n",
       "</table>\n",
       "</div>"
      ],
      "text/plain": [
       "                                            comments       date     id  \\\n",
       "0  Our experience was, without a doubt, a five st... 2009-07-23   5977   \n",
       "1  Returning to San Francisco is a rejuvenating t... 2009-08-03   6660   \n",
       "2  We were very pleased with the accommodations a... 2009-09-27  11519   \n",
       "3  We highly recommend this accomodation and agre... 2009-11-05  16282   \n",
       "4  Holly's place was great. It was exactly what I... 2010-02-13  26008   \n",
       "\n",
       "   listing_id  reviewer_id reviewer_name  \n",
       "0         958        15695      Edmund C  \n",
       "1         958        26145         Simon  \n",
       "2         958        25839         Denis  \n",
       "3         958        33750          Anna  \n",
       "4         958        15416       Venetia  "
      ]
     },
     "metadata": {},
     "output_type": "display_data"
    }
   ],
   "source": [
    "#View data shape and view head\n",
    "print('Reviews data shape:', reviews.shape)\n",
    "display(reviews.head())"
   ]
  },
  {
   "cell_type": "code",
   "execution_count": 6,
   "metadata": {},
   "outputs": [
    {
     "data": {
      "text/plain": [
       "comments                 object\n",
       "date             datetime64[ns]\n",
       "id                        int64\n",
       "listing_id                int64\n",
       "reviewer_id               int64\n",
       "reviewer_name            object\n",
       "dtype: object"
      ]
     },
     "execution_count": 6,
     "metadata": {},
     "output_type": "execute_result"
    }
   ],
   "source": [
    "#Show data types\n",
    "reviews.dtypes"
   ]
  },
  {
   "cell_type": "markdown",
   "metadata": {},
   "source": [
    "# Data Cleaning"
   ]
  },
  {
   "cell_type": "markdown",
   "metadata": {},
   "source": [
    "## Missing data"
   ]
  },
  {
   "cell_type": "markdown",
   "metadata": {},
   "source": [
    "**Check for and remove missing data**"
   ]
  },
  {
   "cell_type": "code",
   "execution_count": 9,
   "metadata": {},
   "outputs": [
    {
     "name": "stdout",
     "output_type": "stream",
     "text": [
      "Missing values: \n",
      " comments         480\n",
      "date               0\n",
      "id                 0\n",
      "listing_id         0\n",
      "reviewer_id        0\n",
      "reviewer_name      1\n",
      "dtype: int64\n"
     ]
    }
   ],
   "source": [
    "#Replace blank comments with NAN\n",
    "reviews.comments.replace('^\\s*$', np.nan, regex=True, inplace=True)\n",
    "\n",
    "#View missing values\n",
    "print('Missing values: \\n', reviews.isna().sum())"
   ]
  },
  {
   "cell_type": "code",
   "execution_count": 10,
   "metadata": {},
   "outputs": [
    {
     "name": "stdout",
     "output_type": "stream",
     "text": [
      "Missing values: \n",
      " comments         0\n",
      "date             0\n",
      "id               0\n",
      "listing_id       0\n",
      "reviewer_id      0\n",
      "reviewer_name    0\n",
      "dtype: int64\n"
     ]
    }
   ],
   "source": [
    "#Remove rows with NA in comments\n",
    "reviews  = reviews[~reviews.comments.isna()]\n",
    "\n",
    "#Replace missing reviewer name with Unknown\n",
    "reviews.reviewer_name.fillna('Unknown', inplace = True)\n",
    "\n",
    "#Check\n",
    "print('Missing values: \\n', reviews.isna().sum())"
   ]
  },
  {
   "cell_type": "markdown",
   "metadata": {},
   "source": [
    "## Language Detection\n",
    "\n",
    "Not all comments are in English. We will assign comment languages to a 'language' column and perform a separate NLP for different languages to see if we can extract additional meaning from users about their Airbnb experience in San Francisco"
   ]
  },
  {
   "cell_type": "code",
   "execution_count": null,
   "metadata": {},
   "outputs": [
    {
     "data": {
      "application/vnd.jupyter.widget-view+json": {
       "model_id": "da800459e174450587a6da3c4c71cd20",
       "version_major": 2,
       "version_minor": 0
      },
      "text/plain": [
       "HBox(children=(FloatProgress(value=0.0, description='Pandas Apply', max=457677.0, style=ProgressStyle(descript…"
      ]
     },
     "metadata": {},
     "output_type": "display_data"
    }
   ],
   "source": [
    "#Import language detection library\n",
    "from langdetect import detect\n",
    "\n",
    "# write the function that detects the language\n",
    "def language_detection(text):\n",
    "    try:\n",
    "        return detect(text)\n",
    "    except:\n",
    "        return None\n",
    "\n",
    "#Apply function to reviews and check\n",
    "reviews['language']=reviews.comments.swifter.apply(language_detection)\n",
    "display(reviews.head())"
   ]
  },
  {
   "cell_type": "markdown",
   "metadata": {},
   "source": [
    "## Comments cleaning"
   ]
  },
  {
   "cell_type": "code",
   "execution_count": null,
   "metadata": {},
   "outputs": [],
   "source": [
    "#Remove \\n,\\r and \\t\n",
    "reviews.comments.replace('(\\\\n|\\\\t|\\\\r)', ' ',regex=True, inplace=True)\n",
    "\n",
    "#Replace new blank comments with NAN\n",
    "reviews.comments.replace('^\\s*$', np.nan, regex=True, inplace=True)\n",
    "\n",
    "#Remove new rows with NA in comments\n",
    "reviews  = reviews[~reviews.comments.isna()]\n",
    "\n",
    "#Strip trailing and leading whitespace\n",
    "reviews['comments'].str.strip()\n",
    "\n",
    "#Remove rows where comments character string < 3\n",
    "reviews = reviews[reviews.comments.apply(len) > 3].sort_values(by='comments')"
   ]
  },
  {
   "cell_type": "code",
   "execution_count": 39,
   "metadata": {},
   "outputs": [
    {
     "name": "stdout",
     "output_type": "stream",
     "text": [
      "Current shape of reviews: (425548, 6)\n"
     ]
    }
   ],
   "source": [
    "#Print current reviews shape\n",
    "print('Current shape of reviews:', reviews.shape)"
   ]
  },
  {
   "cell_type": "code",
   "execution_count": 40,
   "metadata": {},
   "outputs": [],
   "source": [
    "#Set path to write listings\n",
    "path = r'C:\\Users\\kishe\\Documents\\Data Science\\Projects\\Python Projects\\In Progress\\Air BnB - SF\\Data\\02_Intermediate\\2020_0131_Reviews_Cleaned.csv'\n",
    "\n",
    "#Write listings to path\n",
    "reviews.to_csv(path, sep=',')"
   ]
  }
 ],
 "metadata": {
  "kernelspec": {
   "display_name": "Python 3",
   "language": "python",
   "name": "python3"
  },
  "language_info": {
   "codemirror_mode": {
    "name": "ipython",
    "version": 3
   },
   "file_extension": ".py",
   "mimetype": "text/x-python",
   "name": "python",
   "nbconvert_exporter": "python",
   "pygments_lexer": "ipython3",
   "version": "3.7.3"
  }
 },
 "nbformat": 4,
 "nbformat_minor": 4
}
