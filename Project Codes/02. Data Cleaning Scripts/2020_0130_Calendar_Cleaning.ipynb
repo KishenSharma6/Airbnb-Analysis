{
 "cells": [
  {
   "cell_type": "markdown",
   "metadata": {},
   "source": [
    "Data Cleaning - Aggregated Airbnb Calendar Data"
   ]
  },
  {
   "cell_type": "markdown",
   "metadata": {},
   "source": [
    "# Introduction\n",
    "\n",
    "In the following notebook, I will be cleaning an aggregation of Airbnb's calendar data of the San Francisco area. This data consists of data from 1/2018 through 12/2019.\n",
    "\n",
    "* The aggregation source code [here](https://github.com/KishenSharma6/Airbnb-Analysis/blob/master/Project%20Codes/01.%20Raw%20Data%20Aggregation%20Scripts/2020_0129_Airbnb_Raw_Data_Aggregation.ipynb)\n",
    "\n",
    "* Raw data [here](https://github.com/KishenSharma6/Airbnb-Analysis/tree/master/Data/01_Raw/SF%20Airbnb%20Raw%20Data)"
   ]
  },
  {
   "cell_type": "markdown",
   "metadata": {},
   "source": [
    "## Read in libraries,  read in data, and set notebook preferences"
   ]
  },
  {
   "cell_type": "markdown",
   "metadata": {},
   "source": [
    "**Read in libraries**"
   ]
  },
  {
   "cell_type": "code",
   "execution_count": null,
   "metadata": {},
   "outputs": [],
   "source": [
    "#Read in libraries\n",
    "import swifter\n",
    "import pandas as pd\n",
    "import numpy as np\n",
    "import matplotlib.pyplot as plt"
   ]
  },
  {
   "cell_type": "markdown",
   "metadata": {},
   "source": [
    "**Read in Data**"
   ]
  },
  {
   "cell_type": "code",
   "execution_count": null,
   "metadata": {},
   "outputs": [],
   "source": [
    "#Set path to get aggregated calendar data\n",
    "path = r'C:\\Users\\kishe\\Documents\\Data Science\\Projects\\Python Projects\\In Progress\\Air BnB - SF\\Data\\01_Raw\\SF Airbnb Raw Data\\SF Airbnb Raw Data - Aggregated\\01_04_2020_Calendar_Raw_Aggregated.csv'\n",
    "\n",
    "#Set date columns for parsing\n",
    "parse_dates = ['date']\n",
    "\n",
    "#Read in calendar data\n",
    "calendar = pd.read_csv(path, sep = ',', dtype = {\"listing_id\" : \"object\"}, parse_dates=parse_dates,index_col=0, low_memory=False)"
   ]
  },
  {
   "cell_type": "markdown",
   "metadata": {},
   "source": [
    "**Settings for Notebook**"
   ]
  },
  {
   "cell_type": "code",
   "execution_count": null,
   "metadata": {},
   "outputs": [],
   "source": [
    "#Set Pandas options\n",
    "pd.set_option('display.max_columns', 500)\n",
    "pd.set_option('display.max_rows',500)\n",
    "pd.set_option('display.float_format', lambda x: '%.2f' % x)\n",
    "\n",
    "#Set plot style\n",
    "plt.style.use('ggplot')"
   ]
  },
  {
   "cell_type": "markdown",
   "metadata": {},
   "source": [
    "## Preview Data"
   ]
  },
  {
   "cell_type": "code",
   "execution_count": null,
   "metadata": {},
   "outputs": [],
   "source": [
    "#Preview calendar data\n",
    "display(calendar.head())"
   ]
  },
  {
   "cell_type": "code",
   "execution_count": null,
   "metadata": {},
   "outputs": [],
   "source": [
    "#Print shape and dtypes of calendar data\n",
    "print('Calendar data shape:',calendar.shape)\n",
    "print('\\nCalendar data types: \\n',calendar.dtypes)"
   ]
  },
  {
   "cell_type": "markdown",
   "metadata": {},
   "source": [
    "# Data Cleaning"
   ]
  },
  {
   "cell_type": "markdown",
   "metadata": {},
   "source": [
    "## Drop columns not needed for Time Series Analysis"
   ]
  },
  {
   "cell_type": "code",
   "execution_count": null,
   "metadata": {},
   "outputs": [],
   "source": [
    "#Drop columns not needed for time series analysis\n",
    "calendar.drop(columns = ['adjusted_price','maximum_nights', 'minimum_nights'], inplace = True)\n",
    "\n",
    "#View\n",
    "display(calendar)"
   ]
  },
  {
   "cell_type": "markdown",
   "metadata": {},
   "source": [
    "## Filter dates"
   ]
  },
  {
   "cell_type": "code",
   "execution_count": null,
   "metadata": {},
   "outputs": [],
   "source": [
    "# #Keep dates in 2018 and 2019\n",
    "# calendar = calendar.loc[(calendar['date'] > '2017-12-31') & (calendar['date'] < '2020')]\n",
    "\n",
    "# #View updated calendar shape\n",
    "# print('Updated calendar shape:', calendar.shape)"
   ]
  },
  {
   "cell_type": "markdown",
   "metadata": {},
   "source": [
    "## Column cleaning and data type correction"
   ]
  },
  {
   "cell_type": "markdown",
   "metadata": {},
   "source": [
    "**Price column**"
   ]
  },
  {
   "cell_type": "code",
   "execution_count": null,
   "metadata": {},
   "outputs": [],
   "source": [
    "#Remove $ and , from price \n",
    "calendar['price']=calendar['price'].replace('[,$]','', regex=True)\n",
    "\n",
    "#Convert string to numeric\n",
    "calendar['price'] =calendar['price'].swifter.apply(pd.to_numeric, errors='coerce')"
   ]
  },
  {
   "cell_type": "markdown",
   "metadata": {},
   "source": [
    "**Available column**"
   ]
  },
  {
   "cell_type": "code",
   "execution_count": null,
   "metadata": {},
   "outputs": [],
   "source": [
    "#Replace 't' and 'f' in available column to True and False\n",
    "calendar.available = calendar.available.swifter.apply(lambda x:  True if x =='t' else False)"
   ]
  },
  {
   "cell_type": "markdown",
   "metadata": {},
   "source": [
    "## Missing Data"
   ]
  },
  {
   "cell_type": "markdown",
   "metadata": {},
   "source": [
    "**Stats of missing values per column**"
   ]
  },
  {
   "cell_type": "code",
   "execution_count": null,
   "metadata": {},
   "outputs": [],
   "source": [
    "#Create function that captures missing data stats of a pandas df\n",
    "def missing_stats(pandas):\n",
    "    #Create empty dataframe to store missing value stats in\n",
    "    missing = pd.DataFrame()\n",
    "    #Capture total number and total % of missing data per column\n",
    "    missing['Total'] = pandas.isnull().sum().sort_values(ascending=False)\n",
    "    missing['Percent'] = (missing['Total']/pandas.isnull().count()).apply(lambda x: x * 100)\n",
    "    return missing\n",
    "\n",
    "#Check\n",
    "missing_stats(calendar)"
   ]
  },
  {
   "cell_type": "markdown",
   "metadata": {},
   "source": [
    "**View rows with missing price values**"
   ]
  },
  {
   "cell_type": "code",
   "execution_count": null,
   "metadata": {},
   "outputs": [],
   "source": [
    "#View rows with missing price\n",
    "calendar[calendar.price.isnull()]"
   ]
  },
  {
   "cell_type": "markdown",
   "metadata": {},
   "source": [
    "It appears that if available is false, price will be missing. Let's test that theory:"
   ]
  },
  {
   "cell_type": "code",
   "execution_count": null,
   "metadata": {},
   "outputs": [],
   "source": [
    "#Capture rows with missing price data and assign to df\n",
    "missing_price = calendar[calendar['price'].isnull()]\n",
    "\n",
    "#View \n",
    "print('Missing price values with availability: ', len(missing_price[missing_price.available == True]))\n",
    "print('Missing price values w/o availability: ', len(missing_price[missing_price.available == False]))"
   ]
  },
  {
   "cell_type": "markdown",
   "metadata": {},
   "source": [
    "Not a bad hunch :) We'll leave those values as is for our time series analysis. We will, however, drop those 102 missing values"
   ]
  },
  {
   "cell_type": "markdown",
   "metadata": {},
   "source": [
    "**Drop missing values where available is true**"
   ]
  },
  {
   "cell_type": "code",
   "execution_count": null,
   "metadata": {},
   "outputs": [],
   "source": [
    "#Reset calendar index\n",
    "calendar.reset_index(inplace=True)\n",
    "\n",
    "#Get index of rows that contain missing prices in available rooms\n",
    "drop = calendar.loc[(calendar['price'].isnull()) & (calendar['available'] == True)].index.to_list()\n",
    "\n",
    "#Remove\n",
    "calendar.drop(calendar.index[drop], inplace=True)\n",
    "\n",
    "#Check\n",
    "calendar.loc[(calendar['price'].isnull()) & (calendar['available'] == True)]"
   ]
  },
  {
   "cell_type": "markdown",
   "metadata": {},
   "source": [
    "## Zero Price Removal"
   ]
  },
  {
   "cell_type": "code",
   "execution_count": null,
   "metadata": {},
   "outputs": [],
   "source": [
    "#Remove rows where price == 0 (most likely a data error, rent cannot be $0)\n",
    "calendar = calendar[calendar['price'] > 0]"
   ]
  },
  {
   "cell_type": "markdown",
   "metadata": {},
   "source": [
    "# Write file to CSV"
   ]
  },
  {
   "cell_type": "code",
   "execution_count": null,
   "metadata": {},
   "outputs": [],
   "source": [
    "#View final calendar shape\n",
    "print('Final calendar shape:', calendar.shape)"
   ]
  },
  {
   "cell_type": "code",
   "execution_count": null,
   "metadata": {},
   "outputs": [],
   "source": [
    "#Set path to write listings\n",
    "path = r'C:\\Users\\kishe\\Documents\\Data Science\\Projects\\Python Projects\\In Progress\\Air BnB - SF\\Data\\02_Intermediate\\2020_0130_Calendar_Cleaned.csv'\n",
    "\n",
    "#Write listings to path\n",
    "calendar.to_csv(path, sep=',')"
   ]
  }
 ],
 "metadata": {
  "kernelspec": {
   "display_name": "Python 3",
   "language": "python",
   "name": "python3"
  },
  "language_info": {
   "codemirror_mode": {
    "name": "ipython",
    "version": 3
   },
   "file_extension": ".py",
   "mimetype": "text/x-python",
   "name": "python",
   "nbconvert_exporter": "python",
   "pygments_lexer": "ipython3",
   "version": "3.7.6"
  }
 },
 "nbformat": 4,
 "nbformat_minor": 4
}
