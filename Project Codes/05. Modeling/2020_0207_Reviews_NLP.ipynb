{
 "cells": [
  {
   "cell_type": "markdown",
   "metadata": {},
   "source": [
    "**NLP Analysis - Reviews Data**"
   ]
  },
  {
   "cell_type": "markdown",
   "metadata": {
    "toc-hr-collapsed": false
   },
   "source": [
    "# Introduction"
   ]
  },
  {
   "cell_type": "markdown",
   "metadata": {},
   "source": [
    "## Read in libraries, data, and set notebook preferences"
   ]
  },
  {
   "cell_type": "markdown",
   "metadata": {},
   "source": [
    "**Read in libraries**"
   ]
  },
  {
   "cell_type": "code",
   "execution_count": 58,
   "metadata": {},
   "outputs": [],
   "source": [
    "#Read in libraries\n",
    "import pandas as pd\n",
    "import swifter\n",
    "\n",
    "import numpy as np\n",
    "\n",
    "import matplotlib.pyplot as plt\n",
    "import seaborn as sns"
   ]
  },
  {
   "cell_type": "markdown",
   "metadata": {},
   "source": [
    "**Read in data**"
   ]
  },
  {
   "cell_type": "code",
   "execution_count": 59,
   "metadata": {},
   "outputs": [],
   "source": [
    "#Set path to data\n",
    "path = r'C:\\Users\\kishe\\Documents\\Data Science\\Projects\\Python Projects\\In Progress\\Air BnB - SF\\Data\\03_Processed'\n",
    "\n",
    "#Read in data\n",
    "df = pd.read_csv(path + '/2020_0208_Reviews_Processed_NLP.csv',sep=',',\n",
    "                 parse_dates=['date'])"
   ]
  },
  {
   "cell_type": "markdown",
   "metadata": {},
   "source": [
    "**Set preferences for notebook**"
   ]
  },
  {
   "cell_type": "code",
   "execution_count": 60,
   "metadata": {},
   "outputs": [],
   "source": [
    "#Ignore warnings\n",
    "import warnings; warnings.simplefilter('ignore')\n",
    "\n",
    "#Increase number of columns and rows displayed by Pandas\n",
    "pd.set_option('display.max_colwidth',1000)\n",
    "pd.set_option('display.max_columns', 500)\n",
    "pd.set_option('display.max_rows',100)\n",
    "\n",
    "#Set style for plots\n",
    "plt.style.use('seaborn')"
   ]
  },
  {
   "cell_type": "markdown",
   "metadata": {},
   "source": [
    "## Preview data"
   ]
  },
  {
   "cell_type": "code",
   "execution_count": 61,
   "metadata": {},
   "outputs": [
    {
     "name": "stdout",
     "output_type": "stream",
     "text": [
      "Reviews data shape: (425509, 6)\n"
     ]
    },
    {
     "data": {
      "text/html": [
       "<div>\n",
       "<style scoped>\n",
       "    .dataframe tbody tr th:only-of-type {\n",
       "        vertical-align: middle;\n",
       "    }\n",
       "\n",
       "    .dataframe tbody tr th {\n",
       "        vertical-align: top;\n",
       "    }\n",
       "\n",
       "    .dataframe thead th {\n",
       "        text-align: right;\n",
       "    }\n",
       "</style>\n",
       "<table border=\"1\" class=\"dataframe\">\n",
       "  <thead>\n",
       "    <tr style=\"text-align: right;\">\n",
       "      <th></th>\n",
       "      <th>comments</th>\n",
       "      <th>date</th>\n",
       "      <th>sentiment_compound</th>\n",
       "      <th>label</th>\n",
       "      <th>word_count</th>\n",
       "      <th>comments_pos_tag</th>\n",
       "    </tr>\n",
       "  </thead>\n",
       "  <tbody>\n",
       "    <tr>\n",
       "      <th>0</th>\n",
       "      <td>Hello Josh  Thank you very much for everything. I found myself very comfortable in your home. Quiet, comfortable and very complete and very clean, which I value highly. Next time I'd come with my family. I hope it's possible.</td>\n",
       "      <td>2013-12-01</td>\n",
       "      <td>0.9534</td>\n",
       "      <td>positive</td>\n",
       "      <td>39</td>\n",
       "      <td>[('hello', 'NN'), ('josh', 'NN'), ('thank', 'VBD'), ('much', 'JJ'), ('everything', 'NN'), ('comfortable', 'JJ'), ('home', 'NN'), ('quiet', 'RBR'), ('comfortable', 'JJ'), ('complete', 'JJ'), ('clean', 'JJ'), ('highly', 'RB'), ('next', 'JJ'), ('time', 'NN'), ('come', 'VBN'), ('possible', 'JJ')]</td>\n",
       "    </tr>\n",
       "    <tr>\n",
       "      <th>1</th>\n",
       "      <td>Stop and book it now. Rea (Website hidden by Airbnb) this later!!! If your a single person looking for a story book San Francisco experience, look no farther. Staying in Mikes place couldn't be any more wonderful. If your familiar with \"Tales of the City\" Mike is the Olympia Dukakis. The home is warm and inviting with all the nuances of an old Victorian. Mike is an amazing host . He can tell you how walk drive or public transit the city (don't bother with a car). Would love to keep the gem to myself but everyone deserves this unique place to lay your head. Make sure while you're there be introduced to William . Book IT you won't be disappointed .</td>\n",
       "      <td>2017-06-07</td>\n",
       "      <td>0.9334</td>\n",
       "      <td>positive</td>\n",
       "      <td>122</td>\n",
       "      <td>[('stop', 'VB'), ('book', 'NN'), ('rea', 'JJ'), ('website', 'RB'), ('hidden', 'VBP'), ('later', 'RB'), ('person', 'NN'), ('looking', 'VBG'), ('book', 'NN'), ('san', 'JJ'), ('francisco', 'JJ'), ('experience', 'NN'), ('look', 'NN'), ('staying', 'VBG'), ('place', 'NN'), ('wonderful', 'NN'), ('familiar', 'JJ'), ('tales', 'NNS'), ('city', 'NN'), ('mike', 'NN'), ('olympia', 'VBP'), ('dukakis', 'NN'), ('home', 'NN'), ('inviting', 'NN'), ('nuances', 'NNS'), ('old', 'JJ'), ('victorian', 'JJ'), ('mike', 'NN'), ('amazing', 'VBG'), ('host', 'NN'), ('tell', 'NN'), ('walk', 'VBP'), ('drive', 'JJ'), ('transit', 'NN'), ('city', 'NN'), ('would', 'MD'), ('love', 'VB'), ('gem', 'NN'), ('everyone', 'NN'), ('deserves', 'VBZ'), ('unique', 'JJ'), ('place', 'NN'), ('head', 'NN'), ('make', 'VBP'), ('sure', 'JJ'), ('book', 'NN'), ('disappointed', 'VBD')]</td>\n",
       "    </tr>\n",
       "    <tr>\n",
       "      <th>2</th>\n",
       "      <td>So I moved to SF in late May from Michigan to intern at Genentech for the summer. I stayed at Anjan’s apartment for 7 days while I was looking for a more permanent housing situation. Anjan was extremely hospitable and welcoming throughout the week. He was also very knowledgeable about the area and always offered to help in any way that he could. The area (SOMA) is very safe and is very “walkable.” There are plenty of restaurants and stores nearby (there’s even a target a few blocks away), so you have everything you need within a couple blocks from the apartment.            As for the bedroom, it was spacious and clean. The bathroom was nice and I had to myself for the entirety of my stay. I felt very comfortable living at Anjan’s for a week and I really enjoyed staying there.            If you’re a respectful person and are looking for a place to stay in SF for a short time, I highly recommend staying at Anjan’s. He’s a great person and a great host.</td>\n",
       "      <td>2013-06-02</td>\n",
       "      <td>0.9860</td>\n",
       "      <td>positive</td>\n",
       "      <td>175</td>\n",
       "      <td>[('moved', 'VBN'), ('may', 'MD'), ('michigan', 'VB'), ('summer', 'NN'), ('days', 'NNS'), ('looking', 'VBG'), ('permanent', 'JJ'), ('housing', 'NN'), ('situation', 'NN'), ('anjan', 'VBZ'), ('extremely', 'RB'), ('hospitable', 'JJ'), ('welcoming', 'VBG'), ('throughout', 'IN'), ('week', 'NN'), ('also', 'RB'), ('knowledgeable', 'JJ'), ('area', 'NN'), ('always', 'RB'), ('offered', 'VBD'), ('way', 'NN'), ('area', 'NN'), ('soma', 'NN'), ('safe', 'JJ'), ('walkable', 'JJ'), ('plenty', 'NN'), ('stores', 'NNS'), ('nearby', 'JJ'), ('blocks', 'NNS'), ('away', 'RP'), ('everything', 'NN'), ('need', 'NN'), ('within', 'IN'), ('blocks', 'NNS'), ('apartment', 'JJ'), ('bedroom', 'NN'), ('spacious', 'JJ'), ('clean', 'JJ'), ('bathroom', 'NN'), ('nice', 'JJ'), ('entirety', 'NN'), ('stay', 'NN'), ('comfortable', 'JJ'), ('living', 'NN'), ('enjoyed', 'VBD'), ('staying', 'VBG'), ('respectful', 'JJ'), ('person', 'NN'), ('looking', 'VBG'), ('time', 'NN'), ('recommend', 'VB'), ('staying', 'VBG'), ('great', 'JJ')...</td>\n",
       "    </tr>\n",
       "    <tr>\n",
       "      <th>3</th>\n",
       "      <td>This was the perfect home from home, our host was amazing like most California's we had a wonderful time.</td>\n",
       "      <td>2014-10-16</td>\n",
       "      <td>0.9287</td>\n",
       "      <td>positive</td>\n",
       "      <td>19</td>\n",
       "      <td>[('perfect', 'JJ'), ('home', 'NN'), ('home', 'NN'), ('host', 'NN'), ('amazing', 'VBG'), ('like', 'IN'), ('california', 'NN'), ('time', 'NN')]</td>\n",
       "    </tr>\n",
       "    <tr>\n",
       "      <th>4</th>\n",
       "      <td>We loved our time in beautiful SF! The place is in a fantastic location and near everything. Nadia’s communication and check in process is amazing and probably the best we have used by far. Would definitely recommend!!   (Website hidden by Airbnb) Thanks for having us Nadia   Jess + Mark x</td>\n",
       "      <td>2018-08-10</td>\n",
       "      <td>0.9824</td>\n",
       "      <td>positive</td>\n",
       "      <td>50</td>\n",
       "      <td>[('time', 'NN'), ('place', 'NN'), ('location', 'NN'), ('near', 'IN'), ('everything', 'NN'), ('nadia', 'RB'), ('check', 'NN'), ('probably', 'RB'), ('best', 'JJS'), ('used', 'VBN'), ('would', 'MD'), ('definitely', 'RB'), ('recommend', 'VB'), ('website', 'JJ'), ('hidden', 'JJ'), ('thanks', 'NNS'), ('jess', 'NN'), ('mark', 'NN')]</td>\n",
       "    </tr>\n",
       "  </tbody>\n",
       "</table>\n",
       "</div>"
      ],
      "text/plain": [
       "                                                                                                                                                                                                                                                                                                                                                                                                                                                                                                                                                                                                                                                                                                                                                                                                                                                                                                                                                                                                         comments  \\\n",
       "0                                                                                                                                                                                                                                                                                                                                                                                                                                                                                                                                                                                                                                                                                                                                                                               Hello Josh  Thank you very much for everything. I found myself very comfortable in your home. Quiet, comfortable and very complete and very clean, which I value highly. Next time I'd come with my family. I hope it's possible.   \n",
       "1                                                                                                                                                                                                                                                                                                                                  Stop and book it now. Rea (Website hidden by Airbnb) this later!!! If your a single person looking for a story book San Francisco experience, look no farther. Staying in Mikes place couldn't be any more wonderful. If your familiar with \"Tales of the City\" Mike is the Olympia Dukakis. The home is warm and inviting with all the nuances of an old Victorian. Mike is an amazing host . He can tell you how walk drive or public transit the city (don't bother with a car). Would love to keep the gem to myself but everyone deserves this unique place to lay your head. Make sure while you're there be introduced to William . Book IT you won't be disappointed .   \n",
       "2          So I moved to SF in late May from Michigan to intern at Genentech for the summer. I stayed at Anjan’s apartment for 7 days while I was looking for a more permanent housing situation. Anjan was extremely hospitable and welcoming throughout the week. He was also very knowledgeable about the area and always offered to help in any way that he could. The area (SOMA) is very safe and is very “walkable.” There are plenty of restaurants and stores nearby (there’s even a target a few blocks away), so you have everything you need within a couple blocks from the apartment.            As for the bedroom, it was spacious and clean. The bathroom was nice and I had to myself for the entirety of my stay. I felt very comfortable living at Anjan’s for a week and I really enjoyed staying there.            If you’re a respectful person and are looking for a place to stay in SF for a short time, I highly recommend staying at Anjan’s. He’s a great person and a great host.     \n",
       "3                                                                                                                                                                                                                                                                                                                                                                                                                                                                                                                                                                                                                                                                                                                                                                                                                                                                                                       This was the perfect home from home, our host was amazing like most California's we had a wonderful time.   \n",
       "4                                                                                                                                                                                                                                                                                                                                                                                                                                                                                                                                                                                                                                                                                                              We loved our time in beautiful SF! The place is in a fantastic location and near everything. Nadia’s communication and check in process is amazing and probably the best we have used by far. Would definitely recommend!!   (Website hidden by Airbnb) Thanks for having us Nadia   Jess + Mark x   \n",
       "\n",
       "        date  sentiment_compound     label  word_count  \\\n",
       "0 2013-12-01              0.9534  positive          39   \n",
       "1 2017-06-07              0.9334  positive         122   \n",
       "2 2013-06-02              0.9860  positive         175   \n",
       "3 2014-10-16              0.9287  positive          19   \n",
       "4 2018-08-10              0.9824  positive          50   \n",
       "\n",
       "                                                                                                                                                                                                                                                                                                                                                                                                                                                                                                                                                                                                                                                                                                                                                                                                                                                                                                                                                                                                                          comments_pos_tag  \n",
       "0                                                                                                                                                                                                                                                                                                                                                                                                                                                                                                                                                                                                                                                                                                                                    [('hello', 'NN'), ('josh', 'NN'), ('thank', 'VBD'), ('much', 'JJ'), ('everything', 'NN'), ('comfortable', 'JJ'), ('home', 'NN'), ('quiet', 'RBR'), ('comfortable', 'JJ'), ('complete', 'JJ'), ('clean', 'JJ'), ('highly', 'RB'), ('next', 'JJ'), ('time', 'NN'), ('come', 'VBN'), ('possible', 'JJ')]  \n",
       "1                                                                                                                                                                 [('stop', 'VB'), ('book', 'NN'), ('rea', 'JJ'), ('website', 'RB'), ('hidden', 'VBP'), ('later', 'RB'), ('person', 'NN'), ('looking', 'VBG'), ('book', 'NN'), ('san', 'JJ'), ('francisco', 'JJ'), ('experience', 'NN'), ('look', 'NN'), ('staying', 'VBG'), ('place', 'NN'), ('wonderful', 'NN'), ('familiar', 'JJ'), ('tales', 'NNS'), ('city', 'NN'), ('mike', 'NN'), ('olympia', 'VBP'), ('dukakis', 'NN'), ('home', 'NN'), ('inviting', 'NN'), ('nuances', 'NNS'), ('old', 'JJ'), ('victorian', 'JJ'), ('mike', 'NN'), ('amazing', 'VBG'), ('host', 'NN'), ('tell', 'NN'), ('walk', 'VBP'), ('drive', 'JJ'), ('transit', 'NN'), ('city', 'NN'), ('would', 'MD'), ('love', 'VB'), ('gem', 'NN'), ('everyone', 'NN'), ('deserves', 'VBZ'), ('unique', 'JJ'), ('place', 'NN'), ('head', 'NN'), ('make', 'VBP'), ('sure', 'JJ'), ('book', 'NN'), ('disappointed', 'VBD')]  \n",
       "2  [('moved', 'VBN'), ('may', 'MD'), ('michigan', 'VB'), ('summer', 'NN'), ('days', 'NNS'), ('looking', 'VBG'), ('permanent', 'JJ'), ('housing', 'NN'), ('situation', 'NN'), ('anjan', 'VBZ'), ('extremely', 'RB'), ('hospitable', 'JJ'), ('welcoming', 'VBG'), ('throughout', 'IN'), ('week', 'NN'), ('also', 'RB'), ('knowledgeable', 'JJ'), ('area', 'NN'), ('always', 'RB'), ('offered', 'VBD'), ('way', 'NN'), ('area', 'NN'), ('soma', 'NN'), ('safe', 'JJ'), ('walkable', 'JJ'), ('plenty', 'NN'), ('stores', 'NNS'), ('nearby', 'JJ'), ('blocks', 'NNS'), ('away', 'RP'), ('everything', 'NN'), ('need', 'NN'), ('within', 'IN'), ('blocks', 'NNS'), ('apartment', 'JJ'), ('bedroom', 'NN'), ('spacious', 'JJ'), ('clean', 'JJ'), ('bathroom', 'NN'), ('nice', 'JJ'), ('entirety', 'NN'), ('stay', 'NN'), ('comfortable', 'JJ'), ('living', 'NN'), ('enjoyed', 'VBD'), ('staying', 'VBG'), ('respectful', 'JJ'), ('person', 'NN'), ('looking', 'VBG'), ('time', 'NN'), ('recommend', 'VB'), ('staying', 'VBG'), ('great', 'JJ')...  \n",
       "3                                                                                                                                                                                                                                                                                                                                                                                                                                                                                                                                                                                                                                                                                                                                                                                                                                                                                            [('perfect', 'JJ'), ('home', 'NN'), ('home', 'NN'), ('host', 'NN'), ('amazing', 'VBG'), ('like', 'IN'), ('california', 'NN'), ('time', 'NN')]  \n",
       "4                                                                                                                                                                                                                                                                                                                                                                                                                                                                                                                                                                                                                                                                                                  [('time', 'NN'), ('place', 'NN'), ('location', 'NN'), ('near', 'IN'), ('everything', 'NN'), ('nadia', 'RB'), ('check', 'NN'), ('probably', 'RB'), ('best', 'JJS'), ('used', 'VBN'), ('would', 'MD'), ('definitely', 'RB'), ('recommend', 'VB'), ('website', 'JJ'), ('hidden', 'JJ'), ('thanks', 'NNS'), ('jess', 'NN'), ('mark', 'NN')]  "
      ]
     },
     "metadata": {},
     "output_type": "display_data"
    }
   ],
   "source": [
    "#Preview data and shape\n",
    "print('Reviews data shape:', df.shape)\n",
    "display(df.head())"
   ]
  },
  {
   "cell_type": "markdown",
   "metadata": {},
   "source": [
    "# Data Exploration"
   ]
  },
  {
   "cell_type": "markdown",
   "metadata": {},
   "source": [
    "### Histogram of sentiment scores"
   ]
  },
  {
   "cell_type": "code",
   "execution_count": 62,
   "metadata": {},
   "outputs": [
    {
     "data": {
      "image/png": "[encoded data removed]",
      "text/plain": [
       "<Figure size 720x576 with 1 Axes>"
      ]
     },
     "metadata": {},
     "output_type": "display_data"
    }
   ],
   "source": [
    "#Set plot\n",
    "fig, ax = plt.subplots(figsize = (10,8))\n",
    "\n",
    "#Plot hist of sentiment_compound scores\n",
    "j = df.sentiment_compound.hist(ax = ax,bins = 100, color = 'skyblue', alpha = .85)\n",
    "\n",
    "#Set plot aesthetics\n",
    "j.set_title('Distribution of Sentiment Compound Scores of Airbnb Reiews')\n",
    "ax.set_yticklabels(['{:,}'.format(int(y)) for y in ax.get_yticks()]);"
   ]
  },
  {
   "cell_type": "markdown",
   "metadata": {},
   "source": [
    "### Positive, neutral, and negative review counts"
   ]
  },
  {
   "cell_type": "code",
   "execution_count": 63,
   "metadata": {},
   "outputs": [
    {
     "data": {
      "image/png": "[encoded data removed]",
      "text/plain": [
       "<Figure size 720x432 with 1 Axes>"
      ]
     },
     "metadata": {},
     "output_type": "display_data"
    }
   ],
   "source": [
    "#Set plot\n",
    "fig, ax = plt.subplots(figsize=(10,6))\n",
    "\n",
    "#plot data\n",
    "g =sns.countplot(x='label', data = df,order = ['positive', 'neutral', 'negative'], color='powderblue')\n",
    "\n",
    "#Set plot aesthetics\n",
    "g.set_title('Label Counts ')\n",
    "g.set_yticklabels(['{:,}'.format(int(y)) for y in ax.get_yticks()]);"
   ]
  },
  {
   "cell_type": "markdown",
   "metadata": {},
   "source": [
    "### Create positive and negative dataframes and corpora "
   ]
  },
  {
   "cell_type": "code",
   "execution_count": 64,
   "metadata": {},
   "outputs": [],
   "source": [
    "#Create pos/negative df's\n",
    "pos_df = df[df.label == 'positive']\n",
    "neg_df = df[df.label == 'negative']\n",
    "\n",
    "#Create pos/neg corpora\n",
    "pos_comments = pos_df['comments'].tolist()\n",
    "neg_comments = neg_df['comments'].tolist()"
   ]
  },
  {
   "cell_type": "markdown",
   "metadata": {},
   "source": [
    "### Distribution of review lengths for positive and negative reviews"
   ]
  },
  {
   "cell_type": "code",
   "execution_count": 65,
   "metadata": {},
   "outputs": [
    {
     "data": {
      "image/png": "[encoded data removed]",
      "text/plain": [
       "<Figure size 720x432 with 1 Axes>"
      ]
     },
     "metadata": {},
     "output_type": "display_data"
    }
   ],
   "source": [
    "#Set plot\n",
    "fig, ax = plt.subplots(figsize=(10,6))\n",
    "\n",
    "#Plot Histograms for word count\n",
    "sns.distplot(pos_df.word_count, kde = True, bins = 100, color = 'tab:blue', ax=ax)\n",
    "sns.distplot(neg_df.word_count, kde = True, bins = 100, color = 'r', ax=ax)\n",
    "\n",
    "#Set plot aesthetics\n",
    "ax.legend(labels = ['Positive Reviews', 'Negative Reviews', 'Neutral Reviews'], frameon = True);\n",
    "ax.set_title('Airbnb Review Length Distribution')\n",
    "ax.set_xlabel('Words Used');"
   ]
  },
  {
   "cell_type": "markdown",
   "metadata": {},
   "source": [
    "### Word clouds of positive and negative reviews"
   ]
  },
  {
   "cell_type": "code",
   "execution_count": 66,
   "metadata": {},
   "outputs": [],
   "source": [
    "#Import libraries \n",
    "from wordcloud import WordCloud, STOPWORDS, ImageColorGenerator\n",
    "from PIL import Image"
   ]
  },
  {
   "cell_type": "markdown",
   "metadata": {},
   "source": [
    "**Postive Reviews Wordcloud**"
   ]
  },
  {
   "cell_type": "code",
   "execution_count": null,
   "metadata": {},
   "outputs": [],
   "source": [
    "#Import stopwords\n",
    "from nltk.corpus import stopwords, wordnet\n",
    "stop_words = stopwords.words('english')\n",
    "\n",
    "#Add additional stop words\n",
    "stop_words.extend(['airbnb','website hidden by airbnb'])\n",
    "\n",
    "#Create wordcloud for postive reviews\n",
    "wordcloud = WordCloud(max_font_size=400, max_words=75, background_color=\"peachpuff\", stopwords=stop_words,\n",
    "                      width= 3000, height = 3000).generate(str(pos_comments))\n",
    "\n",
    "#Plot data and set plot aesthetics\n",
    "plt.figure(figsize=(12, 10))\n",
    "plt.imshow(wordcloud, interpolation = 'bilinear')\n",
    "plt.axis(\"off\")\n",
    "plt.title('Positive Comments\\n', fontsize=18, fontweight='bold')\n",
    "plt.show()"
   ]
  },
  {
   "cell_type": "markdown",
   "metadata": {},
   "source": [
    "**Negative Reviews Wordcloud**"
   ]
  },
  {
   "cell_type": "code",
   "execution_count": null,
   "metadata": {},
   "outputs": [],
   "source": [
    "#Create wordcloud for postive reviews\n",
    "wordcloud = WordCloud(max_font_size=400, max_words=75, background_color=\"lavender\",stopwords=stop_words,\n",
    "                      width= 3000, height = 3000).generate(str(neg_comments))\n",
    "\n",
    "#Plot data and set plot aesthetics\n",
    "plt.figure(figsize=(12, 10))\n",
    "plt.imshow(wordcloud, interpolation = 'bilinear')\n",
    "plt.axis(\"off\")\n",
    "plt.title('Negative Comments\\n', fontsize=18, fontweight='bold')\n",
    "plt.show()"
   ]
  },
  {
   "cell_type": "markdown",
   "metadata": {},
   "source": [
    "**Frequency Distributions**"
   ]
  },
  {
   "cell_type": "code",
   "execution_count": null,
   "metadata": {},
   "outputs": [],
   "source": [
    "from sklearn.feature_extraction.text import CountVectorizer\n",
    "from yellowbrick.text.freqdist import FreqDistVisualizer\n",
    "from yellowbrick.style import set_palette\n",
    "\n",
    "#Vectorize comments and also remove stop words\n",
    "cv = CountVectorizer(stop_words=stop_words)\n",
    "positive_docs = cv.fit_transform(pos_comments)\n",
    "features = cv.get_feature_names()\n",
    "\n",
    "#Preparing the plot\n",
    "set_palette('pastel')\n",
    "plt.figure(figsize=(16,10))\n",
    "plt.title('The Top 30 most frequently used words in Positive  Airbnb Reviews\\n', fontsize = 18, fontweight='bold')\n",
    "\n",
    "# instantiating and fitting the FreqDistVisualizer, plotting the top 30 most frequent terms\n",
    "visualizer = FreqDistVisualizer(features=features, n=30, orient='h')\n",
    "visualizer.fit(positive_docs)\n",
    "visualizer.poof;"
   ]
  },
  {
   "cell_type": "code",
   "execution_count": null,
   "metadata": {},
   "outputs": [],
   "source": [
    "from sklearn.feature_extraction.text import CountVectorizer\n",
    "from yellowbrick.text.freqdist import FreqDistVisualizer\n",
    "\n",
    "#Vectorize comments and also remove stop words\n",
    "cv = CountVectorizer(stop_words=stop_words)\n",
    "negative_docs = cv.fit_transform(neg_comments)\n",
    "features = cv.get_feature_names()\n",
    "\n",
    "#Preparing the plot\n",
    "plt.figure(figsize=(16,10))\n",
    "plt.title('The Top 30 most frequently used words in Negative Airbnb Reviews\\n', fontsize = 18, fontweight='bold')\n",
    "\n",
    "# instantiating and fitting the FreqDistVisualizer, plotting the top 30 most frequent terms\n",
    "visualizer = FreqDistVisualizer(features=features, n=30, orient='h')\n",
    "visualizer.fit(negative_docs)\n",
    "visualizer.poof;"
   ]
  },
  {
   "cell_type": "markdown",
   "metadata": {},
   "source": [
    "# Topic modeling \n",
    "\n",
    "Topic modeling will be performed seperately for positive and negative reviews due to the fact that a large majority of the reviews are positive reviews. Additionally, due to the sheer number of reviews, we will focus our topic analysis on the most positive and negative user experiecnes in the data set"
   ]
  },
  {
   "cell_type": "markdown",
   "metadata": {},
   "source": [
    "### Import libraries"
   ]
  },
  {
   "cell_type": "code",
   "execution_count": null,
   "metadata": {},
   "outputs": [],
   "source": [
    "# Gensim\n",
    "import gensim\n",
    "import gensim.corpora as corpora\n",
    "from gensim.utils import simple_preprocess\n",
    "from gensim.models import CoherenceModel\n",
    "\n",
    "# Import spacy for lemmatization\n",
    "import spacy\n",
    "import en_core_web_lg\n",
    "nlp = en_core_web_lg.load()\n",
    "\n",
    "#Reg exp\n",
    "import re\n",
    "\n",
    "# Plotting tools\n",
    "import pyLDAvis\n",
    "import pyLDAvis.gensim  \n",
    "import matplotlib.pyplot as plt"
   ]
  },
  {
   "cell_type": "markdown",
   "metadata": {},
   "source": [
    "### Data Preparation"
   ]
  },
  {
   "cell_type": "code",
   "execution_count": null,
   "metadata": {},
   "outputs": [],
   "source": [
    "#How many really negative and positive reviews are there?\n",
    "print(\"Number of reviews with a sentiment score < -.9: \",len(df[df.sentiment_compound < -.9]))\n",
    "print(\"Number of reviews with a sentiment score > .9: \",len(df[df.sentiment_compound>.9]))\n",
    "\n",
    "#Subset all negative reviews < -.9\n",
    "neg_reviews = df[df.sentiment_compound < -.9]\n",
    "\n",
    "#Subset every 500th all positive reviews > .9 \n",
    "pos_reviews = df[df.sentiment_compound >.9][::100]\n",
    "\n",
    "#Update pos/neg corpora\n",
    "pos_comments = pos_reviews['comments'].tolist()\n",
    "neg_comments = neg_reviews['comments'].tolist()\n",
    "\n",
    "pos_comments[0]"
   ]
  },
  {
   "cell_type": "markdown",
   "metadata": {},
   "source": [
    "### Functions for data cleaning and tokenization"
   ]
  },
  {
   "cell_type": "code",
   "execution_count": null,
   "metadata": {},
   "outputs": [],
   "source": [
    "#Tokenize each sentence into a list of words and remove punctuation\n",
    "def tokenizer(raw_reviews):\n",
    "    for review in raw_reviews:\n",
    "        yield(gensim.utils.simple_preprocess(review, deacc=True))\n",
    "        \n",
    "#Remove stopwords\n",
    "def remove_stopwords(texts):\n",
    "    texts = [texts.remove(text) if len(text) <3 else text for text in texts] #remove texts with len <3\n",
    "    texts = [text for text in texts if text] #Remove None from texts\n",
    "    return [[word for word in simple_preprocess(str(doc)) if word not in stop_words] for doc in texts]"
   ]
  },
  {
   "cell_type": "markdown",
   "metadata": {},
   "source": [
    "### Functions for bigram and trigram creation"
   ]
  },
  {
   "cell_type": "markdown",
   "metadata": {},
   "source": [
    "Creating Bigram and Trigram Models"
   ]
  },
  {
   "cell_type": "code",
   "execution_count": null,
   "metadata": {},
   "outputs": [],
   "source": [
    "#Build bigram and trigram models\n",
    "bigram = gensim.models.Phrases(pos_comments,min_count=2, threshold=100)#Might need to increse with full data set\n",
    "trigram = gensim.models.Phrases(bigram[pos_comments], threshold=100)\n",
    "\n",
    "# Faster way to get a sentence clubbed as a trigram/bigram\n",
    "bigram_mod = gensim.models.phrases.Phraser(bigram)\n",
    "trigram_mod = gensim.models.phrases.Phraser(trigram)"
   ]
  },
  {
   "cell_type": "code",
   "execution_count": null,
   "metadata": {},
   "outputs": [],
   "source": [
    "#Create functions to create bi/trigrams.\n",
    "def bigrams(tokens):\n",
    "    return[bigram_mod[token] for token in tokens]\n",
    "\n",
    "def trigrams(tokens):\n",
    "    return[trigram_mod[bigram_mod[token]] for token in tokens]"
   ]
  },
  {
   "cell_type": "markdown",
   "metadata": {},
   "source": [
    "## Topic Modeling for Positive Reviews"
   ]
  },
  {
   "cell_type": "markdown",
   "metadata": {},
   "source": [
    "### Data preparation"
   ]
  },
  {
   "cell_type": "code",
   "execution_count": null,
   "metadata": {},
   "outputs": [],
   "source": [
    "#Tokenize pos_comments\n",
    "pos_tokens = list(tokenizer(pos_comments))\n",
    "\n",
    "#Remove stopwords from pos_tokens\n",
    "pos_tokens_clean = remove_stopwords(pos_tokens)\n",
    "\n",
    "#lemmatize pos_tokens_clean\n",
    "words = pos_tokens_clean\n",
    "lengths = np.cumsum([0] + list(map(len, words)))\n",
    "\n",
    "flat_words = [item for sublist in words for item in sublist]\n",
    "doc = spacy.tokens.Doc(nlp.vocab, words=flat_words)\n",
    "\n",
    "pos_lemmatized = []\n",
    "# Iterate starting with 1\n",
    "for index in range(1, len(lengths)):\n",
    "    # Slice doc as described in the first point, so [0:3] and [3:6]\n",
    "    span = doc[lengths[index - 1] : lengths[index]]\n",
    "    # Add lemmatized tokens as list to the list\n",
    "    pos_lemmatized.append([token.lemma_ for token in span])\n",
    "\n",
    "print(pos_lemmatized[0])"
   ]
  },
  {
   "cell_type": "markdown",
   "metadata": {},
   "source": [
    "Bag of Words"
   ]
  },
  {
   "cell_type": "code",
   "execution_count": null,
   "metadata": {},
   "outputs": [],
   "source": [
    "dictionary = corpora.Dictionary(documents=pos_lemmatized)\n",
    "print(len(dictionary))\n",
    "\n",
    "#Filter pos_lemmatized. Remove tokens that apppear in <15 documents and in more than 50% of the documents\n",
    "dictionary.filter_extremes(no_below=5, no_above=0.5, keep_n=100000)\n",
    "bow_corpus = [dictionary.doc2bow(text) for text in pos_lemmatized]\n",
    "\n",
    "\n",
    "print('Number of unique words in dictionary for positive reviews:', len(dictionary))\n",
    "\n",
    "#Preview Bag Of Words for our sample preprocessed document.\n",
    "bow_doc_1 = bow_corpus[1]\n",
    "for i in range(len(bow_doc_1)):\n",
    "    print(\"Word {} (\\\"{}\\\") appears {} time.\".format(bow_doc_1[i][0], \n",
    "                                               dictionary[bow_doc_1[i][0]], bow_doc_1[i][1]))"
   ]
  },
  {
   "cell_type": "markdown",
   "metadata": {},
   "source": [
    "TF-IDF"
   ]
  },
  {
   "cell_type": "code",
   "execution_count": null,
   "metadata": {},
   "outputs": [],
   "source": [
    "from gensim import models\n",
    "tfidf = models.TfidfModel(bow_corpus)\n",
    "corpus_tfidf = tfidf[bow_corpus]\n",
    "\n",
    "#check\n",
    "from pprint import pprint\n",
    "for doc in corpus_tfidf:\n",
    "    pprint(doc)\n",
    "    break"
   ]
  },
  {
   "cell_type": "markdown",
   "metadata": {},
   "source": [
    "LDA 10 Topics"
   ]
  },
  {
   "cell_type": "code",
   "execution_count": null,
   "metadata": {},
   "outputs": [],
   "source": [
    "#create model on bow_corpus\n",
    "lda_model = gensim.models.LdaMulticore(corpus = bow_corpus, num_topics=10,workers=3, id2word=dictionary)\n",
    "\n",
    "#explore topics and relative weight\n",
    "for idx, topic in lda_model.print_topics(-1):\n",
    "    print('Topic: {} \\nWords: {}'.format(idx, topic))"
   ]
  },
  {
   "cell_type": "code",
   "execution_count": null,
   "metadata": {},
   "outputs": [],
   "source": [
    "#Create plot\n",
    "pyLDAvis.enable_notebook()\n",
    "\n",
    "vis = pyLDAvis.gensim.prepare(lda_model, bow_corpus, dictionary)\n",
    "vis"
   ]
  },
  {
   "cell_type": "code",
   "execution_count": null,
   "metadata": {},
   "outputs": [],
   "source": [
    "#create model on corpus_tfidf\n",
    "lda_model = gensim.models.LdaMulticore(corpus = corpus_tfidf, num_topics=10,workers=3, id2word=dictionary)\n",
    "\n",
    "#explore topics and relative weight\n",
    "for idx, topic in lda_model.print_topics(-1):\n",
    "    print('Topic: {} \\nWords: {}'.format(idx, topic))"
   ]
  },
  {
   "cell_type": "code",
   "execution_count": null,
   "metadata": {},
   "outputs": [],
   "source": [
    "#Create plot\n",
    "pyLDAvis.enable_notebook()\n",
    "\n",
    "vis = pyLDAvis.gensim.prepare(lda_model, corpus_tfidf, dictionary)\n",
    "vis"
   ]
  },
  {
   "cell_type": "code",
   "execution_count": null,
   "metadata": {},
   "outputs": [],
   "source": [
    "dfdfdaf "
   ]
  },
  {
   "cell_type": "code",
   "execution_count": null,
   "metadata": {},
   "outputs": [],
   "source": []
  },
  {
   "cell_type": "code",
   "execution_count": null,
   "metadata": {},
   "outputs": [],
   "source": [
    "#Filter words that occur in less than 10 documents or more than 25% of documents\n",
    "dictionary.filter_extremes(no_below= 10,no_above=.25 )\n",
    "\n",
    "print('Number of unique words after removing rare and common words: {}'.format(len(dictionary)))"
   ]
  },
  {
   "cell_type": "code",
   "execution_count": null,
   "metadata": {},
   "outputs": [],
   "source": [
    "#Vectorize data\n",
    "corpus = [dictionary.doc2bow(doc) for doc in docs]"
   ]
  },
  {
   "cell_type": "code",
   "execution_count": null,
   "metadata": {},
   "outputs": [],
   "source": [
    "#Initialize Tfidf and fit to corpus\n",
    "tfidf = models.TfidfModel(corpus)\n",
    "\n",
    "#Scale and transform corpus\n",
    "transformed_tfidf = tfidf[corpus]\n",
    "\n",
    "#Fit transformed data to Lda\n",
    "lda = models.LdaMulticore(corpus= transformed_tfidf, num_topics=10, id2word=dictionary)"
   ]
  },
  {
   "cell_type": "code",
   "execution_count": null,
   "metadata": {},
   "outputs": [],
   "source": [
    "#Import pyLDAvis to visualize topics found in LDA\n",
    "import pyLDAvis.gensim\n",
    "pyLDAvis.enable_notebook()\n",
    "\n",
    "#Create plot\n",
    "vis = pyLDAvis.gensim.prepare(lda, corpus, dictionary)\n",
    "vis"
   ]
  },
  {
   "cell_type": "code",
   "execution_count": null,
   "metadata": {},
   "outputs": [],
   "source": []
  },
  {
   "cell_type": "code",
   "execution_count": null,
   "metadata": {},
   "outputs": [],
   "source": []
  },
  {
   "cell_type": "code",
   "execution_count": null,
   "metadata": {},
   "outputs": [],
   "source": []
  },
  {
   "cell_type": "markdown",
   "metadata": {},
   "source": [
    "Creating Bigram and Trigram Models"
   ]
  },
  {
   "cell_type": "code",
   "execution_count": null,
   "metadata": {},
   "outputs": [],
   "source": [
    "#Build bigram and trigram models\n",
    "bigram = gensim.models.Phrases(pos_comments,min_count=2, threshold=100)#Might need to increse with full data set\n",
    "trigram = gensim.models.Phrases(bigram[pos_comments], threshold=100)\n",
    "\n",
    "# Faster way to get a sentence clubbed as a trigram/bigram\n",
    "bigram_mod = gensim.models.phrases.Phraser(bigram)\n",
    "trigram_mod = gensim.models.phrases.Phraser(trigram)"
   ]
  },
  {
   "cell_type": "markdown",
   "metadata": {},
   "source": [
    "Make positive bigrams and trigrams"
   ]
  },
  {
   "cell_type": "code",
   "execution_count": null,
   "metadata": {},
   "outputs": [],
   "source": [
    "#Create bigrams of positve lemma\n",
    "pos_bigrams = bigrams(pos_comments)\n",
    "\n",
    "#Create trigrams of positve lemma\n",
    "pos_trigrams = trigrams(pos_comments)"
   ]
  },
  {
   "cell_type": "code",
   "execution_count": null,
   "metadata": {},
   "outputs": [],
   "source": [
    "print(bigrams[1])\n",
    "print('\\n',trigrams[1])"
   ]
  },
  {
   "cell_type": "code",
   "execution_count": null,
   "metadata": {},
   "outputs": [],
   "source": [
    "#lemmatize bigrams and trigrams\n",
    "from nltk.stem import WordNetLemmatizer\n",
    "\n",
    "#Init WordNetLemmatizer\n",
    "lemmatizer = WordNetLemmatizer()\n",
    "\n",
    "def lemmatize(tokens):\n",
    "    normalized = \" \".join(lemmatizer.lemmatize(word) for word in tokens.split())\n",
    "    return normalized\n",
    "\n",
    "temp = lemmatize(bigrams)"
   ]
  },
  {
   "cell_type": "code",
   "execution_count": null,
   "metadata": {},
   "outputs": [],
   "source": [
    "temp[1]"
   ]
  },
  {
   "cell_type": "code",
   "execution_count": null,
   "metadata": {},
   "outputs": [],
   "source": [
    "# Initialize spacy 'en' model, keeping only tagger component (for efficiency)\n",
    "nlp = spacy.load('en_core_web_sm', disable=['parser', 'ner'])\n",
    "\n",
    "#apply lemmatization keeping only noun, adj, vb, adv to bigrams and trigrams\n",
    "bigrams_lemmatized = lemmatization(bigrams)\n",
    "trigrams_lemmatized = lemmatization(trigrams)\n",
    "\n",
    "print(bigrams_lemmatized[:1])"
   ]
  },
  {
   "cell_type": "markdown",
   "metadata": {},
   "source": [
    "Create the Dictionary and Corpus needed for Topic Modeling"
   ]
  },
  {
   "cell_type": "markdown",
   "metadata": {},
   "source": [
    "View the topics in LDA model"
   ]
  },
  {
   "cell_type": "code",
   "execution_count": null,
   "metadata": {},
   "outputs": [],
   "source": []
  },
  {
   "cell_type": "markdown",
   "metadata": {},
   "source": [
    "Visualize "
   ]
  },
  {
   "cell_type": "code",
   "execution_count": null,
   "metadata": {},
   "outputs": [],
   "source": []
  },
  {
   "cell_type": "code",
   "execution_count": null,
   "metadata": {},
   "outputs": [],
   "source": [
    "# Create Dictionary\n",
    "id2word = corpora.Dictionary(df.comments_lemma)\n",
    "\n",
    "# # Create Corpus\n",
    "# texts = data_lemmatized\n",
    "\n",
    "# # Term Document Frequency\n",
    "# corpus = [id2word.doc2bow(text) for text in texts]\n",
    "\n",
    "# # View\n",
    "# print(corpus[:1])"
   ]
  },
  {
   "cell_type": "markdown",
   "metadata": {},
   "source": [
    "Top unigrams"
   ]
  },
  {
   "cell_type": "markdown",
   "metadata": {},
   "source": [
    "Top bigrams"
   ]
  },
  {
   "cell_type": "markdown",
   "metadata": {},
   "source": [
    "Top Trigrams"
   ]
  },
  {
   "cell_type": "code",
   "execution_count": null,
   "metadata": {},
   "outputs": [],
   "source": []
  },
  {
   "cell_type": "code",
   "execution_count": null,
   "metadata": {},
   "outputs": [],
   "source": []
  },
  {
   "cell_type": "code",
   "execution_count": null,
   "metadata": {},
   "outputs": [],
   "source": []
  },
  {
   "cell_type": "code",
   "execution_count": null,
   "metadata": {},
   "outputs": [],
   "source": []
  },
  {
   "cell_type": "code",
   "execution_count": null,
   "metadata": {},
   "outputs": [],
   "source": []
  },
  {
   "cell_type": "code",
   "execution_count": null,
   "metadata": {},
   "outputs": [],
   "source": []
  },
  {
   "cell_type": "code",
   "execution_count": null,
   "metadata": {},
   "outputs": [],
   "source": [
    "#What are the most popular words in positive reviews?"
   ]
  },
  {
   "cell_type": "code",
   "execution_count": null,
   "metadata": {},
   "outputs": [],
   "source": [
    "#Import count vectorizer\n",
    "from sklearn.feature_extraction.text import CountVectorizer\n",
    "\n",
    "count = CountVectorizer(stop_words='english').fit(positive_reviews.comments)\n",
    "\n",
    "print('Vocabulary used in positive reviews: {}'.format(len(count.vocabulary_)))\n",
    "\n",
    "bow = count.transform(positive_reviews.comments)\n",
    "sum_words = bow.sum(axis=0)\n",
    "\n",
    "#we sort a list of tuples that contain the word and their occurrence in the corpus\n",
    "words_freq = [(word, sum_words[0, idx]) for word, idx in count.vocabulary_.items()]\n",
    "words_freq =sorted(words_freq, key = lambda x: x[1], reverse=True)"
   ]
  },
  {
   "cell_type": "markdown",
   "metadata": {},
   "source": [
    "# Topic modeling and document clustering for postive reviews"
   ]
  },
  {
   "cell_type": "code",
   "execution_count": null,
   "metadata": {},
   "outputs": [],
   "source": [
    "#Import libraries\n",
    "import gensim\n",
    "from gensim.parsing.preprocessing import preprocess_string\n",
    "from gensim.models import Phrases\n",
    "from gensim import corpora, models, similarities"
   ]
  },
  {
   "cell_type": "code",
   "execution_count": null,
   "metadata": {},
   "outputs": [],
   "source": [
    "#Apply preprocess and stem original comments\n",
    "docs = np.array(positive_reviews['comments'].apply(preprocess_string))\n",
    "\n",
    "# Add bigrams and trigrams to docs (only ones that appear 10 times or more).\n",
    "bigram = Phrases(docs, min_count=10)\n",
    "trigram = Phrases(bigram[docs])\n",
    "\n",
    "for idx in range(len(docs)):\n",
    "    for token in bigram[docs[idx]]:\n",
    "        if '_' in token:\n",
    "            # Token is a bigram, add to document.\n",
    "            docs[idx].append(token)\n",
    "    for token in trigram[docs[idx]]:\n",
    "        if '_' in token:\n",
    "            # Token is a bigram, add to document.\n",
    "            docs[idx].append(token)"
   ]
  },
  {
   "cell_type": "code",
   "execution_count": null,
   "metadata": {},
   "outputs": [],
   "source": [
    "#Create dictionary of tokens and print info\n",
    "dictionary = corpora.Dictionary(docs)\n",
    "print('Number of unique words in original documents: {}'.format(len(dictionary)))"
   ]
  },
  {
   "cell_type": "markdown",
   "metadata": {},
   "source": [
    "**Remove rare or common tokens**"
   ]
  },
  {
   "cell_type": "code",
   "execution_count": null,
   "metadata": {},
   "outputs": [],
   "source": [
    "#Filter words that occur in less than 10 documents or more than 25% of documents\n",
    "dictionary.filter_extremes(no_below= 10,no_above=.25 )\n",
    "\n",
    "print('Number of unique words after removing rare and common words: {}'.format(len(dictionary)))"
   ]
  },
  {
   "cell_type": "code",
   "execution_count": null,
   "metadata": {},
   "outputs": [],
   "source": [
    "#Vectorize data\n",
    "corpus = [dictionary.doc2bow(doc) for doc in docs]"
   ]
  },
  {
   "cell_type": "code",
   "execution_count": null,
   "metadata": {},
   "outputs": [],
   "source": [
    "#Initialize Tfidf and fit to corpus\n",
    "tfidf = models.TfidfModel(corpus)\n",
    "\n",
    "#Scale and transform corpus\n",
    "transformed_tfidf = tfidf[corpus]\n",
    "\n",
    "#Fit transformed data to Lda\n",
    "lda = models.LdaMulticore(corpus= transformed_tfidf, num_topics=10, id2word=dictionary)"
   ]
  },
  {
   "cell_type": "code",
   "execution_count": null,
   "metadata": {},
   "outputs": [],
   "source": [
    "#Import pyLDAvis to visualize topics found in LDA\n",
    "import pyLDAvis.gensim\n",
    "pyLDAvis.enable_notebook()\n",
    "\n",
    "#Create plot\n",
    "vis = pyLDAvis.gensim.prepare(lda, corpus, dictionary)\n",
    "vis"
   ]
  },
  {
   "cell_type": "markdown",
   "metadata": {},
   "source": [
    "**Takeaways**"
   ]
  },
  {
   "cell_type": "markdown",
   "metadata": {},
   "source": [
    "## Negative Reviews"
   ]
  },
  {
   "cell_type": "markdown",
   "metadata": {},
   "source": [
    "**Wordcloud of negative comments**"
   ]
  },
  {
   "cell_type": "code",
   "execution_count": null,
   "metadata": {},
   "outputs": [],
   "source": []
  },
  {
   "cell_type": "markdown",
   "metadata": {},
   "source": [
    "#What are the most popular words in negative reviews?"
   ]
  },
  {
   "cell_type": "code",
   "execution_count": null,
   "metadata": {},
   "outputs": [],
   "source": [
    "#Instantiate CountVectorizer and fit to comments\n",
    "count = CountVectorizer(stop_words='english').fit(df.comments)\n",
    "\n",
    "#Print length of unique words in negative comments\n",
    "print('Vocabulary used in negative reviews: {}'.format(len(count.vocabulary_)))\n",
    "\n",
    "#Create bag of words from comments\n",
    "bow = count.transform(negative_reviews.comments)\n",
    "sum_words = bow.sum(axis=0)\n",
    "\n",
    "#we sort a list of tuples that contain the word and their occurrence in the corpus\n",
    "words_freq = [(word, sum_words[0, idx]) for word, idx in count.vocabulary_.items()]\n",
    "words_freq =sorted(words_freq, key = lambda x: x[1], reverse=True)"
   ]
  },
  {
   "cell_type": "code",
   "execution_count": null,
   "metadata": {},
   "outputs": [],
   "source": [
    "#Create df with vocab and their corresponding counts \n",
    "negative_words = pd.DataFrame(words_freq, columns =['Word', 'Count']) "
   ]
  },
  {
   "cell_type": "code",
   "execution_count": null,
   "metadata": {},
   "outputs": [],
   "source": [
    "#Capture the 30 most used words\n",
    "negative_words = negative_words.head(30)\n",
    "\n",
    "#Plot\n",
    "fig,ax = plt.subplots(figsize = (10,10))\n",
    "negative_words.sort_values(by='Count').plot(x = 'Word',y='Count',kind='barh', ax=ax, color = 'skyblue')\n",
    "\n",
    "#Set plot aesthetics\n",
    "ax.set_title('Most Common Words used in Negative Airbnb Reviews')\n",
    "ax.set_ylabel('')"
   ]
  },
  {
   "cell_type": "code",
   "execution_count": null,
   "metadata": {},
   "outputs": [],
   "source": [
    "#Topic modeling for negative reviews"
   ]
  },
  {
   "cell_type": "code",
   "execution_count": null,
   "metadata": {},
   "outputs": [],
   "source": [
    "#Apply preprocess and stem original comments\n",
    "docs = np.array(df['comments'].apply(preprocess_string))\n",
    "\n",
    "# Add bigrams and trigrams to docs (only ones that appear 10 times or more).\n",
    "bigram = Phrases(docs, min_count=10)\n",
    "trigram = Phrases(bigram[docs])\n",
    "\n",
    "for idx in range(len(docs)):\n",
    "    for token in bigram[docs[idx]]:\n",
    "        if '_' in token:\n",
    "            # Token is a bigram, add to document.\n",
    "            docs[idx].append(token)\n",
    "    for token in trigram[docs[idx]]:\n",
    "        if '_' in token:\n",
    "            # Token is a bigram, add to document.\n",
    "            docs[idx].append(token)"
   ]
  },
  {
   "cell_type": "code",
   "execution_count": null,
   "metadata": {},
   "outputs": [],
   "source": [
    "#Create dictionary of tokens and print info\n",
    "dictionary = corpora.Dictionary(docs)\n",
    "print('Number of unique words in original documents: {}'.format(len(dictionary)))"
   ]
  },
  {
   "cell_type": "markdown",
   "metadata": {},
   "source": [
    "**Remove rare or common tokens**"
   ]
  },
  {
   "cell_type": "code",
   "execution_count": null,
   "metadata": {},
   "outputs": [],
   "source": [
    "#Filter words that occur in less than 10 documents or more than 25% of documents\n",
    "dictionary.filter_extremes(no_below= 10,no_above=.25 )\n",
    "\n",
    "print('Number of unique words after removing rare and common words: {}'.format(len(dictionary)))"
   ]
  },
  {
   "cell_type": "code",
   "execution_count": null,
   "metadata": {},
   "outputs": [],
   "source": [
    "#Vectorize data\n",
    "corpus = [dictionary.doc2bow(doc) for doc in docs]"
   ]
  },
  {
   "cell_type": "code",
   "execution_count": null,
   "metadata": {},
   "outputs": [],
   "source": [
    "#Initialize Tfidf and fit to corpus\n",
    "tfidf = models.TfidfModel(corpus)\n",
    "\n",
    "#Scale and transform corpus\n",
    "transformed_tfidf = tfidf[corpus]\n",
    "\n",
    "#Fit transformed data to Lda\n",
    "lda = models.LdaMulticore(corpus= transformed_tfidf, num_topics=10, id2word=dictionary)"
   ]
  },
  {
   "cell_type": "code",
   "execution_count": null,
   "metadata": {},
   "outputs": [],
   "source": [
    "#Create plot\n",
    "vis = pyLDAvis.gensim.prepare(lda, corpus, dictionary)\n",
    "vis"
   ]
  },
  {
   "cell_type": "code",
   "execution_count": null,
   "metadata": {},
   "outputs": [],
   "source": []
  },
  {
   "cell_type": "markdown",
   "metadata": {},
   "source": [
    "Build classifier that can classify postive and negative reviews\n",
    "What words are the most important to each?"
   ]
  },
  {
   "cell_type": "code",
   "execution_count": null,
   "metadata": {},
   "outputs": [],
   "source": []
  },
  {
   "cell_type": "code",
   "execution_count": null,
   "metadata": {},
   "outputs": [],
   "source": [
    "#what insights can you gain?"
   ]
  },
  {
   "cell_type": "markdown",
   "metadata": {},
   "source": [
    "Extract Additional insights from Comments (NLP book chapter 7)"
   ]
  },
  {
   "cell_type": "code",
   "execution_count": null,
   "metadata": {},
   "outputs": [],
   "source": []
  },
  {
   "cell_type": "code",
   "execution_count": null,
   "metadata": {},
   "outputs": [],
   "source": []
  },
  {
   "cell_type": "code",
   "execution_count": null,
   "metadata": {},
   "outputs": [],
   "source": []
  },
  {
   "cell_type": "code",
   "execution_count": null,
   "metadata": {},
   "outputs": [],
   "source": []
  },
  {
   "cell_type": "code",
   "execution_count": null,
   "metadata": {},
   "outputs": [],
   "source": []
  }
 ],
 "metadata": {
  "kernelspec": {
   "display_name": "myenv",
   "language": "python",
   "name": "myenv"
  },
  "language_info": {
   "codemirror_mode": {
    "name": "ipython",
    "version": 3
   },
   "file_extension": ".py",
   "mimetype": "text/x-python",
   "name": "python",
   "nbconvert_exporter": "python",
   "pygments_lexer": "ipython3",
   "version": "3.8.1"
  },
  "toc-autonumbering": true,
  "toc-showmarkdowntxt": false,
  "toc-showtags": false
 },
 "nbformat": 4,
 "nbformat_minor": 4
}
