{
 "cells": [
  {
   "cell_type": "markdown",
   "metadata": {},
   "source": [
    "Model Evaluation on Test Data"
   ]
  },
  {
   "cell_type": "markdown",
   "metadata": {},
   "source": [
    "# Introduction"
   ]
  },
  {
   "cell_type": "markdown",
   "metadata": {},
   "source": [
    "## Read in libraries, set notebook preferences, and read in data"
   ]
  },
  {
   "cell_type": "code",
   "execution_count": 45,
   "metadata": {},
   "outputs": [],
   "source": [
    "import pandas as pd\n",
    "import numpy as np\n",
    "\n",
    "import matplotlib.pyplot as plt\n",
    "import seaborn as sns\n",
    "\n",
    "from sklearn.externals import joblib"
   ]
  },
  {
   "cell_type": "code",
   "execution_count": 46,
   "metadata": {},
   "outputs": [],
   "source": [
    "#Set options for Pandas\n",
    "pd.set_option('display.max_rows', 200)\n",
    "pd.set_option('display.max_columns', 200)\n",
    "\n",
    "#Set stle for plots\n",
    "plt.style.use('ggplot')"
   ]
  },
  {
   "cell_type": "code",
   "execution_count": 47,
   "metadata": {},
   "outputs": [
    {
     "name": "stdout",
     "output_type": "stream",
     "text": [
      "View Model: \n",
      " GridSearchCV(cv=10, error_score='raise-deprecating',\n",
      "             estimator=RandomForestRegressor(bootstrap=True, criterion='mse',\n",
      "                                             max_depth=None,\n",
      "                                             max_features='auto',\n",
      "                                             max_leaf_nodes=None,\n",
      "                                             min_impurity_decrease=0.0,\n",
      "                                             min_impurity_split=None,\n",
      "                                             min_samples_leaf=1,\n",
      "                                             min_samples_split=2,\n",
      "                                             min_weight_fraction_leaf=0.0,\n",
      "                                             n_estimators='warn', n_jobs=-1,\n",
      "                                             oob_score=False, random_state=42,\n",
      "                                             verbose=0, warm_start=False),\n",
      "             iid='warn', n_jobs=-1,\n",
      "             param_grid={'bootstrap': [False], 'max_depth': [35],\n",
      "                         'max_features': ['sqrt'], 'min_samples_leaf': [1],\n",
      "                         'min_samples_split': [5], 'n_estimators': [250]},\n",
      "             pre_dispatch='2*n_jobs', refit='r2', return_train_score=False,\n",
      "             scoring=['r2', 'neg_mean_absolute_error',\n",
      "                      'neg_mean_squared_error'],\n",
      "             verbose=1)\n"
     ]
    }
   ],
   "source": [
    "#Set path to model location\n",
    "path = r'C:\\Users\\kishe\\Documents\\Data Science\\Projects\\Python Projects\\In Progress\\Air BnB - SF\\Data\\04_Models'\n",
    "\n",
    "#Read in trained model\n",
    "model = joblib.load(path + '/2020_0128_Price_Predictor_Final.sav')\n",
    "\n",
    "#Check model\n",
    "print('View Model: \\n',model)"
   ]
  },
  {
   "cell_type": "code",
   "execution_count": 48,
   "metadata": {},
   "outputs": [
    {
     "name": "stdout",
     "output_type": "stream",
     "text": [
      "(16442, 82)\n",
      "(16442, 1)\n"
     ]
    }
   ],
   "source": [
    "#Read in test data and convert to arrays\n",
    "test_data = pd.read_csv(path +'/2020_0128_Test_Data.csv').values\n",
    "test_labels = pd.read_csv(path +'/2020_0128_Test_Labels.csv').values\n",
    "\n",
    "\n",
    "#Check test data shape\n",
    "print(test_data.shape)\n",
    "print(test_labels.shape)"
   ]
  },
  {
   "cell_type": "markdown",
   "metadata": {},
   "source": [
    "# Deploy"
   ]
  },
  {
   "cell_type": "code",
   "execution_count": 49,
   "metadata": {},
   "outputs": [
    {
     "name": "stdout",
     "output_type": "stream",
     "text": [
      "Fitting 10 folds for each of 1 candidates, totalling 10 fits\n"
     ]
    },
    {
     "name": "stderr",
     "output_type": "stream",
     "text": [
      "[Parallel(n_jobs=-1)]: Using backend LokyBackend with 8 concurrent workers.\n",
      "[Parallel(n_jobs=-1)]: Done   6 out of  10 | elapsed:   16.4s remaining:   10.9s\n",
      "[Parallel(n_jobs=-1)]: Done  10 out of  10 | elapsed:   21.1s finished\n",
      "C:\\Users\\kishe\\Miniconda3\\lib\\site-packages\\sklearn\\model_selection\\_search.py:715: DataConversionWarning: A column-vector y was passed when a 1d array was expected. Please change the shape of y to (n_samples,), for example using ravel().\n",
      "  self.best_estimator_.fit(X, y, **fit_params)\n"
     ]
    },
    {
     "data": {
      "text/plain": [
       "GridSearchCV(cv=10, error_score='raise-deprecating',\n",
       "             estimator=RandomForestRegressor(bootstrap=True, criterion='mse',\n",
       "                                             max_depth=None,\n",
       "                                             max_features='auto',\n",
       "                                             max_leaf_nodes=None,\n",
       "                                             min_impurity_decrease=0.0,\n",
       "                                             min_impurity_split=None,\n",
       "                                             min_samples_leaf=1,\n",
       "                                             min_samples_split=2,\n",
       "                                             min_weight_fraction_leaf=0.0,\n",
       "                                             n_estimators='warn', n_jobs=-1,\n",
       "                                             oob_score=False, random_state=42,\n",
       "                                             verbose=0, warm_start=False),\n",
       "             iid='warn', n_jobs=-1,\n",
       "             param_grid={'bootstrap': [False], 'max_depth': [35],\n",
       "                         'max_features': ['sqrt'], 'min_samples_leaf': [1],\n",
       "                         'min_samples_split': [5], 'n_estimators': [250]},\n",
       "             pre_dispatch='2*n_jobs', refit='r2', return_train_score=False,\n",
       "             scoring=['r2', 'neg_mean_absolute_error',\n",
       "                      'neg_mean_squared_error'],\n",
       "             verbose=1)"
      ]
     },
     "execution_count": 49,
     "metadata": {},
     "output_type": "execute_result"
    }
   ],
   "source": [
    "model.fit(test_data, test_labels)"
   ]
  },
  {
   "cell_type": "code",
   "execution_count": 50,
   "metadata": {},
   "outputs": [
    {
     "name": "stdout",
     "output_type": "stream",
     "text": [
      "Metrics: \n",
      "r2:  0.9034276275720847\n",
      "RMSE:  24.34752097226059\n",
      "MAE:  -13.316888370275406\n"
     ]
    }
   ],
   "source": [
    "#View model Metrics\n",
    "print('Metrics: \\nr2: ',np.mean(model.cv_results_['mean_test_r2']))\n",
    "print('RMSE: ',np.mean(np.sqrt(-1 * (model.cv_results_['mean_test_neg_mean_squared_error']))))\n",
    "print('MAE: ',np.mean(model.cv_results_['mean_test_neg_mean_absolute_error']))"
   ]
  },
  {
   "cell_type": "code",
   "execution_count": 51,
   "metadata": {},
   "outputs": [],
   "source": [
    "def feature_importance_viz(cols, ft_importances, feat_count, figsize):\n",
    "    df = pd.DataFrame(list(zip(cols,ft_importances)), columns = ['Feature', 'Relative_Importance'])\n",
    "    top50 = df.sort_values(by = 'Relative_Importance', ascending = False).head(feat_count)\n",
    "    ax = top50.plot(kind = 'barh', x='Feature', figsize=figsize,color = 'green') \n",
    "    ax.set_title('Top {} Relative Feature Importances'.format(feat_count))\n",
    "    ax.invert_yaxis()"
   ]
  },
  {
   "cell_type": "code",
   "execution_count": null,
   "metadata": {},
   "outputs": [],
   "source": []
  },
  {
   "cell_type": "code",
   "execution_count": null,
   "metadata": {},
   "outputs": [],
   "source": []
  },
  {
   "cell_type": "code",
   "execution_count": null,
   "metadata": {},
   "outputs": [],
   "source": []
  },
  {
   "cell_type": "code",
   "execution_count": null,
   "metadata": {},
   "outputs": [],
   "source": []
  }
 ],
 "metadata": {
  "kernelspec": {
   "display_name": "Python 3",
   "language": "python",
   "name": "python3"
  },
  "language_info": {
   "codemirror_mode": {
    "name": "ipython",
    "version": 3
   },
   "file_extension": ".py",
   "mimetype": "text/x-python",
   "name": "python",
   "nbconvert_exporter": "python",
   "pygments_lexer": "ipython3",
   "version": "3.7.3"
  }
 },
 "nbformat": 4,
 "nbformat_minor": 4
}
