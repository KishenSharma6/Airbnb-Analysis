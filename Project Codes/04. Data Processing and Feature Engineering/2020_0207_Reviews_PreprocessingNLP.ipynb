{
 "cells": [
  {
   "cell_type": "markdown",
   "metadata": {},
   "source": [
    "**Pre-processing Airbnb Review Data for NLP**"
   ]
  },
  {
   "cell_type": "markdown",
   "metadata": {},
   "source": [
    "# Introduction"
   ]
  },
  {
   "cell_type": "markdown",
   "metadata": {},
   "source": [
    "## Read in libraries, data, and set notebook preferences"
   ]
  },
  {
   "cell_type": "markdown",
   "metadata": {},
   "source": [
    "**Read in libraries**"
   ]
  },
  {
   "cell_type": "code",
   "execution_count": 27,
   "metadata": {},
   "outputs": [],
   "source": [
    "#Read in libraries\n",
    "import pandas as pd\n",
    "import swifter\n",
    "import numpy as np\n",
    "\n",
    "import matplotlib as plt\n",
    "\n",
    "import nltk\n",
    "import sklearn"
   ]
  },
  {
   "cell_type": "markdown",
   "metadata": {},
   "source": [
    "**Read in data**"
   ]
  },
  {
   "cell_type": "code",
   "execution_count": 11,
   "metadata": {},
   "outputs": [],
   "source": [
    "#Set path to data\n",
    "path = r'C:\\Users\\kishe\\Documents\\Data Science\\Projects\\Python Projects\\In Progress\\Air BnB - SF\\Data\\02_Intermediate'\n",
    "\n",
    "#Read in data\n",
    "df = pd.read_csv(path + '/2020_0131_Reviews_Cleaned.csv',sep=',',index_col=0,\n",
    "                 parse_dates=['date'])"
   ]
  },
  {
   "cell_type": "markdown",
   "metadata": {},
   "source": [
    "**Set preferences for notebook**"
   ]
  },
  {
   "cell_type": "code",
   "execution_count": 32,
   "metadata": {},
   "outputs": [],
   "source": [
    "#Ignore warnings\n",
    "import warnings; warnings.simplefilter('ignore')\n",
    "\n",
    "#Increase number of columns and rows displayed by Pandas\n",
    "pd.set_option('display.max_colwidth',1000)\n",
    "pd.set_option('display.max_columns', 500)\n",
    "pd.set_option('display.max_rows',100)\n",
    "\n",
    "#Set plt style 538\n",
    "plt.style.use('fivethirtyeight')"
   ]
  },
  {
   "cell_type": "markdown",
   "metadata": {},
   "source": [
    "## Preview data"
   ]
  },
  {
   "cell_type": "code",
   "execution_count": 13,
   "metadata": {},
   "outputs": [
    {
     "name": "stdout",
     "output_type": "stream",
     "text": [
      "Reviews data shape: (456909, 7)\n"
     ]
    },
    {
     "data": {
      "text/html": [
       "<div>\n",
       "<style scoped>\n",
       "    .dataframe tbody tr th:only-of-type {\n",
       "        vertical-align: middle;\n",
       "    }\n",
       "\n",
       "    .dataframe tbody tr th {\n",
       "        vertical-align: top;\n",
       "    }\n",
       "\n",
       "    .dataframe thead th {\n",
       "        text-align: right;\n",
       "    }\n",
       "</style>\n",
       "<table border=\"1\" class=\"dataframe\">\n",
       "  <thead>\n",
       "    <tr style=\"text-align: right;\">\n",
       "      <th></th>\n",
       "      <th>comments</th>\n",
       "      <th>date</th>\n",
       "      <th>id</th>\n",
       "      <th>listing_id</th>\n",
       "      <th>reviewer_id</th>\n",
       "      <th>reviewer_name</th>\n",
       "      <th>language</th>\n",
       "    </tr>\n",
       "  </thead>\n",
       "  <tbody>\n",
       "    <tr>\n",
       "      <th>19330</th>\n",
       "      <td>Hello Josh  Thank you very much for everything. I found myself very comfortable in your home. Quiet, comfortable and very complete and very clean, which I value highly. Next time I'd come with my family. I hope it's possible.</td>\n",
       "      <td>2013-12-01</td>\n",
       "      <td>9000494</td>\n",
       "      <td>209514</td>\n",
       "      <td>9215434</td>\n",
       "      <td>Ramon</td>\n",
       "      <td>en</td>\n",
       "    </tr>\n",
       "    <tr>\n",
       "      <th>143113</th>\n",
       "      <td>Stop and book it now. Rea (Website hidden by Airbnb) this later!!! If your a single person looking for a story book San Francisco experience, look no farther. Staying in Mikes place couldn't be any more wonderful. If your familiar with \"Tales of the City\" Mike is the Olympia Dukakis. The home is warm and inviting with all the nuances of an old Victorian. Mike is an amazing host . He can tell you how walk drive or public transit the city (don't bother with a car). Would love to keep the gem to myself but everyone deserves this unique place to lay your head. Make sure while you're there be introduced to William . Book IT you won't be disappointed .</td>\n",
       "      <td>2017-06-07</td>\n",
       "      <td>158659946</td>\n",
       "      <td>4833101</td>\n",
       "      <td>35954713</td>\n",
       "      <td>Tim</td>\n",
       "      <td>en</td>\n",
       "    </tr>\n",
       "    <tr>\n",
       "      <th>1021372</th>\n",
       "      <td>So I moved to SF in late May from Michigan to intern at Genentech for the summer. I stayed at Anjan’s apartment for 7 days while I was looking for a more permanent housing situation. Anjan was extremely hospitable and welcoming throughout the week. He was also very knowledgeable about the area and always offered to help in any way that he could. The area (SOMA) is very safe and is very “walkable.” There are plenty of restaurants and stores nearby (there’s even a target a few blocks away), so you have everything you need within a couple blocks from the apartment.            As for the bedroom, it was spacious and clean. The bathroom was nice and I had to myself for the entirety of my stay. I felt very comfortable living at Anjan’s for a week and I really enjoyed staying there.            If you’re a respectful person and are looking for a place to stay in SF for a short time, I highly recommend staying at Anjan’s. He’s a great person and a great host.</td>\n",
       "      <td>2013-06-02</td>\n",
       "      <td>4928809</td>\n",
       "      <td>635850</td>\n",
       "      <td>6542011</td>\n",
       "      <td>Michael</td>\n",
       "      <td>en</td>\n",
       "    </tr>\n",
       "    <tr>\n",
       "      <th>64636</th>\n",
       "      <td>This was the perfect home from home, our host was amazing like most California's we had a wonderful time.</td>\n",
       "      <td>2014-10-16</td>\n",
       "      <td>21374058</td>\n",
       "      <td>1150867</td>\n",
       "      <td>13431837</td>\n",
       "      <td>Chris &amp; Tess</td>\n",
       "      <td>en</td>\n",
       "    </tr>\n",
       "    <tr>\n",
       "      <th>147460</th>\n",
       "      <td>旅游期间在budi的房子住了三晚,体验非常的不错!首先我所住的房间在首层,靠近马路,窗户很大,采光很好,而且这条马路车流很少,所以也很安静;房间装修很好,大床还有电动折叠功能,写字桌上还有budi免费提供的零食;厨房设备齐全,吃不惯美式快餐的人可以去超市买点东西回来自己料理!其次,房东Budi为人很热情,也会说少量中文,他在我头一天到达后,很详细地给我介绍了交通,景点信息,当地风俗,让我迅速了解了不少攻略｡房子里还有一个美国老奶奶,每天早上都会在厨房泡上一壶咖啡,想喝的都可以免费去喝!最后是交通方面,从房子走到金门公园(加州科学博物馆,笛洋美术馆)只需要十五分钟左右,房子附近五分钟路程内有公交车可以到达市区内各个景点,而且基本都不超过40分钟(到联合广场大概半小时)｡</td>\n",
       "      <td>2017-02-01</td>\n",
       "      <td>129708498</td>\n",
       "      <td>4948327</td>\n",
       "      <td>40378027</td>\n",
       "      <td>被公司知道微博名故此修改</td>\n",
       "      <td>zh-cn</td>\n",
       "    </tr>\n",
       "  </tbody>\n",
       "</table>\n",
       "</div>"
      ],
      "text/plain": [
       "                                                                                                                                                                                                                                                                                                                                                                                                                                                                                                                                                                                                                                                                                                                                                                                                                                                                                                                                                                                                               comments  \\\n",
       "19330                                                                                                                                                                                                                                                                                                                                                                                                                                                                                                                                                                                                                                                                                                                                                                                 Hello Josh  Thank you very much for everything. I found myself very comfortable in your home. Quiet, comfortable and very complete and very clean, which I value highly. Next time I'd come with my family. I hope it's possible.   \n",
       "143113                                                                                                                                                                                                                                                                                                                                   Stop and book it now. Rea (Website hidden by Airbnb) this later!!! If your a single person looking for a story book San Francisco experience, look no farther. Staying in Mikes place couldn't be any more wonderful. If your familiar with \"Tales of the City\" Mike is the Olympia Dukakis. The home is warm and inviting with all the nuances of an old Victorian. Mike is an amazing host . He can tell you how walk drive or public transit the city (don't bother with a car). Would love to keep the gem to myself but everyone deserves this unique place to lay your head. Make sure while you're there be introduced to William . Book IT you won't be disappointed .   \n",
       "1021372          So I moved to SF in late May from Michigan to intern at Genentech for the summer. I stayed at Anjan’s apartment for 7 days while I was looking for a more permanent housing situation. Anjan was extremely hospitable and welcoming throughout the week. He was also very knowledgeable about the area and always offered to help in any way that he could. The area (SOMA) is very safe and is very “walkable.” There are plenty of restaurants and stores nearby (there’s even a target a few blocks away), so you have everything you need within a couple blocks from the apartment.            As for the bedroom, it was spacious and clean. The bathroom was nice and I had to myself for the entirety of my stay. I felt very comfortable living at Anjan’s for a week and I really enjoyed staying there.            If you’re a respectful person and are looking for a place to stay in SF for a short time, I highly recommend staying at Anjan’s. He’s a great person and a great host.     \n",
       "64636                                                                                                                                                                                                                                                                                                                                                                                                                                                                                                                                                                                                                                                                                                                                                                                                                                                                                                         This was the perfect home from home, our host was amazing like most California's we had a wonderful time.   \n",
       "147460                                                                                                                                                                                                                                                                                                                                                                                                                                                                                                                                                                                                                                                               旅游期间在budi的房子住了三晚,体验非常的不错!首先我所住的房间在首层,靠近马路,窗户很大,采光很好,而且这条马路车流很少,所以也很安静;房间装修很好,大床还有电动折叠功能,写字桌上还有budi免费提供的零食;厨房设备齐全,吃不惯美式快餐的人可以去超市买点东西回来自己料理!其次,房东Budi为人很热情,也会说少量中文,他在我头一天到达后,很详细地给我介绍了交通,景点信息,当地风俗,让我迅速了解了不少攻略｡房子里还有一个美国老奶奶,每天早上都会在厨房泡上一壶咖啡,想喝的都可以免费去喝!最后是交通方面,从房子走到金门公园(加州科学博物馆,笛洋美术馆)只需要十五分钟左右,房子附近五分钟路程内有公交车可以到达市区内各个景点,而且基本都不超过40分钟(到联合广场大概半小时)｡   \n",
       "\n",
       "              date         id  listing_id  reviewer_id reviewer_name language  \n",
       "19330   2013-12-01    9000494      209514      9215434         Ramon       en  \n",
       "143113  2017-06-07  158659946     4833101     35954713           Tim       en  \n",
       "1021372 2013-06-02    4928809      635850      6542011       Michael       en  \n",
       "64636   2014-10-16   21374058     1150867     13431837  Chris & Tess       en  \n",
       "147460  2017-02-01  129708498     4948327     40378027  被公司知道微博名故此修改    zh-cn  "
      ]
     },
     "metadata": {},
     "output_type": "display_data"
    }
   ],
   "source": [
    "#View data and shape\n",
    "print('Reviews data shape:', df.shape)\n",
    "display(df.head())"
   ]
  },
  {
   "cell_type": "code",
   "execution_count": 14,
   "metadata": {},
   "outputs": [
    {
     "data": {
      "text/plain": [
       "comments                 object\n",
       "date             datetime64[ns]\n",
       "id                        int64\n",
       "listing_id                int64\n",
       "reviewer_id               int64\n",
       "reviewer_name            object\n",
       "language                 object\n",
       "dtype: object"
      ]
     },
     "execution_count": 14,
     "metadata": {},
     "output_type": "execute_result"
    }
   ],
   "source": [
    "#View data types\n",
    "df.dtypes"
   ]
  },
  {
   "cell_type": "markdown",
   "metadata": {},
   "source": [
    "# Preprocessing"
   ]
  },
  {
   "cell_type": "markdown",
   "metadata": {},
   "source": [
    "## SpaCY pipeline"
   ]
  },
  {
   "cell_type": "markdown",
   "metadata": {},
   "source": [
    "## Sentiment Analysis with Vader"
   ]
  },
  {
   "cell_type": "code",
   "execution_count": 65,
   "metadata": {},
   "outputs": [
    {
     "name": "stdout",
     "output_type": "stream",
     "text": [
      "['i', 'me', 'my', 'myself', 'we', 'our', 'ours', 'ourselves', 'you', \"you're\", \"you've\", \"you'll\", \"you'd\", 'your', 'yours', 'yourself', 'yourselves', 'he', 'him', 'his', 'himself', 'she', \"she's\", 'her', 'hers', 'herself', 'it', \"it's\", 'its', 'itself', 'they', 'them', 'their', 'theirs', 'themselves', 'what', 'which', 'who', 'whom', 'this', 'that', \"that'll\", 'these', 'those', 'am', 'is', 'are', 'was', 'were', 'be', 'been', 'being', 'have', 'has', 'had', 'having', 'do', 'does', 'did', 'doing', 'a', 'an', 'the', 'and', 'but', 'if', 'or', 'because', 'as', 'until', 'while', 'of', 'at', 'by', 'for', 'with', 'about', 'against', 'between', 'into', 'through', 'during', 'before', 'after', 'above', 'below', 'to', 'from', 'up', 'down', 'in', 'out', 'on', 'off', 'over', 'under', 'again', 'further', 'then', 'once', 'here', 'there', 'when', 'where', 'why', 'how', 'all', 'any', 'both', 'each', 'few', 'more', 'most', 'other', 'some', 'such', 'no', 'nor', 'not', 'only', 'own', 'same', 'so', 'than', 'too', 'very', 's', 't', 'can', 'will', 'just', 'don', \"don't\", 'should', \"should've\", 'now', 'd', 'll', 'm', 'o', 're', 've', 'y', 'ain', 'aren', \"aren't\", 'couldn', \"couldn't\", 'didn', \"didn't\", 'doesn', \"doesn't\", 'hadn', \"hadn't\", 'hasn', \"hasn't\", 'haven', \"haven't\", 'isn', \"isn't\", 'ma', 'mightn', \"mightn't\", 'mustn', \"mustn't\", 'needn', \"needn't\", 'shan', \"shan't\", 'shouldn', \"shouldn't\", 'wasn', \"wasn't\", 'weren', \"weren't\", 'won', \"won't\", 'wouldn', \"wouldn't\"]\n"
     ]
    }
   ],
   "source": [
    "#Import stopwords\n",
    "from nltk.corpus import stopwords\n",
    "\n",
    "#check stopwords\n",
    "stop =stopwords.words('english')\n",
    "print(stop)"
   ]
  },
  {
   "cell_type": "code",
   "execution_count": 66,
   "metadata": {},
   "outputs": [
    {
     "data": {
      "text/html": [
       "<div>\n",
       "<style scoped>\n",
       "    .dataframe tbody tr th:only-of-type {\n",
       "        vertical-align: middle;\n",
       "    }\n",
       "\n",
       "    .dataframe tbody tr th {\n",
       "        vertical-align: top;\n",
       "    }\n",
       "\n",
       "    .dataframe thead th {\n",
       "        text-align: right;\n",
       "    }\n",
       "</style>\n",
       "<table border=\"1\" class=\"dataframe\">\n",
       "  <thead>\n",
       "    <tr style=\"text-align: right;\">\n",
       "      <th></th>\n",
       "      <th>comments</th>\n",
       "      <th>date</th>\n",
       "      <th>id_review</th>\n",
       "      <th>listing_id</th>\n",
       "      <th>reviewer_id</th>\n",
       "      <th>reviewer_name</th>\n",
       "      <th>host_is_superhost</th>\n",
       "      <th>host_response_time</th>\n",
       "      <th>latitude</th>\n",
       "      <th>longitude</th>\n",
       "      <th>neighbourhood_cleansed</th>\n",
       "      <th>number_of_reviews</th>\n",
       "      <th>room_type</th>\n",
       "      <th>comments_parsed</th>\n",
       "    </tr>\n",
       "  </thead>\n",
       "  <tbody>\n",
       "    <tr>\n",
       "      <th>4436320</th>\n",
       "      <td>Great stay.  Place is large and a great value....</td>\n",
       "      <td>2018-09-25</td>\n",
       "      <td>328282929</td>\n",
       "      <td>26909554</td>\n",
       "      <td>1178520</td>\n",
       "      <td>William (Gui)</td>\n",
       "      <td>False</td>\n",
       "      <td>within a few hours</td>\n",
       "      <td>37.74905</td>\n",
       "      <td>-122.48099</td>\n",
       "      <td>Outer Sunset</td>\n",
       "      <td>29</td>\n",
       "      <td>Entire home/apt</td>\n",
       "      <td>Great stay. Place large great value. Five star...</td>\n",
       "    </tr>\n",
       "    <tr>\n",
       "      <th>1957096</th>\n",
       "      <td>I had the best experience ever in Airbnb with ...</td>\n",
       "      <td>2018-08-08</td>\n",
       "      <td>304031277</td>\n",
       "      <td>11437138</td>\n",
       "      <td>52206767</td>\n",
       "      <td>Jihee</td>\n",
       "      <td>True</td>\n",
       "      <td>within an hour</td>\n",
       "      <td>37.77733</td>\n",
       "      <td>-122.41078</td>\n",
       "      <td>South of Market</td>\n",
       "      <td>150</td>\n",
       "      <td>Private room</td>\n",
       "      <td>I best experience ever Airbnb Maria. I say bes...</td>\n",
       "    </tr>\n",
       "    <tr>\n",
       "      <th>3955476</th>\n",
       "      <td>Je was very hospitable &amp; sweet. The common are...</td>\n",
       "      <td>2017-10-21</td>\n",
       "      <td>205287584</td>\n",
       "      <td>20368086</td>\n",
       "      <td>151432903</td>\n",
       "      <td>Ling</td>\n",
       "      <td>False</td>\n",
       "      <td>within an hour</td>\n",
       "      <td>37.74657</td>\n",
       "      <td>-122.47787</td>\n",
       "      <td>Parkside</td>\n",
       "      <td>77</td>\n",
       "      <td>Private room</td>\n",
       "      <td>Je hospitable &amp; sweet. The common area super c...</td>\n",
       "    </tr>\n",
       "    <tr>\n",
       "      <th>4287431</th>\n",
       "      <td>I felt genuinely welcome at Tammy and Gabriel'...</td>\n",
       "      <td>2013-10-01</td>\n",
       "      <td>7758550</td>\n",
       "      <td>1667732</td>\n",
       "      <td>3438775</td>\n",
       "      <td>Jesper</td>\n",
       "      <td>False</td>\n",
       "      <td>within an hour</td>\n",
       "      <td>37.75511</td>\n",
       "      <td>-122.41000</td>\n",
       "      <td>Mission</td>\n",
       "      <td>24</td>\n",
       "      <td>Private room</td>\n",
       "      <td>I felt genuinely welcome Tammy Gabriel's, than...</td>\n",
       "    </tr>\n",
       "    <tr>\n",
       "      <th>1933145</th>\n",
       "      <td>we loved staying with caro! my friend and i ar...</td>\n",
       "      <td>2018-10-03</td>\n",
       "      <td>331801305</td>\n",
       "      <td>21220773</td>\n",
       "      <td>12008848</td>\n",
       "      <td>Ariel</td>\n",
       "      <td>False</td>\n",
       "      <td>within a few hours</td>\n",
       "      <td>37.72063</td>\n",
       "      <td>-122.42917</td>\n",
       "      <td>Excelsior</td>\n",
       "      <td>153</td>\n",
       "      <td>Private room</td>\n",
       "      <td>loved staying caro! friend huge princess diari...</td>\n",
       "    </tr>\n",
       "  </tbody>\n",
       "</table>\n",
       "</div>"
      ],
      "text/plain": [
       "                                                  comments       date  \\\n",
       "4436320  Great stay.  Place is large and a great value.... 2018-09-25   \n",
       "1957096  I had the best experience ever in Airbnb with ... 2018-08-08   \n",
       "3955476  Je was very hospitable & sweet. The common are... 2017-10-21   \n",
       "4287431  I felt genuinely welcome at Tammy and Gabriel'... 2013-10-01   \n",
       "1933145  we loved staying with caro! my friend and i ar... 2018-10-03   \n",
       "\n",
       "         id_review  listing_id  reviewer_id  reviewer_name  host_is_superhost  \\\n",
       "4436320  328282929    26909554      1178520  William (Gui)              False   \n",
       "1957096  304031277    11437138     52206767          Jihee               True   \n",
       "3955476  205287584    20368086    151432903           Ling              False   \n",
       "4287431    7758550     1667732      3438775         Jesper              False   \n",
       "1933145  331801305    21220773     12008848          Ariel              False   \n",
       "\n",
       "         host_response_time  latitude  longitude neighbourhood_cleansed  \\\n",
       "4436320  within a few hours  37.74905 -122.48099           Outer Sunset   \n",
       "1957096      within an hour  37.77733 -122.41078        South of Market   \n",
       "3955476      within an hour  37.74657 -122.47787               Parkside   \n",
       "4287431      within an hour  37.75511 -122.41000                Mission   \n",
       "1933145  within a few hours  37.72063 -122.42917              Excelsior   \n",
       "\n",
       "         number_of_reviews        room_type  \\\n",
       "4436320                 29  Entire home/apt   \n",
       "1957096                150     Private room   \n",
       "3955476                 77     Private room   \n",
       "4287431                 24     Private room   \n",
       "1933145                153     Private room   \n",
       "\n",
       "                                           comments_parsed  \n",
       "4436320  Great stay. Place large great value. Five star...  \n",
       "1957096  I best experience ever Airbnb Maria. I say bes...  \n",
       "3955476  Je hospitable & sweet. The common area super c...  \n",
       "4287431  I felt genuinely welcome Tammy Gabriel's, than...  \n",
       "1933145  loved staying caro! friend huge princess diari...  "
      ]
     },
     "execution_count": 66,
     "metadata": {},
     "output_type": "execute_result"
    }
   ],
   "source": [
    "#Exclude stopwords from comments\n",
    "sample['comments_parsed'] = sample['comments'].swifter.apply(lambda x: ' '.join([word for word in x.split() if word not in (stop)]))\n",
    "\n",
    "#Check\n",
    "sample.head()"
   ]
  },
  {
   "cell_type": "markdown",
   "metadata": {},
   "source": [
    "## Sentiment Analysis"
   ]
  },
  {
   "cell_type": "code",
   "execution_count": 67,
   "metadata": {},
   "outputs": [],
   "source": [
    "#Import and instantiate sentiment intensity analyzer\n",
    "from vaderSentiment.vaderSentiment import SentimentIntensityAnalyzer\n",
    "analyzer = SentimentIntensityAnalyzer()\n",
    "\n",
    "#Write fuctions to capture positive, negative, neutral, and compound scores to later apply to reviews.comments_parsed\n",
    "def neg_scores(comment):\n",
    "    #Function to capture neg semantic score \n",
    "    score = analyzer.polarity_scores(comment)['neg']\n",
    "    return score\n",
    "\n",
    "def pos_scores(comment):\n",
    "    #Function to capture positive semantic score \n",
    "    score = analyzer.polarity_scores(comment)['pos']\n",
    "    return score\n",
    "\n",
    "def neutral_scores(comment):\n",
    "    #Function to capture negative semantic score \n",
    "    score = analyzer.polarity_scores(comment)['neu']\n",
    "    return score\n",
    "\n",
    "def compound_scores(comment):\n",
    "    #Function to capture compound semantic score \n",
    "    score = analyzer.polarity_scores(comment)['compound']\n",
    "    return score"
   ]
  },
  {
   "cell_type": "code",
   "execution_count": 68,
   "metadata": {},
   "outputs": [
    {
     "data": {
      "application/vnd.jupyter.widget-view+json": {
       "model_id": "42712e9ca771452db68f0565371a553f",
       "version_major": 2,
       "version_minor": 0
      },
      "text/plain": [
       "HBox(children=(FloatProgress(value=0.0, description='Pandas Apply', max=170942.0, style=ProgressStyle(descript…"
      ]
     },
     "metadata": {},
     "output_type": "display_data"
    },
    {
     "name": "stdout",
     "output_type": "stream",
     "text": [
      "\n"
     ]
    },
    {
     "data": {
      "application/vnd.jupyter.widget-view+json": {
       "model_id": "bd7eddf9e6cc4f08b72fc9283dd71fbe",
       "version_major": 2,
       "version_minor": 0
      },
      "text/plain": [
       "HBox(children=(FloatProgress(value=0.0, description='Pandas Apply', max=170942.0, style=ProgressStyle(descript…"
      ]
     },
     "metadata": {},
     "output_type": "display_data"
    },
    {
     "name": "stdout",
     "output_type": "stream",
     "text": [
      "\n"
     ]
    },
    {
     "data": {
      "application/vnd.jupyter.widget-view+json": {
       "model_id": "90f2a2a9711e4feb904ab2fd2838b9ea",
       "version_major": 2,
       "version_minor": 0
      },
      "text/plain": [
       "HBox(children=(FloatProgress(value=0.0, description='Pandas Apply', max=170942.0, style=ProgressStyle(descript…"
      ]
     },
     "metadata": {},
     "output_type": "display_data"
    },
    {
     "name": "stdout",
     "output_type": "stream",
     "text": [
      "\n"
     ]
    },
    {
     "data": {
      "application/vnd.jupyter.widget-view+json": {
       "model_id": "98665d056fc44455abf845bc0c37f618",
       "version_major": 2,
       "version_minor": 0
      },
      "text/plain": [
       "HBox(children=(FloatProgress(value=0.0, description='Pandas Apply', max=170942.0, style=ProgressStyle(descript…"
      ]
     },
     "metadata": {},
     "output_type": "display_data"
    },
    {
     "name": "stdout",
     "output_type": "stream",
     "text": [
      "\n"
     ]
    }
   ],
   "source": [
    "#Apply functions to reviews and assign scores to unique column\n",
    "sample['sentiment_neg']= sample['comments_parsed'].swifter.apply(neg_scores)\n",
    "sample['sentiment_pos']= sample['comments_parsed'].swifter.apply(pos_scores)\n",
    "sample['sentiment_neu']= sample['comments_parsed'].swifter.apply(neutral_scores)\n",
    "sample['sentiment_compound']= sample['comments_parsed'].swifter.apply(compound_scores)"
   ]
  },
  {
   "cell_type": "markdown",
   "metadata": {},
   "source": [
    "# Write file to csv"
   ]
  },
  {
   "cell_type": "code",
   "execution_count": 69,
   "metadata": {},
   "outputs": [],
   "source": [
    "#Set path to write processed data\n",
    "path = r'C:\\Users\\kishe\\Documents\\Data Science\\Projects\\Python Projects\\In Progress\\Air BnB - SF\\Data\\03_Processed'\n",
    "\n",
    "#Write to csv\n",
    "sample.to_csv(path + '/2020_0207_Reviews_Processed_NLP.csv',sep=',', index=False)"
   ]
  }
 ],
 "metadata": {
  "kernelspec": {
   "display_name": "Python 3",
   "language": "python",
   "name": "python3"
  },
  "language_info": {
   "codemirror_mode": {
    "name": "ipython",
    "version": 3
   },
   "file_extension": ".py",
   "mimetype": "text/x-python",
   "name": "python",
   "nbconvert_exporter": "python",
   "pygments_lexer": "ipython3",
   "version": "3.7.3"
  }
 },
 "nbformat": 4,
 "nbformat_minor": 4
}
