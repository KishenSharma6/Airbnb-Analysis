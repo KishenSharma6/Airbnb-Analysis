{
 "cells": [
  {
   "cell_type": "markdown",
   "metadata": {},
   "source": [
    "Data Cleaning - Aggregated Airbnb Calendar Data"
   ]
  },
  {
   "cell_type": "markdown",
   "metadata": {},
   "source": [
    "# Introduction\n",
    "\n",
    "In the following notebook, I will be cleaning an aggregation of Airbnb's calendar data of the San Francisco area. This data consists of data from 1/2018 through 12/2019.\n",
    "\n",
    "* The aggregation source code [here](https://github.com/KishenSharma6/Airbnb-Analysis/blob/master/Project%20Codes/01.%20Raw%20Data%20Aggregation%20Scripts/2020_0129_Airbnb_Raw_Data_Aggregation.ipynb)\n",
    "\n",
    "* Raw data [here](https://github.com/KishenSharma6/Airbnb-Analysis/tree/master/Data/01_Raw/SF%20Airbnb%20Raw%20Data)"
   ]
  },
  {
   "cell_type": "markdown",
   "metadata": {},
   "source": [
    "## Read in libraries,  read in data, and set notebook preferences"
   ]
  },
  {
   "cell_type": "markdown",
   "metadata": {},
   "source": [
    "**Read in libraries**"
   ]
  },
  {
   "cell_type": "code",
   "execution_count": 19,
   "metadata": {},
   "outputs": [],
   "source": [
    "#Read in libraries\n",
    "import swifter\n",
    "import pandas as pd\n",
    "import numpy as np\n",
    "import matplotlib.pyplot as plt"
   ]
  },
  {
   "cell_type": "markdown",
   "metadata": {},
   "source": [
    "**Read in Data**"
   ]
  },
  {
   "cell_type": "code",
   "execution_count": 20,
   "metadata": {},
   "outputs": [
    {
     "name": "stderr",
     "output_type": "stream",
     "text": [
      "C:\\Users\\kishe\\Miniconda3\\lib\\site-packages\\numpy\\lib\\arraysetops.py:569: FutureWarning: elementwise comparison failed; returning scalar instead, but in the future will perform elementwise comparison\n",
      "  mask |= (ar1 == a)\n"
     ]
    }
   ],
   "source": [
    "#Set path to get aggregated calendar data\n",
    "path = r'C:\\Users\\kishe\\Documents\\Data Science\\Projects\\Python Projects\\In Progress\\Air BnB - SF\\Data\\01_Raw\\SF Airbnb Raw Data\\SF Airbnb Raw Data - Aggregated\\01_04_2020_Calendar_Raw_Aggregated.csv'\n",
    "\n",
    "#Set date columns for parsing\n",
    "parse_dates = ['date']\n",
    "\n",
    "#Read in calendar data\n",
    "calendar = pd.read_csv(path, sep = ',', dtype = {\"listing_id\" : \"object\"}, parse_dates=parse_dates,index_col=0, low_memory=False)"
   ]
  },
  {
   "cell_type": "markdown",
   "metadata": {},
   "source": [
    "**Settings for Notebook**"
   ]
  },
  {
   "cell_type": "code",
   "execution_count": 21,
   "metadata": {},
   "outputs": [],
   "source": [
    "#Set Pandas options\n",
    "pd.set_option('display.max_columns', 500)\n",
    "pd.set_option('display.max_rows',500)\n",
    "pd.set_option('display.float_format', lambda x: '%.2f' % x)\n",
    "\n",
    "#Set plot style\n",
    "plt.style.use('ggplot')"
   ]
  },
  {
   "cell_type": "markdown",
   "metadata": {},
   "source": [
    "## Preview Data"
   ]
  },
  {
   "cell_type": "code",
   "execution_count": 22,
   "metadata": {},
   "outputs": [
    {
     "data": {
      "text/html": [
       "<div>\n",
       "<style scoped>\n",
       "    .dataframe tbody tr th:only-of-type {\n",
       "        vertical-align: middle;\n",
       "    }\n",
       "\n",
       "    .dataframe tbody tr th {\n",
       "        vertical-align: top;\n",
       "    }\n",
       "\n",
       "    .dataframe thead th {\n",
       "        text-align: right;\n",
       "    }\n",
       "</style>\n",
       "<table border=\"1\" class=\"dataframe\">\n",
       "  <thead>\n",
       "    <tr style=\"text-align: right;\">\n",
       "      <th></th>\n",
       "      <th>adjusted_price</th>\n",
       "      <th>available</th>\n",
       "      <th>date</th>\n",
       "      <th>listing_id</th>\n",
       "      <th>maximum_nights</th>\n",
       "      <th>minimum_nights</th>\n",
       "      <th>price</th>\n",
       "    </tr>\n",
       "  </thead>\n",
       "  <tbody>\n",
       "    <tr>\n",
       "      <th>0</th>\n",
       "      <td>NaN</td>\n",
       "      <td>t</td>\n",
       "      <td>2019-04-05</td>\n",
       "      <td>21190709</td>\n",
       "      <td>nan</td>\n",
       "      <td>nan</td>\n",
       "      <td>$5,000.00</td>\n",
       "    </tr>\n",
       "    <tr>\n",
       "      <th>1</th>\n",
       "      <td>NaN</td>\n",
       "      <td>t</td>\n",
       "      <td>2019-04-04</td>\n",
       "      <td>21190709</td>\n",
       "      <td>nan</td>\n",
       "      <td>nan</td>\n",
       "      <td>$5,000.00</td>\n",
       "    </tr>\n",
       "    <tr>\n",
       "      <th>2</th>\n",
       "      <td>NaN</td>\n",
       "      <td>t</td>\n",
       "      <td>2019-04-03</td>\n",
       "      <td>21190709</td>\n",
       "      <td>nan</td>\n",
       "      <td>nan</td>\n",
       "      <td>$5,000.00</td>\n",
       "    </tr>\n",
       "    <tr>\n",
       "      <th>3</th>\n",
       "      <td>NaN</td>\n",
       "      <td>t</td>\n",
       "      <td>2019-04-02</td>\n",
       "      <td>21190709</td>\n",
       "      <td>nan</td>\n",
       "      <td>nan</td>\n",
       "      <td>$5,000.00</td>\n",
       "    </tr>\n",
       "    <tr>\n",
       "      <th>4</th>\n",
       "      <td>NaN</td>\n",
       "      <td>t</td>\n",
       "      <td>2019-04-01</td>\n",
       "      <td>21190709</td>\n",
       "      <td>nan</td>\n",
       "      <td>nan</td>\n",
       "      <td>$5,000.00</td>\n",
       "    </tr>\n",
       "  </tbody>\n",
       "</table>\n",
       "</div>"
      ],
      "text/plain": [
       "  adjusted_price available       date listing_id  maximum_nights  \\\n",
       "0            NaN         t 2019-04-05   21190709             nan   \n",
       "1            NaN         t 2019-04-04   21190709             nan   \n",
       "2            NaN         t 2019-04-03   21190709             nan   \n",
       "3            NaN         t 2019-04-02   21190709             nan   \n",
       "4            NaN         t 2019-04-01   21190709             nan   \n",
       "\n",
       "   minimum_nights      price  \n",
       "0             nan  $5,000.00  \n",
       "1             nan  $5,000.00  \n",
       "2             nan  $5,000.00  \n",
       "3             nan  $5,000.00  \n",
       "4             nan  $5,000.00  "
      ]
     },
     "metadata": {},
     "output_type": "display_data"
    }
   ],
   "source": [
    "#Preview calendar data\n",
    "display(calendar.head())"
   ]
  },
  {
   "cell_type": "code",
   "execution_count": 23,
   "metadata": {},
   "outputs": [
    {
     "name": "stdout",
     "output_type": "stream",
     "text": [
      "Calendar data shape: (26178939, 7)\n",
      "\n",
      "Calendar data types: \n",
      " adjusted_price            object\n",
      "available                 object\n",
      "date              datetime64[ns]\n",
      "listing_id                object\n",
      "maximum_nights           float64\n",
      "minimum_nights           float64\n",
      "price                     object\n",
      "dtype: object\n"
     ]
    }
   ],
   "source": [
    "#Print shape and dtypes of calendar data\n",
    "print('Calendar data shape:',calendar.shape)\n",
    "print('\\nCalendar data types: \\n',calendar.dtypes)"
   ]
  },
  {
   "cell_type": "markdown",
   "metadata": {},
   "source": [
    "# Data Cleaning"
   ]
  },
  {
   "cell_type": "markdown",
   "metadata": {},
   "source": [
    "## Drop columns not needed for Time Series Analysis"
   ]
  },
  {
   "cell_type": "code",
   "execution_count": 24,
   "metadata": {},
   "outputs": [
    {
     "data": {
      "text/html": [
       "<div>\n",
       "<style scoped>\n",
       "    .dataframe tbody tr th:only-of-type {\n",
       "        vertical-align: middle;\n",
       "    }\n",
       "\n",
       "    .dataframe tbody tr th {\n",
       "        vertical-align: top;\n",
       "    }\n",
       "\n",
       "    .dataframe thead th {\n",
       "        text-align: right;\n",
       "    }\n",
       "</style>\n",
       "<table border=\"1\" class=\"dataframe\">\n",
       "  <thead>\n",
       "    <tr style=\"text-align: right;\">\n",
       "      <th></th>\n",
       "      <th>available</th>\n",
       "      <th>date</th>\n",
       "      <th>listing_id</th>\n",
       "      <th>price</th>\n",
       "    </tr>\n",
       "  </thead>\n",
       "  <tbody>\n",
       "    <tr>\n",
       "      <th>0</th>\n",
       "      <td>t</td>\n",
       "      <td>2019-04-05</td>\n",
       "      <td>21190709</td>\n",
       "      <td>$5,000.00</td>\n",
       "    </tr>\n",
       "    <tr>\n",
       "      <th>1</th>\n",
       "      <td>t</td>\n",
       "      <td>2019-04-04</td>\n",
       "      <td>21190709</td>\n",
       "      <td>$5,000.00</td>\n",
       "    </tr>\n",
       "    <tr>\n",
       "      <th>2</th>\n",
       "      <td>t</td>\n",
       "      <td>2019-04-03</td>\n",
       "      <td>21190709</td>\n",
       "      <td>$5,000.00</td>\n",
       "    </tr>\n",
       "    <tr>\n",
       "      <th>3</th>\n",
       "      <td>t</td>\n",
       "      <td>2019-04-02</td>\n",
       "      <td>21190709</td>\n",
       "      <td>$5,000.00</td>\n",
       "    </tr>\n",
       "    <tr>\n",
       "      <th>4</th>\n",
       "      <td>t</td>\n",
       "      <td>2019-04-01</td>\n",
       "      <td>21190709</td>\n",
       "      <td>$5,000.00</td>\n",
       "    </tr>\n",
       "    <tr>\n",
       "      <th>...</th>\n",
       "      <td>...</td>\n",
       "      <td>...</td>\n",
       "      <td>...</td>\n",
       "      <td>...</td>\n",
       "    </tr>\n",
       "    <tr>\n",
       "      <th>61385197</th>\n",
       "      <td>f</td>\n",
       "      <td>2020-09-06</td>\n",
       "      <td>38533186</td>\n",
       "      <td>$255.00</td>\n",
       "    </tr>\n",
       "    <tr>\n",
       "      <th>61385198</th>\n",
       "      <td>f</td>\n",
       "      <td>2020-09-07</td>\n",
       "      <td>38533186</td>\n",
       "      <td>$342.00</td>\n",
       "    </tr>\n",
       "    <tr>\n",
       "      <th>61385199</th>\n",
       "      <td>f</td>\n",
       "      <td>2020-09-08</td>\n",
       "      <td>38533186</td>\n",
       "      <td>$455.00</td>\n",
       "    </tr>\n",
       "    <tr>\n",
       "      <th>61385200</th>\n",
       "      <td>f</td>\n",
       "      <td>2020-09-09</td>\n",
       "      <td>38533186</td>\n",
       "      <td>$522.00</td>\n",
       "    </tr>\n",
       "    <tr>\n",
       "      <th>61385201</th>\n",
       "      <td>f</td>\n",
       "      <td>2020-09-10</td>\n",
       "      <td>38533186</td>\n",
       "      <td>$297.00</td>\n",
       "    </tr>\n",
       "  </tbody>\n",
       "</table>\n",
       "<p>26178939 rows × 4 columns</p>\n",
       "</div>"
      ],
      "text/plain": [
       "         available       date listing_id      price\n",
       "0                t 2019-04-05   21190709  $5,000.00\n",
       "1                t 2019-04-04   21190709  $5,000.00\n",
       "2                t 2019-04-03   21190709  $5,000.00\n",
       "3                t 2019-04-02   21190709  $5,000.00\n",
       "4                t 2019-04-01   21190709  $5,000.00\n",
       "...            ...        ...        ...        ...\n",
       "61385197         f 2020-09-06   38533186    $255.00\n",
       "61385198         f 2020-09-07   38533186    $342.00\n",
       "61385199         f 2020-09-08   38533186    $455.00\n",
       "61385200         f 2020-09-09   38533186    $522.00\n",
       "61385201         f 2020-09-10   38533186    $297.00\n",
       "\n",
       "[26178939 rows x 4 columns]"
      ]
     },
     "metadata": {},
     "output_type": "display_data"
    }
   ],
   "source": [
    "#Drop columns not needed for time series analysis\n",
    "calendar.drop(columns = ['adjusted_price','maximum_nights', 'minimum_nights'], inplace = True)\n",
    "\n",
    "#View\n",
    "display(calendar)"
   ]
  },
  {
   "cell_type": "markdown",
   "metadata": {},
   "source": [
    "## Filter dates"
   ]
  },
  {
   "cell_type": "code",
   "execution_count": 25,
   "metadata": {},
   "outputs": [
    {
     "name": "stdout",
     "output_type": "stream",
     "text": [
      "Updated calendar shape: (18739278, 4)\n"
     ]
    }
   ],
   "source": [
    "#Keep dates in 2018 and 2019\n",
    "calendar = calendar.loc[(calendar['date'] > '2017-12-31') & (calendar['date'] < '2020')]\n",
    "\n",
    "#View updated calendar shape\n",
    "print('Updated calendar shape:', calendar.shape)"
   ]
  },
  {
   "cell_type": "markdown",
   "metadata": {},
   "source": [
    "## Column cleaning and data type correction"
   ]
  },
  {
   "cell_type": "markdown",
   "metadata": {},
   "source": [
    "**Price column**"
   ]
  },
  {
   "cell_type": "code",
   "execution_count": 26,
   "metadata": {},
   "outputs": [],
   "source": [
    "#Remove $ and , from price \n",
    "calendar['price']=calendar['price'].replace('[,$]','', regex=True)\n",
    "\n",
    "#Convert string to numeric\n",
    "calendar['price'] =calendar['price'].swifter.apply(pd.to_numeric, errors='coerce')"
   ]
  },
  {
   "cell_type": "markdown",
   "metadata": {},
   "source": [
    "**Available column**"
   ]
  },
  {
   "cell_type": "code",
   "execution_count": 27,
   "metadata": {},
   "outputs": [
    {
     "name": "stderr",
     "output_type": "stream",
     "text": [
      "C:\\Users\\kishe\\Miniconda3\\lib\\site-packages\\tqdm\\std.py:658: FutureWarning: The Panel class is removed from pandas. Accessing it from the top-level namespace will also be removed in the next version\n",
      "  from pandas import Panel\n"
     ]
    },
    {
     "data": {
      "application/vnd.jupyter.widget-view+json": {
       "model_id": "37e711f86f3a44b7a7bfd63462743d33",
       "version_major": 2,
       "version_minor": 0
      },
      "text/plain": [
       "HBox(children=(FloatProgress(value=0.0, description='Pandas Apply', max=18739278.0, style=ProgressStyle(descri…"
      ]
     },
     "metadata": {},
     "output_type": "display_data"
    },
    {
     "name": "stdout",
     "output_type": "stream",
     "text": [
      "\n"
     ]
    }
   ],
   "source": [
    "#Replace 't' and 'f' in available column to True and False\n",
    "calendar.available = calendar.available.swifter.apply(lambda x:  1 if x =='t' else 0)"
   ]
  },
  {
   "cell_type": "markdown",
   "metadata": {},
   "source": [
    "## Missing Data"
   ]
  },
  {
   "cell_type": "markdown",
   "metadata": {},
   "source": [
    "**Stats of missing values per column**"
   ]
  },
  {
   "cell_type": "code",
   "execution_count": 28,
   "metadata": {},
   "outputs": [
    {
     "data": {
      "text/html": [
       "<div>\n",
       "<style scoped>\n",
       "    .dataframe tbody tr th:only-of-type {\n",
       "        vertical-align: middle;\n",
       "    }\n",
       "\n",
       "    .dataframe tbody tr th {\n",
       "        vertical-align: top;\n",
       "    }\n",
       "\n",
       "    .dataframe thead th {\n",
       "        text-align: right;\n",
       "    }\n",
       "</style>\n",
       "<table border=\"1\" class=\"dataframe\">\n",
       "  <thead>\n",
       "    <tr style=\"text-align: right;\">\n",
       "      <th></th>\n",
       "      <th>Total</th>\n",
       "      <th>Percent</th>\n",
       "    </tr>\n",
       "  </thead>\n",
       "  <tbody>\n",
       "    <tr>\n",
       "      <th>price</th>\n",
       "      <td>4613888</td>\n",
       "      <td>24.62</td>\n",
       "    </tr>\n",
       "    <tr>\n",
       "      <th>listing_id</th>\n",
       "      <td>0</td>\n",
       "      <td>0.00</td>\n",
       "    </tr>\n",
       "    <tr>\n",
       "      <th>date</th>\n",
       "      <td>0</td>\n",
       "      <td>0.00</td>\n",
       "    </tr>\n",
       "    <tr>\n",
       "      <th>available</th>\n",
       "      <td>0</td>\n",
       "      <td>0.00</td>\n",
       "    </tr>\n",
       "  </tbody>\n",
       "</table>\n",
       "</div>"
      ],
      "text/plain": [
       "              Total  Percent\n",
       "price       4613888    24.62\n",
       "listing_id        0     0.00\n",
       "date              0     0.00\n",
       "available         0     0.00"
      ]
     },
     "execution_count": 28,
     "metadata": {},
     "output_type": "execute_result"
    }
   ],
   "source": [
    "#Create function that captures missing data stats of a pandas df\n",
    "def missing_stats(pandas):\n",
    "    #Create empty dataframe to store missing value stats in\n",
    "    missing = pd.DataFrame()\n",
    "    #Capture total number and total % of missing data per column\n",
    "    missing['Total'] = pandas.isnull().sum().sort_values(ascending=False)\n",
    "    missing['Percent'] = (missing['Total']/pandas.isnull().count()).apply(lambda x: x * 100)\n",
    "    return missing\n",
    "\n",
    "#Check\n",
    "missing_stats(calendar)"
   ]
  },
  {
   "cell_type": "markdown",
   "metadata": {},
   "source": [
    "**View rows with missing price values**"
   ]
  },
  {
   "cell_type": "code",
   "execution_count": 29,
   "metadata": {},
   "outputs": [
    {
     "data": {
      "text/html": [
       "<div>\n",
       "<style scoped>\n",
       "    .dataframe tbody tr th:only-of-type {\n",
       "        vertical-align: middle;\n",
       "    }\n",
       "\n",
       "    .dataframe tbody tr th {\n",
       "        vertical-align: top;\n",
       "    }\n",
       "\n",
       "    .dataframe thead th {\n",
       "        text-align: right;\n",
       "    }\n",
       "</style>\n",
       "<table border=\"1\" class=\"dataframe\">\n",
       "  <thead>\n",
       "    <tr style=\"text-align: right;\">\n",
       "      <th></th>\n",
       "      <th>available</th>\n",
       "      <th>date</th>\n",
       "      <th>listing_id</th>\n",
       "      <th>price</th>\n",
       "    </tr>\n",
       "  </thead>\n",
       "  <tbody>\n",
       "    <tr>\n",
       "      <th>1146</th>\n",
       "      <td>0</td>\n",
       "      <td>2018-11-03</td>\n",
       "      <td>6938818</td>\n",
       "      <td>nan</td>\n",
       "    </tr>\n",
       "    <tr>\n",
       "      <th>1147</th>\n",
       "      <td>0</td>\n",
       "      <td>2018-11-02</td>\n",
       "      <td>6938818</td>\n",
       "      <td>nan</td>\n",
       "    </tr>\n",
       "    <tr>\n",
       "      <th>1148</th>\n",
       "      <td>0</td>\n",
       "      <td>2018-11-01</td>\n",
       "      <td>6938818</td>\n",
       "      <td>nan</td>\n",
       "    </tr>\n",
       "    <tr>\n",
       "      <th>1149</th>\n",
       "      <td>0</td>\n",
       "      <td>2018-10-31</td>\n",
       "      <td>6938818</td>\n",
       "      <td>nan</td>\n",
       "    </tr>\n",
       "    <tr>\n",
       "      <th>1150</th>\n",
       "      <td>0</td>\n",
       "      <td>2018-10-30</td>\n",
       "      <td>6938818</td>\n",
       "      <td>nan</td>\n",
       "    </tr>\n",
       "    <tr>\n",
       "      <th>...</th>\n",
       "      <td>...</td>\n",
       "      <td>...</td>\n",
       "      <td>...</td>\n",
       "      <td>...</td>\n",
       "    </tr>\n",
       "    <tr>\n",
       "      <th>58489652</th>\n",
       "      <td>0</td>\n",
       "      <td>2019-09-03</td>\n",
       "      <td>28201824</td>\n",
       "      <td>nan</td>\n",
       "    </tr>\n",
       "    <tr>\n",
       "      <th>58489653</th>\n",
       "      <td>0</td>\n",
       "      <td>2019-09-04</td>\n",
       "      <td>28201824</td>\n",
       "      <td>nan</td>\n",
       "    </tr>\n",
       "    <tr>\n",
       "      <th>58489654</th>\n",
       "      <td>0</td>\n",
       "      <td>2019-09-05</td>\n",
       "      <td>28201824</td>\n",
       "      <td>nan</td>\n",
       "    </tr>\n",
       "    <tr>\n",
       "      <th>58489655</th>\n",
       "      <td>0</td>\n",
       "      <td>2019-09-06</td>\n",
       "      <td>28201824</td>\n",
       "      <td>nan</td>\n",
       "    </tr>\n",
       "    <tr>\n",
       "      <th>58489656</th>\n",
       "      <td>0</td>\n",
       "      <td>2019-09-07</td>\n",
       "      <td>28201824</td>\n",
       "      <td>nan</td>\n",
       "    </tr>\n",
       "  </tbody>\n",
       "</table>\n",
       "<p>4613888 rows × 4 columns</p>\n",
       "</div>"
      ],
      "text/plain": [
       "          available       date listing_id  price\n",
       "1146              0 2018-11-03    6938818    nan\n",
       "1147              0 2018-11-02    6938818    nan\n",
       "1148              0 2018-11-01    6938818    nan\n",
       "1149              0 2018-10-31    6938818    nan\n",
       "1150              0 2018-10-30    6938818    nan\n",
       "...             ...        ...        ...    ...\n",
       "58489652          0 2019-09-03   28201824    nan\n",
       "58489653          0 2019-09-04   28201824    nan\n",
       "58489654          0 2019-09-05   28201824    nan\n",
       "58489655          0 2019-09-06   28201824    nan\n",
       "58489656          0 2019-09-07   28201824    nan\n",
       "\n",
       "[4613888 rows x 4 columns]"
      ]
     },
     "execution_count": 29,
     "metadata": {},
     "output_type": "execute_result"
    }
   ],
   "source": [
    "#View rows with missing price\n",
    "calendar[calendar.price.isnull()]"
   ]
  },
  {
   "cell_type": "markdown",
   "metadata": {},
   "source": [
    "It appears that if available is false, price will be missing. Let's test that theory:"
   ]
  },
  {
   "cell_type": "code",
   "execution_count": 30,
   "metadata": {},
   "outputs": [
    {
     "name": "stdout",
     "output_type": "stream",
     "text": [
      "Missing price values with availability:  102\n",
      "Missing price values w/o availability:  4613786\n"
     ]
    }
   ],
   "source": [
    "#Capture rows with missing price data and assign to df\n",
    "missing_price = calendar[calendar['price'].isnull()]\n",
    "\n",
    "#View \n",
    "print('Missing price values with availability: ', len(missing_price[missing_price.available == 1]))\n",
    "print('Missing price values w/o availability: ', len(missing_price[missing_price.available == 0]))"
   ]
  },
  {
   "cell_type": "markdown",
   "metadata": {},
   "source": [
    "Not a bad hunch :) We'll leave those values as is for our time series analysis. We will, however, drop those 102 missing values"
   ]
  },
  {
   "cell_type": "markdown",
   "metadata": {},
   "source": [
    "**Drop missing values where available is true**"
   ]
  },
  {
   "cell_type": "code",
   "execution_count": 31,
   "metadata": {},
   "outputs": [
    {
     "data": {
      "text/html": [
       "<div>\n",
       "<style scoped>\n",
       "    .dataframe tbody tr th:only-of-type {\n",
       "        vertical-align: middle;\n",
       "    }\n",
       "\n",
       "    .dataframe tbody tr th {\n",
       "        vertical-align: top;\n",
       "    }\n",
       "\n",
       "    .dataframe thead th {\n",
       "        text-align: right;\n",
       "    }\n",
       "</style>\n",
       "<table border=\"1\" class=\"dataframe\">\n",
       "  <thead>\n",
       "    <tr style=\"text-align: right;\">\n",
       "      <th></th>\n",
       "      <th>index</th>\n",
       "      <th>available</th>\n",
       "      <th>date</th>\n",
       "      <th>listing_id</th>\n",
       "      <th>price</th>\n",
       "    </tr>\n",
       "  </thead>\n",
       "  <tbody>\n",
       "  </tbody>\n",
       "</table>\n",
       "</div>"
      ],
      "text/plain": [
       "Empty DataFrame\n",
       "Columns: [index, available, date, listing_id, price]\n",
       "Index: []"
      ]
     },
     "execution_count": 31,
     "metadata": {},
     "output_type": "execute_result"
    }
   ],
   "source": [
    "#Reset calendar index\n",
    "calendar.reset_index(inplace=True)\n",
    "\n",
    "#Get index of rows that contain missing prices in available rooms\n",
    "drop = calendar.loc[(calendar['price'].isnull()) & (calendar['available'] == 1)].index.to_list()\n",
    "\n",
    "#Remove\n",
    "calendar.drop(calendar.index[drop], inplace=True)\n",
    "\n",
    "#Check\n",
    "calendar.loc[(calendar['price'].isnull()) & (calendar['available'] == 1)]"
   ]
  },
  {
   "cell_type": "markdown",
   "metadata": {},
   "source": [
    "## Zero Price Removal"
   ]
  },
  {
   "cell_type": "code",
   "execution_count": 32,
   "metadata": {},
   "outputs": [],
   "source": [
    "#Remove rows where price == 0 (most likely a data error, rent cannot be $0)\n",
    "calendar = calendar[calendar['price'] > 0]"
   ]
  },
  {
   "cell_type": "markdown",
   "metadata": {},
   "source": [
    "# Write file to CSV"
   ]
  },
  {
   "cell_type": "code",
   "execution_count": 33,
   "metadata": {},
   "outputs": [
    {
     "name": "stdout",
     "output_type": "stream",
     "text": [
      "Final calendar shape: (14125242, 5)\n"
     ]
    }
   ],
   "source": [
    "#View final calendar shape\n",
    "print('Final calendar shape:', calendar.shape)"
   ]
  },
  {
   "cell_type": "code",
   "execution_count": 34,
   "metadata": {},
   "outputs": [],
   "source": [
    "#Set path to write listings\n",
    "path = r'C:\\Users\\kishe\\Documents\\Data Science\\Projects\\Python Projects\\In Progress\\Air BnB - SF\\Data\\02_Intermediate\\2020_0130_Calendar_Cleaned.csv'\n",
    "\n",
    "#Write listings to path\n",
    "calendar.to_csv(path, sep=',')"
   ]
  }
 ],
 "metadata": {
  "kernelspec": {
   "display_name": "Python 3",
   "language": "python",
   "name": "python3"
  },
  "language_info": {
   "codemirror_mode": {
    "name": "ipython",
    "version": 3
   },
   "file_extension": ".py",
   "mimetype": "text/x-python",
   "name": "python",
   "nbconvert_exporter": "python",
   "pygments_lexer": "ipython3",
   "version": "3.7.3"
  }
 },
 "nbformat": 4,
 "nbformat_minor": 4
}
