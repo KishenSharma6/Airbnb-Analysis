{
 "cells": [
  {
   "cell_type": "markdown",
   "metadata": {},
   "source": [
    "Data Cleaning - Aggregated Airbnb Calendar Data"
   ]
  },
  {
   "cell_type": "markdown",
   "metadata": {},
   "source": [
    "# Introduction\n",
    "\n",
    "In the following notebook, I will be cleaning an aggregation of Airbnb's calendar data of the San Francisco area. This data consists of data from 1/2018 through 12/2019.\n",
    "\n",
    "* The aggregation source code [here](https://github.com/KishenSharma6/Airbnb-SF_ML_-_Text_Analysis/blob/master/Airbnb%20Raw%20Data%20Aggregation.ipynb)\n",
    "\n",
    "* Raw data [here](https://github.com/KishenSharma6/Airbnb-SF_ML_-_Text_Analysis/tree/master/Data/01_Raw/SF%20Airbnb%20Raw%20Data)"
   ]
  },
  {
   "cell_type": "markdown",
   "metadata": {},
   "source": [
    "## Read in libraries, set notebook preferences, and read in data"
   ]
  },
  {
   "cell_type": "code",
   "execution_count": 1,
   "metadata": {},
   "outputs": [],
   "source": [
    "#Read in libraries\n",
    "import dask.dataframe as dd\n",
    "import swifter\n",
    "import pandas as pd\n",
    "\n",
    "import numpy as np\n",
    "\n",
    "import matplotlib.pyplot as plt\n",
    "import seaborn as sns"
   ]
  },
  {
   "cell_type": "markdown",
   "metadata": {},
   "source": [
    "**Settings for Notebook**"
   ]
  },
  {
   "cell_type": "code",
   "execution_count": 2,
   "metadata": {},
   "outputs": [],
   "source": [
    "#Set Pandas options\n",
    "pd.set_option('display.max_columns', 500)\n",
    "pd.set_option('display.max_rows',500)\n",
    "pd.set_option('display.float_format', lambda x: '%.2f' % x)\n",
    "\n",
    "#Set plot style\n",
    "plt.style.use('ggplot')"
   ]
  },
  {
   "cell_type": "markdown",
   "metadata": {},
   "source": [
    "**Read in Data**"
   ]
  },
  {
   "cell_type": "code",
   "execution_count": null,
   "metadata": {},
   "outputs": [],
   "source": [
    "#Set path to get aggregated calendar data\n",
    "path = r'C:\\Users\\kishe\\Documents\\Data Science\\Projects\\Python Projects\\In Progress\\Air BnB - SF\\Data\\01_Raw\\SF Airbnb Raw Data\\SF Airbnb Raw Data - Aggregated\\01_04_2020_Calendar_Raw_Aggregated.csv'\n",
    "\n",
    "#Set date columns for parsing\n",
    "parse_dates = ['date']\n",
    "\n",
    "#Read in calendar data\n",
    "calendar = pd.read_csv(path, sep = ',', dtype = {\"listing_id\" : \"object\"}, parse_dates=parse_dates,index_col=0, low_memory=False)"
   ]
  },
  {
   "cell_type": "markdown",
   "metadata": {},
   "source": [
    "## Preview Data"
   ]
  },
  {
   "cell_type": "code",
   "execution_count": null,
   "metadata": {},
   "outputs": [],
   "source": [
    "#Preview calendar data\n",
    "display(calendar.head())"
   ]
  },
  {
   "cell_type": "code",
   "execution_count": null,
   "metadata": {},
   "outputs": [],
   "source": [
    "#Print shape and dtypes of calendar data\n",
    "print('Calendar data shape:',calendar.shape)\n",
    "print('\\nCalendar data types: \\n',calendar.dtypes)"
   ]
  },
  {
   "cell_type": "markdown",
   "metadata": {},
   "source": [
    "# Data Cleaning"
   ]
  },
  {
   "cell_type": "markdown",
   "metadata": {},
   "source": [
    "## Drop columns not needed for Time Series Analysis"
   ]
  },
  {
   "cell_type": "code",
   "execution_count": null,
   "metadata": {},
   "outputs": [],
   "source": [
    "#Drop columns not needed for time series analysis\n",
    "calendar.drop(columns = ['adjusted_price','maximum_nights', 'minimum_nights'], inplace = True)\n",
    "\n",
    "#View\n",
    "display(calendar)"
   ]
  },
  {
   "cell_type": "markdown",
   "metadata": {},
   "source": [
    "## Column cleaning and data type correction"
   ]
  },
  {
   "cell_type": "markdown",
   "metadata": {},
   "source": [
    "**Price column**"
   ]
  },
  {
   "cell_type": "code",
   "execution_count": null,
   "metadata": {},
   "outputs": [],
   "source": [
    "#Remove $ and , from price \n",
    "calendar['price']=calendar['price'].replace('[,$]','', regex=True)\n",
    "\n",
    "#Convert string to numeric\n",
    "calendar['price'] =calendar['price'].swifter.apply(pd.to_numeric, errors='coerce')"
   ]
  },
  {
   "cell_type": "markdown",
   "metadata": {},
   "source": [
    "**Available column**"
   ]
  },
  {
   "cell_type": "code",
   "execution_count": null,
   "metadata": {},
   "outputs": [],
   "source": [
    "#Replace 't' and 'f' in available column to True and False\n",
    "calendar.available = calendar.available.swifter.apply(lambda x:  1 if x =='t' else 0)"
   ]
  },
  {
   "cell_type": "markdown",
   "metadata": {},
   "source": [
    "## Missing Data"
   ]
  },
  {
   "cell_type": "markdown",
   "metadata": {},
   "source": [
    "**Stats of missing values per column**"
   ]
  },
  {
   "cell_type": "code",
   "execution_count": null,
   "metadata": {},
   "outputs": [],
   "source": [
    "#Create function that captures missing data stats of a pandas df\n",
    "def missing_stats(pandas):\n",
    "    #Create empty dataframe to store missing value stats in\n",
    "    missing = pd.DataFrame()\n",
    "    #Capture total number and total % of missing data per column\n",
    "    missing['Total'] = pandas.isnull().sum().sort_values(ascending=False)\n",
    "    missing['Percent'] = (missing['Total']/pandas.isnull().count()).apply(lambda x: x * 100)\n",
    "    return missing\n",
    "\n",
    "#Check\n",
    "missing_stats(calendar)"
   ]
  },
  {
   "cell_type": "markdown",
   "metadata": {},
   "source": [
    "**View rows with missing price values**"
   ]
  },
  {
   "cell_type": "code",
   "execution_count": null,
   "metadata": {},
   "outputs": [],
   "source": [
    "calendar[calendar['price'].isnull()]"
   ]
  },
  {
   "cell_type": "markdown",
   "metadata": {},
   "source": [
    "It appears that if available is false, price will be missing. Let's test that theory:"
   ]
  },
  {
   "cell_type": "code",
   "execution_count": null,
   "metadata": {},
   "outputs": [],
   "source": [
    "#Capture rows with missing price data and assign to df\n",
    "missing_price = calendar[calendar['price'].isnull()]\n",
    "\n",
    "#View \n",
    "print('Missing price values with availability: ', len(missing_price[missing_price.available == 1]))\n",
    "print('Missing price values w/o availability: ', len(missing_price[missing_price.available == 0]))"
   ]
  },
  {
   "cell_type": "markdown",
   "metadata": {},
   "source": [
    "Not a bad hunch :)"
   ]
  },
  {
   "cell_type": "markdown",
   "metadata": {},
   "source": [
    "**Drop rows with missing values and available is false**"
   ]
  },
  {
   "cell_type": "code",
   "execution_count": null,
   "metadata": {},
   "outputs": [],
   "source": [
    "#Get indeces of rows with missing values in price and available == 0\n",
    "remove = missing_price[missing_price.available == 0].index.tolist()\n",
    "\n",
    "#Drop\n",
    "calendar = calendar.drop(remove)\n",
    "\n",
    "#Check calendar shape\n",
    "print('Current calendar data shape:',calendar.shape)\n",
    "\n",
    "#View updated missing stats\n",
    "missing_stats(calendar)"
   ]
  },
  {
   "cell_type": "markdown",
   "metadata": {},
   "source": [
    "**Replace remaining missing values with median of price**"
   ]
  },
  {
   "cell_type": "code",
   "execution_count": null,
   "metadata": {},
   "outputs": [],
   "source": [
    "#Fill remaining na with median of price column\n",
    "calendar['price'] = calendar['price'].fillna(calendar['price'].median())\n",
    "\n",
    "#View updated missing stats\n",
    "missing_stats(calendar)"
   ]
  },
  {
   "cell_type": "markdown",
   "metadata": {},
   "source": [
    "## Outliers"
   ]
  },
  {
   "cell_type": "markdown",
   "metadata": {},
   "source": [
    "**Percentiles for the price of a one night stay in San Francisco**"
   ]
  },
  {
   "cell_type": "code",
   "execution_count": null,
   "metadata": {},
   "outputs": [],
   "source": [
    "#Capture stats and percentile of price\n",
    "print(\"median \",calendar.price.median())\n",
    "print(calendar['price'].describe(percentiles=[.01,0.1, 0.2, 0.3, 0.4, 0.5, 0.6, 0.7, 0.8, 0.9,.95,.99]))\n",
    "\n",
    "#How many rows in 99th percentile?\n",
    "q = calendar[\"price\"].quantile(0.99)\n",
    "print('/nNumber of rows above 99th percentile: ', len(calendar[calendar[\"price\"] > q]))"
   ]
  },
  {
   "cell_type": "markdown",
   "metadata": {},
   "source": [
    "**Note** Airbnb data contains listings for Airbnb Luxe as well. Airbnbn Luxe is Airbnb's foray into super-luxury travel. It is a new premium tier allowing you to book fully serviced mega homes and vacation experiences. Each property on Airbnb Luxe is unique, pristine and of course, luxurious. They even come with private butlers, special amenities, and helicopters in some cases!\n",
    "\n",
    "Because of this, we will acknowledge that the extreme values are for luxury listings and are not outliers."
   ]
  },
  {
   "cell_type": "markdown",
   "metadata": {},
   "source": [
    "**Zero Price Removal**"
   ]
  },
  {
   "cell_type": "code",
   "execution_count": null,
   "metadata": {},
   "outputs": [],
   "source": [
    "#Remove rows where price == 0 (most likely a data error, rent cannot be $0)\n",
    "calendar = calendar[calendar['price'] >0]\n",
    "\n",
    "#View updated metrics of price\n",
    "print(\"median \",calendar.price.median())\n",
    "print(calendar['price'].describe(percentiles=[.01,0.1, 0.2, 0.3, 0.4, 0.5, 0.6, 0.7, 0.8, 0.9,.95,.99]))\n",
    "\n",
    "#How many rows in 99th percentile?\n",
    "q = calendar[\"price\"].quantile(0.99)\n",
    "print('/nNumber of rows above 99th percentile: ', len(calendar[calendar[\"price\"] > q]))"
   ]
  },
  {
   "cell_type": "markdown",
   "metadata": {},
   "source": [
    "# Write file to CSV"
   ]
  },
  {
   "cell_type": "code",
   "execution_count": null,
   "metadata": {},
   "outputs": [],
   "source": [
    "Set path to write listings\n",
    "path = r'C:\\Users\\kishe\\Documents\\Data Science\\Projects\\Python Projects\\In Progress\\Air BnB - SF\\Data\\02_Intermediate\\2020_0130_Calendar_Cleaned.csv'\n",
    "\n",
    "#Write listings to path\n",
    "calendar.to_csv(path, sep=',')"
   ]
  }
 ],
 "metadata": {
  "kernelspec": {
   "display_name": "Python 3",
   "language": "python",
   "name": "python3"
  },
  "language_info": {
   "codemirror_mode": {
    "name": "ipython",
    "version": 3
   },
   "file_extension": ".py",
   "mimetype": "text/x-python",
   "name": "python",
   "nbconvert_exporter": "python",
   "pygments_lexer": "ipython3",
   "version": "3.7.3"
  }
 },
 "nbformat": 4,
 "nbformat_minor": 4
}
