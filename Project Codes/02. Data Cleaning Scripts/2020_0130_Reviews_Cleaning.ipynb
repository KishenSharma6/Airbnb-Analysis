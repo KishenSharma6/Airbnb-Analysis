{
 "cells": [
  {
   "cell_type": "markdown",
   "metadata": {},
   "source": [
    "Data Cleaning - Aggregated Airbnb Reviews"
   ]
  },
  {
   "cell_type": "markdown",
   "metadata": {},
   "source": [
    "# Introduction\n",
    "\n",
    "In the following notebook, I will be cleaning an aggregation of Airbnb Reviews data from different users about their stay in the San Francisco area. This aggregation consists of reviews data from 12/2018 through 12/2019.\n",
    "\n",
    "The aggregation source code can be found [here](https://github.com/KishenSharma6/Airbnb-Analysis/blob/master/Project%20Codes/01.%20Raw%20Data%20Aggregation%20Scripts/2020_0129_Airbnb_Raw_Data_Aggregation.ipynb)\n",
    "\n",
    "Raw data can be found [here](https://github.com/KishenSharma6/Airbnb-Analysis/tree/master/Data/01_Raw/SF%20Airbnb%20Raw%20Data)"
   ]
  },
  {
   "cell_type": "markdown",
   "metadata": {},
   "source": [
    "## Read in libraries, data, and set notebook preferences"
   ]
  },
  {
   "cell_type": "markdown",
   "metadata": {},
   "source": [
    "**Read in libraries**"
   ]
  },
  {
   "cell_type": "code",
   "execution_count": 1,
   "metadata": {},
   "outputs": [
    {
     "name": "stderr",
     "output_type": "stream",
     "text": [
      "C:\\Users\\kishe\\Miniconda3\\lib\\site-packages\\dask\\dataframe\\utils.py:14: FutureWarning: pandas.util.testing is deprecated. Use the functions in the public API at pandas.testing instead.\n",
      "  import pandas.util.testing as tm\n"
     ]
    }
   ],
   "source": [
    "#Read in libraries\n",
    "import pandas as pd\n",
    "import numpy as np\n",
    "\n",
    "import swifter"
   ]
  },
  {
   "cell_type": "markdown",
   "metadata": {},
   "source": [
    "**Read in Data**"
   ]
  },
  {
   "cell_type": "code",
   "execution_count": 2,
   "metadata": {},
   "outputs": [],
   "source": [
    "#Set path to get aggregated Calendar data\n",
    "path = r'C:\\Users\\kishe\\Documents\\Data Science\\Projects\\Python Projects\\In Progress\\Air BnB - SF\\Data\\01_Raw\\SF Airbnb Raw Data\\SF Airbnb Raw Data - Aggregated\\01_04_2020_Reviews_Raw_Aggregated.csv'\n",
    "\n",
    "#Read in Airbnb Review Data\n",
    "reviews = pd.read_csv(path, sep=',', parse_dates=['date'],\n",
    "                      dtype = {'id':'object','listing_id':'object','reviewer_id':'object'},\n",
    "                      index_col=0)              "
   ]
  },
  {
   "cell_type": "markdown",
   "metadata": {},
   "source": [
    "**Set Notebook preferences**"
   ]
  },
  {
   "cell_type": "code",
   "execution_count": 3,
   "metadata": {},
   "outputs": [],
   "source": [
    "#Set Pandas options\n",
    "pd.set_option('display.max_columns', 100)\n",
    "pd.set_option('display.max_rows',100)\n",
    "\n",
    "#Ignore warnings\n",
    "import warnings; warnings.simplefilter('ignore')"
   ]
  },
  {
   "cell_type": "markdown",
   "metadata": {},
   "source": [
    "## Data Preview"
   ]
  },
  {
   "cell_type": "code",
   "execution_count": 4,
   "metadata": {},
   "outputs": [
    {
     "name": "stdout",
     "output_type": "stream",
     "text": [
      "Reviews data shape: (458157, 6)\n"
     ]
    },
    {
     "data": {
      "text/html": [
       "<div>\n",
       "<style scoped>\n",
       "    .dataframe tbody tr th:only-of-type {\n",
       "        vertical-align: middle;\n",
       "    }\n",
       "\n",
       "    .dataframe tbody tr th {\n",
       "        vertical-align: top;\n",
       "    }\n",
       "\n",
       "    .dataframe thead th {\n",
       "        text-align: right;\n",
       "    }\n",
       "</style>\n",
       "<table border=\"1\" class=\"dataframe\">\n",
       "  <thead>\n",
       "    <tr style=\"text-align: right;\">\n",
       "      <th></th>\n",
       "      <th>comments</th>\n",
       "      <th>date</th>\n",
       "      <th>id</th>\n",
       "      <th>listing_id</th>\n",
       "      <th>reviewer_id</th>\n",
       "      <th>reviewer_name</th>\n",
       "    </tr>\n",
       "  </thead>\n",
       "  <tbody>\n",
       "    <tr>\n",
       "      <th>0</th>\n",
       "      <td>Our experience was, without a doubt, a five st...</td>\n",
       "      <td>2009-07-23</td>\n",
       "      <td>5977</td>\n",
       "      <td>958</td>\n",
       "      <td>15695</td>\n",
       "      <td>Edmund C</td>\n",
       "    </tr>\n",
       "    <tr>\n",
       "      <th>1</th>\n",
       "      <td>Returning to San Francisco is a rejuvenating t...</td>\n",
       "      <td>2009-08-03</td>\n",
       "      <td>6660</td>\n",
       "      <td>958</td>\n",
       "      <td>26145</td>\n",
       "      <td>Simon</td>\n",
       "    </tr>\n",
       "    <tr>\n",
       "      <th>2</th>\n",
       "      <td>We were very pleased with the accommodations a...</td>\n",
       "      <td>2009-09-27</td>\n",
       "      <td>11519</td>\n",
       "      <td>958</td>\n",
       "      <td>25839</td>\n",
       "      <td>Denis</td>\n",
       "    </tr>\n",
       "    <tr>\n",
       "      <th>3</th>\n",
       "      <td>We highly recommend this accomodation and agre...</td>\n",
       "      <td>2009-11-05</td>\n",
       "      <td>16282</td>\n",
       "      <td>958</td>\n",
       "      <td>33750</td>\n",
       "      <td>Anna</td>\n",
       "    </tr>\n",
       "    <tr>\n",
       "      <th>4</th>\n",
       "      <td>Holly's place was great. It was exactly what I...</td>\n",
       "      <td>2010-02-13</td>\n",
       "      <td>26008</td>\n",
       "      <td>958</td>\n",
       "      <td>15416</td>\n",
       "      <td>Venetia</td>\n",
       "    </tr>\n",
       "  </tbody>\n",
       "</table>\n",
       "</div>"
      ],
      "text/plain": [
       "                                            comments       date     id  \\\n",
       "0  Our experience was, without a doubt, a five st... 2009-07-23   5977   \n",
       "1  Returning to San Francisco is a rejuvenating t... 2009-08-03   6660   \n",
       "2  We were very pleased with the accommodations a... 2009-09-27  11519   \n",
       "3  We highly recommend this accomodation and agre... 2009-11-05  16282   \n",
       "4  Holly's place was great. It was exactly what I... 2010-02-13  26008   \n",
       "\n",
       "  listing_id reviewer_id reviewer_name  \n",
       "0        958       15695      Edmund C  \n",
       "1        958       26145         Simon  \n",
       "2        958       25839         Denis  \n",
       "3        958       33750          Anna  \n",
       "4        958       15416       Venetia  "
      ]
     },
     "metadata": {},
     "output_type": "display_data"
    }
   ],
   "source": [
    "#View data shape and view head\n",
    "print('Reviews data shape:', reviews.shape)\n",
    "display(reviews.head())"
   ]
  },
  {
   "cell_type": "code",
   "execution_count": 5,
   "metadata": {},
   "outputs": [
    {
     "data": {
      "text/plain": [
       "comments                 object\n",
       "date             datetime64[ns]\n",
       "id                       object\n",
       "listing_id               object\n",
       "reviewer_id              object\n",
       "reviewer_name            object\n",
       "dtype: object"
      ]
     },
     "execution_count": 5,
     "metadata": {},
     "output_type": "execute_result"
    }
   ],
   "source": [
    "#Show data types\n",
    "reviews.dtypes"
   ]
  },
  {
   "cell_type": "markdown",
   "metadata": {},
   "source": [
    "# Data Cleaning"
   ]
  },
  {
   "cell_type": "markdown",
   "metadata": {},
   "source": [
    "## Missing data"
   ]
  },
  {
   "cell_type": "markdown",
   "metadata": {},
   "source": [
    "**Check for and remove missing data**"
   ]
  },
  {
   "cell_type": "code",
   "execution_count": 6,
   "metadata": {},
   "outputs": [
    {
     "name": "stdout",
     "output_type": "stream",
     "text": [
      "Missing values: \n",
      " comments         480\n",
      "date               0\n",
      "id                 0\n",
      "listing_id         0\n",
      "reviewer_id        0\n",
      "reviewer_name      1\n",
      "dtype: int64\n"
     ]
    }
   ],
   "source": [
    "#Replace blank comments with NAN\n",
    "reviews.comments.replace('^\\s*$', np.nan, regex=True, inplace=True)\n",
    "\n",
    "#View missing values\n",
    "print('Missing values: \\n', reviews.isna().sum())"
   ]
  },
  {
   "cell_type": "code",
   "execution_count": 7,
   "metadata": {},
   "outputs": [
    {
     "name": "stdout",
     "output_type": "stream",
     "text": [
      "Missing values: \n",
      " comments         0\n",
      "date             0\n",
      "id               0\n",
      "listing_id       0\n",
      "reviewer_id      0\n",
      "reviewer_name    0\n",
      "dtype: int64\n"
     ]
    }
   ],
   "source": [
    "#Remove rows with NA in comments\n",
    "reviews  = reviews[~reviews.comments.isna()]\n",
    "\n",
    "#Replace missing reviewer name with Unknown\n",
    "reviews.reviewer_name.fillna('Unknown', inplace = True)\n",
    "\n",
    "#Check\n",
    "print('Missing values: \\n', reviews.isna().sum())"
   ]
  },
  {
   "cell_type": "markdown",
   "metadata": {},
   "source": [
    "## Language Detection\n",
    "\n",
    "Not all comments are in English. We will assign comment languages to a 'language' column and remove non-English review data"
   ]
  },
  {
   "cell_type": "code",
   "execution_count": 8,
   "metadata": {},
   "outputs": [
    {
     "data": {
      "application/vnd.jupyter.widget-view+json": {
       "model_id": "d4766f0110da486085e945cee0e854e3",
       "version_major": 2,
       "version_minor": 0
      },
      "text/plain": [
       "HBox(children=(FloatProgress(value=0.0, description='Pandas Apply', max=457677.0, style=ProgressStyle(descript…"
      ]
     },
     "metadata": {},
     "output_type": "display_data"
    },
    {
     "name": "stdout",
     "output_type": "stream",
     "text": [
      "\n"
     ]
    },
    {
     "ename": "NameError",
     "evalue": "name 'df' is not defined",
     "output_type": "error",
     "traceback": [
      "\u001b[1;31m---------------------------------------------------------------------------\u001b[0m",
      "\u001b[1;31mNameError\u001b[0m                                 Traceback (most recent call last)",
      "\u001b[1;32m<ipython-input-8-242c04d7920f>\u001b[0m in \u001b[0;36m<module>\u001b[1;34m\u001b[0m\n\u001b[0;32m     15\u001b[0m \u001b[1;33m\u001b[0m\u001b[0m\n\u001b[0;32m     16\u001b[0m \u001b[1;31m#Check\u001b[0m\u001b[1;33m\u001b[0m\u001b[1;33m\u001b[0m\u001b[1;33m\u001b[0m\u001b[0m\n\u001b[1;32m---> 17\u001b[1;33m \u001b[0mprint\u001b[0m\u001b[1;33m(\u001b[0m\u001b[1;34m'Updated reviews shape:'\u001b[0m\u001b[1;33m,\u001b[0m \u001b[0mdf\u001b[0m\u001b[1;33m.\u001b[0m\u001b[0mshape\u001b[0m\u001b[1;33m)\u001b[0m\u001b[1;33m\u001b[0m\u001b[1;33m\u001b[0m\u001b[0m\n\u001b[0m\u001b[0;32m     18\u001b[0m \u001b[0mdisplay\u001b[0m\u001b[1;33m(\u001b[0m\u001b[0mreviews\u001b[0m\u001b[1;33m.\u001b[0m\u001b[0mhead\u001b[0m\u001b[1;33m(\u001b[0m\u001b[1;33m)\u001b[0m\u001b[1;33m)\u001b[0m\u001b[1;33m\u001b[0m\u001b[1;33m\u001b[0m\u001b[0m\n",
      "\u001b[1;31mNameError\u001b[0m: name 'df' is not defined"
     ]
    }
   ],
   "source": [
    "#Import language detection library\n",
    "from langdetect import detect\n",
    "\n",
    "# write the function that detects the language\n",
    "def language_detection(text):\n",
    "    try:\n",
    "        return detect(text)\n",
    "    except:\n",
    "        return None\n",
    "\n",
    "#Apply function to reviews, remove non-English comments, drop language column\n",
    "reviews['language']=reviews.comments.swifter.apply(language_detection)\n",
    "reviews =reviews[reviews.language == 'en']\n",
    "reviews.drop(columns = 'language', inplace = True)\n",
    "\n",
    "#Check\n",
    "print('Updated reviews shape:', reviews.shape)\n",
    "display(reviews.head())"
   ]
  },
  {
   "cell_type": "markdown",
   "metadata": {},
   "source": [
    "## Comments cleaning"
   ]
  },
  {
   "cell_type": "code",
   "execution_count": 9,
   "metadata": {},
   "outputs": [
    {
     "data": {
      "text/html": [
       "<div>\n",
       "<style scoped>\n",
       "    .dataframe tbody tr th:only-of-type {\n",
       "        vertical-align: middle;\n",
       "    }\n",
       "\n",
       "    .dataframe tbody tr th {\n",
       "        vertical-align: top;\n",
       "    }\n",
       "\n",
       "    .dataframe thead th {\n",
       "        text-align: right;\n",
       "    }\n",
       "</style>\n",
       "<table border=\"1\" class=\"dataframe\">\n",
       "  <thead>\n",
       "    <tr style=\"text-align: right;\">\n",
       "      <th></th>\n",
       "      <th>comments</th>\n",
       "      <th>date</th>\n",
       "      <th>id</th>\n",
       "      <th>listing_id</th>\n",
       "      <th>reviewer_id</th>\n",
       "      <th>reviewer_name</th>\n",
       "    </tr>\n",
       "  </thead>\n",
       "  <tbody>\n",
       "    <tr>\n",
       "      <th>19330</th>\n",
       "      <td>...</td>\n",
       "      <td>2013-12-01</td>\n",
       "      <td>9000494</td>\n",
       "      <td>209514</td>\n",
       "      <td>9215434</td>\n",
       "      <td>Ramon</td>\n",
       "    </tr>\n",
       "    <tr>\n",
       "      <th>143113</th>\n",
       "      <td>Stop and book it now. Rea (Website hi...</td>\n",
       "      <td>2017-06-07</td>\n",
       "      <td>158659946</td>\n",
       "      <td>4833101</td>\n",
       "      <td>35954713</td>\n",
       "      <td>Tim</td>\n",
       "    </tr>\n",
       "    <tr>\n",
       "      <th>1021372</th>\n",
       "      <td>So I moved to SF in late May from Mich...</td>\n",
       "      <td>2013-06-02</td>\n",
       "      <td>4928809</td>\n",
       "      <td>635850</td>\n",
       "      <td>6542011</td>\n",
       "      <td>Michael</td>\n",
       "    </tr>\n",
       "    <tr>\n",
       "      <th>64636</th>\n",
       "      <td>This was the perfect home from home, o...</td>\n",
       "      <td>2014-10-16</td>\n",
       "      <td>21374058</td>\n",
       "      <td>1150867</td>\n",
       "      <td>13431837</td>\n",
       "      <td>Chris &amp; Tess</td>\n",
       "    </tr>\n",
       "    <tr>\n",
       "      <th>174143</th>\n",
       "      <td>We loved our time in beautiful SF! The ...</td>\n",
       "      <td>2018-08-10</td>\n",
       "      <td>305042501</td>\n",
       "      <td>7226841</td>\n",
       "      <td>73281468</td>\n",
       "      <td>Jessica ( + Mark)</td>\n",
       "    </tr>\n",
       "    <tr>\n",
       "      <th>15734</th>\n",
       "      <td>Brian's house was awesome! I took my girl...</td>\n",
       "      <td>2011-10-22</td>\n",
       "      <td>652424</td>\n",
       "      <td>150347</td>\n",
       "      <td>1109285</td>\n",
       "      <td>Joshua</td>\n",
       "    </tr>\n",
       "    <tr>\n",
       "      <th>77378</th>\n",
       "      <td>Delilah and Karen were both very sweet an...</td>\n",
       "      <td>2014-10-28</td>\n",
       "      <td>22052836</td>\n",
       "      <td>1525886</td>\n",
       "      <td>22897319</td>\n",
       "      <td>Joy</td>\n",
       "    </tr>\n",
       "    <tr>\n",
       "      <th>294659</th>\n",
       "      <td>I am kind of a picky person, but I prefer...</td>\n",
       "      <td>2018-05-23</td>\n",
       "      <td>268076525</td>\n",
       "      <td>21745893</td>\n",
       "      <td>145844668</td>\n",
       "      <td>Suparut</td>\n",
       "    </tr>\n",
       "    <tr>\n",
       "      <th>100011</th>\n",
       "      <td>I was greeted enthusiastically, and was t...</td>\n",
       "      <td>2015-04-10</td>\n",
       "      <td>29637875</td>\n",
       "      <td>2349483</td>\n",
       "      <td>30370774</td>\n",
       "      <td>Laurie</td>\n",
       "    </tr>\n",
       "    <tr>\n",
       "      <th>3935</th>\n",
       "      <td>I was looking for a quiet flat within 3 m...</td>\n",
       "      <td>2012-06-24</td>\n",
       "      <td>1546410</td>\n",
       "      <td>24463</td>\n",
       "      <td>1697608</td>\n",
       "      <td>John</td>\n",
       "    </tr>\n",
       "  </tbody>\n",
       "</table>\n",
       "</div>"
      ],
      "text/plain": [
       "                                                  comments       date  \\\n",
       "19330                                                  ... 2013-12-01   \n",
       "143113            Stop and book it now. Rea (Website hi... 2017-06-07   \n",
       "1021372          So I moved to SF in late May from Mich... 2013-06-02   \n",
       "64636            This was the perfect home from home, o... 2014-10-16   \n",
       "174143          We loved our time in beautiful SF! The ... 2018-08-10   \n",
       "15734         Brian's house was awesome! I took my girl... 2011-10-22   \n",
       "77378         Delilah and Karen were both very sweet an... 2014-10-28   \n",
       "294659        I am kind of a picky person, but I prefer... 2018-05-23   \n",
       "100011        I was greeted enthusiastically, and was t... 2015-04-10   \n",
       "3935          I was looking for a quiet flat within 3 m... 2012-06-24   \n",
       "\n",
       "                id listing_id reviewer_id      reviewer_name  \n",
       "19330      9000494     209514     9215434              Ramon  \n",
       "143113   158659946    4833101    35954713                Tim  \n",
       "1021372    4928809     635850     6542011            Michael  \n",
       "64636     21374058    1150867    13431837       Chris & Tess  \n",
       "174143   305042501    7226841    73281468  Jessica ( + Mark)  \n",
       "15734       652424     150347     1109285             Joshua  \n",
       "77378     22052836    1525886    22897319                Joy  \n",
       "294659   268076525   21745893   145844668            Suparut  \n",
       "100011    29637875    2349483    30370774             Laurie  \n",
       "3935       1546410      24463     1697608               John  "
      ]
     },
     "metadata": {},
     "output_type": "display_data"
    }
   ],
   "source": [
    "#Remove \\n,\\r and \\t\n",
    "reviews.comments.replace('(\\\\n|\\\\t|\\\\r)', ' ',regex=True, inplace=True)\n",
    "\n",
    "#Replace new blank comments with NAN\n",
    "reviews.comments.replace('^\\s*$', np.nan, regex=True, inplace=True)\n",
    "\n",
    "#Remove new rows with NA in comments\n",
    "reviews  = reviews[~reviews.comments.isna()]\n",
    "\n",
    "#Strip trailing and leading whitespace\n",
    "reviews['comments'].str.strip()\n",
    "\n",
    "#Remove rows where comments character string < 3\n",
    "reviews = reviews[reviews.comments.apply(len) > 3].sort_values(by='comments')\n",
    "\n",
    "#Check\n",
    "display(reviews.head(10))"
   ]
  },
  {
   "cell_type": "markdown",
   "metadata": {},
   "source": [
    "# Write to CSV"
   ]
  },
  {
   "cell_type": "code",
   "execution_count": 11,
   "metadata": {},
   "outputs": [],
   "source": [
    "#View final shape of reviews data\n",
    "print('Final reviews data shape', reviews.shape)\n",
    "\n",
    "#Set path to write listings\n",
    "path = r'C:\\Users\\kishe\\Documents\\Data Science\\Projects\\Python Projects\\In Progress\\Air BnB - SF\\Data\\02_Intermediate\\2020_0131_Reviews_Cleaned.csv'\n",
    "\n",
    "#Write listings to path\n",
    "reviews.to_csv(path, sep=',')"
   ]
  }
 ],
 "metadata": {
  "kernelspec": {
   "display_name": "Python 3",
   "language": "python",
   "name": "python3"
  },
  "language_info": {
   "codemirror_mode": {
    "name": "ipython",
    "version": 3
   },
   "file_extension": ".py",
   "mimetype": "text/x-python",
   "name": "python",
   "nbconvert_exporter": "python",
   "pygments_lexer": "ipython3",
   "version": "3.7.3"
  }
 },
 "nbformat": 4,
 "nbformat_minor": 4
}
