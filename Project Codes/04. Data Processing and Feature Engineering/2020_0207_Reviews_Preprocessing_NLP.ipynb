{
 "cells": [
  {
   "cell_type": "markdown",
   "metadata": {
    "Collapsed": "false"
   },
   "source": [
    "**Pre-processing Airbnb Review Data for NLP**"
   ]
  },
  {
   "cell_type": "markdown",
   "metadata": {
    "Collapsed": "false"
   },
   "source": [
    "# Introduction"
   ]
  },
  {
   "cell_type": "markdown",
   "metadata": {
    "Collapsed": "false"
   },
   "source": [
    "## Read in libraries, data, and set notebook preferences"
   ]
  },
  {
   "cell_type": "markdown",
   "metadata": {
    "Collapsed": "false"
   },
   "source": [
    "**Read in libraries**"
   ]
  },
  {
   "cell_type": "code",
   "execution_count": 39,
   "metadata": {
    "Collapsed": "false"
   },
   "outputs": [],
   "source": [
    "#Read in libraries\n",
    "import pandas as pd\n",
    "import swifter\n",
    "import numpy as np\n"
   ]
  },
  {
   "cell_type": "markdown",
   "metadata": {
    "Collapsed": "false"
   },
   "source": [
    "**Read in data**"
   ]
  },
  {
   "cell_type": "code",
   "execution_count": 40,
   "metadata": {
    "Collapsed": "false"
   },
   "outputs": [],
   "source": [
    "#Set path to data\n",
    "path = r'C:\\Users\\kishe\\Documents\\Data Science\\Projects\\Python Projects\\In Progress\\Air BnB - SF\\Data\\02_Intermediate'\n",
    "\n",
    "#Read in data\n",
    "df = pd.read_csv(path + '/2020_0131_Reviews_Cleaned.csv',sep=',',index_col=0,\n",
    "                 parse_dates=['date'])"
   ]
  },
  {
   "cell_type": "markdown",
   "metadata": {
    "Collapsed": "false"
   },
   "source": [
    "**Set preferences for notebook**"
   ]
  },
  {
   "cell_type": "code",
   "execution_count": 41,
   "metadata": {
    "Collapsed": "false"
   },
   "outputs": [],
   "source": [
    "#Ignore warnings\n",
    "import warnings; warnings.simplefilter('ignore')\n",
    "\n",
    "#Increase number of columns and rows displayed by Pandas\n",
    "pd.set_option('display.max_colwidth', None)\n",
    "pd.set_option('display.max_columns', 500)\n",
    "pd.set_option('display.max_rows',500)\n",
    "pd.set_option('display.width',1000)"
   ]
  },
  {
   "cell_type": "markdown",
   "metadata": {
    "Collapsed": "false"
   },
   "source": [
    "## Preview data"
   ]
  },
  {
   "cell_type": "code",
   "execution_count": 42,
   "metadata": {
    "Collapsed": "false"
   },
   "outputs": [
    {
     "name": "stdout",
     "output_type": "stream",
     "text": [
      "Reviews data shape: (425509, 2)\n",
      "Data types: \n",
      " comments            object\n",
      "date        datetime64[ns]\n",
      "dtype: object \n",
      "\n"
     ]
    },
    {
     "data": {
      "text/html": [
       "<div>\n",
       "<style scoped>\n",
       "    .dataframe tbody tr th:only-of-type {\n",
       "        vertical-align: middle;\n",
       "    }\n",
       "\n",
       "    .dataframe tbody tr th {\n",
       "        vertical-align: top;\n",
       "    }\n",
       "\n",
       "    .dataframe thead th {\n",
       "        text-align: right;\n",
       "    }\n",
       "</style>\n",
       "<table border=\"1\" class=\"dataframe\">\n",
       "  <thead>\n",
       "    <tr style=\"text-align: right;\">\n",
       "      <th></th>\n",
       "      <th>comments</th>\n",
       "      <th>date</th>\n",
       "    </tr>\n",
       "  </thead>\n",
       "  <tbody>\n",
       "    <tr>\n",
       "      <th>19330</th>\n",
       "      <td>Hello Josh  Thank you very much for everything. I found myself very comfortable in your home. Quiet, comfortable and very complete and very clean, which I value highly. Next time I'd come with my family. I hope it's possible.</td>\n",
       "      <td>2013-12-01</td>\n",
       "    </tr>\n",
       "    <tr>\n",
       "      <th>143113</th>\n",
       "      <td>Stop and book it now. Rea (Website hidden by Airbnb) this later!!! If your a single person looking for a story book San Francisco experience, look no farther. Staying in Mikes place couldn't be any more wonderful. If your familiar with \"Tales of the City\" Mike is the Olympia Dukakis. The home is warm and inviting with all the nuances of an old Victorian. Mike is an amazing host . He can tell you how walk drive or public transit the city (don't bother with a car). Would love to keep the gem to myself but everyone deserves this unique place to lay your head. Make sure while you're there be introduced to William . Book IT you won't be disappointed .</td>\n",
       "      <td>2017-06-07</td>\n",
       "    </tr>\n",
       "    <tr>\n",
       "      <th>1021372</th>\n",
       "      <td>So I moved to SF in late May from Michigan to intern at Genentech for the summer. I stayed at Anjan’s apartment for 7 days while I was looking for a more permanent housing situation. Anjan was extremely hospitable and welcoming throughout the week. He was also very knowledgeable about the area and always offered to help in any way that he could. The area (SOMA) is very safe and is very “walkable.” There are plenty of restaurants and stores nearby (there’s even a target a few blocks away), so you have everything you need within a couple blocks from the apartment.            As for the bedroom, it was spacious and clean. The bathroom was nice and I had to myself for the entirety of my stay. I felt very comfortable living at Anjan’s for a week and I really enjoyed staying there.            If you’re a respectful person and are looking for a place to stay in SF for a short time, I highly recommend staying at Anjan’s. He’s a great person and a great host.</td>\n",
       "      <td>2013-06-02</td>\n",
       "    </tr>\n",
       "    <tr>\n",
       "      <th>64636</th>\n",
       "      <td>This was the perfect home from home, our host was amazing like most California's we had a wonderful time.</td>\n",
       "      <td>2014-10-16</td>\n",
       "    </tr>\n",
       "    <tr>\n",
       "      <th>174143</th>\n",
       "      <td>We loved our time in beautiful SF! The place is in a fantastic location and near everything. Nadia’s communication and check in process is amazing and probably the best we have used by far. Would definitely recommend!!   (Website hidden by Airbnb) Thanks for having us Nadia   Jess + Mark x</td>\n",
       "      <td>2018-08-10</td>\n",
       "    </tr>\n",
       "  </tbody>\n",
       "</table>\n",
       "</div>"
      ],
      "text/plain": [
       "                                                                                                                                                                                                                                                                                                                                                                                                                                                                                                                                                                                                                                                                                                                                                                                                                                                                                                                                                                                                               comments       date\n",
       "19330                                                                                                                                                                                                                                                                                                                                                                                                                                                                                                                                                                                                                                                                                                                                                                                 Hello Josh  Thank you very much for everything. I found myself very comfortable in your home. Quiet, comfortable and very complete and very clean, which I value highly. Next time I'd come with my family. I hope it's possible. 2013-12-01\n",
       "143113                                                                                                                                                                                                                                                                                                                                   Stop and book it now. Rea (Website hidden by Airbnb) this later!!! If your a single person looking for a story book San Francisco experience, look no farther. Staying in Mikes place couldn't be any more wonderful. If your familiar with \"Tales of the City\" Mike is the Olympia Dukakis. The home is warm and inviting with all the nuances of an old Victorian. Mike is an amazing host . He can tell you how walk drive or public transit the city (don't bother with a car). Would love to keep the gem to myself but everyone deserves this unique place to lay your head. Make sure while you're there be introduced to William . Book IT you won't be disappointed . 2017-06-07\n",
       "1021372          So I moved to SF in late May from Michigan to intern at Genentech for the summer. I stayed at Anjan’s apartment for 7 days while I was looking for a more permanent housing situation. Anjan was extremely hospitable and welcoming throughout the week. He was also very knowledgeable about the area and always offered to help in any way that he could. The area (SOMA) is very safe and is very “walkable.” There are plenty of restaurants and stores nearby (there’s even a target a few blocks away), so you have everything you need within a couple blocks from the apartment.            As for the bedroom, it was spacious and clean. The bathroom was nice and I had to myself for the entirety of my stay. I felt very comfortable living at Anjan’s for a week and I really enjoyed staying there.            If you’re a respectful person and are looking for a place to stay in SF for a short time, I highly recommend staying at Anjan’s. He’s a great person and a great host.   2013-06-02\n",
       "64636                                                                                                                                                                                                                                                                                                                                                                                                                                                                                                                                                                                                                                                                                                                                                                                                                                                                                                         This was the perfect home from home, our host was amazing like most California's we had a wonderful time. 2014-10-16\n",
       "174143                                                                                                                                                                                                                                                                                                                                                                                                                                                                                                                                                                                                                                                                                                               We loved our time in beautiful SF! The place is in a fantastic location and near everything. Nadia’s communication and check in process is amazing and probably the best we have used by far. Would definitely recommend!!   (Website hidden by Airbnb) Thanks for having us Nadia   Jess + Mark x 2018-08-10"
      ]
     },
     "metadata": {},
     "output_type": "display_data"
    }
   ],
   "source": [
    "#View shape and dtypes. Preview head\n",
    "print('Reviews data shape:', df.shape)\n",
    "print('Data types: \\n', df.dtypes, '\\n')\n",
    "display(df.head())"
   ]
  },
  {
   "cell_type": "markdown",
   "metadata": {
    "Collapsed": "false"
   },
   "source": [
    "# Feature engineering"
   ]
  },
  {
   "cell_type": "markdown",
   "metadata": {
    "Collapsed": "false"
   },
   "source": [
    "## Word counts"
   ]
  },
  {
   "cell_type": "code",
   "execution_count": 43,
   "metadata": {
    "Collapsed": "false"
   },
   "outputs": [
    {
     "data": {
      "text/html": [
       "<div>\n",
       "<style scoped>\n",
       "    .dataframe tbody tr th:only-of-type {\n",
       "        vertical-align: middle;\n",
       "    }\n",
       "\n",
       "    .dataframe tbody tr th {\n",
       "        vertical-align: top;\n",
       "    }\n",
       "\n",
       "    .dataframe thead th {\n",
       "        text-align: right;\n",
       "    }\n",
       "</style>\n",
       "<table border=\"1\" class=\"dataframe\">\n",
       "  <thead>\n",
       "    <tr style=\"text-align: right;\">\n",
       "      <th></th>\n",
       "      <th>comments</th>\n",
       "      <th>date</th>\n",
       "      <th>word_count</th>\n",
       "    </tr>\n",
       "  </thead>\n",
       "  <tbody>\n",
       "    <tr>\n",
       "      <th>19330</th>\n",
       "      <td>Hello Josh  Thank you very much for everything. I found myself very comfortable in your home. Quiet, comfortable and very complete and very clean, which I value highly. Next time I'd come with my family. I hope it's possible.</td>\n",
       "      <td>2013-12-01</td>\n",
       "      <td>39</td>\n",
       "    </tr>\n",
       "    <tr>\n",
       "      <th>143113</th>\n",
       "      <td>Stop and book it now. Rea (Website hidden by Airbnb) this later!!! If your a single person looking for a story book San Francisco experience, look no farther. Staying in Mikes place couldn't be any more wonderful. If your familiar with \"Tales of the City\" Mike is the Olympia Dukakis. The home is warm and inviting with all the nuances of an old Victorian. Mike is an amazing host . He can tell you how walk drive or public transit the city (don't bother with a car). Would love to keep the gem to myself but everyone deserves this unique place to lay your head. Make sure while you're there be introduced to William . Book IT you won't be disappointed .</td>\n",
       "      <td>2017-06-07</td>\n",
       "      <td>122</td>\n",
       "    </tr>\n",
       "    <tr>\n",
       "      <th>1021372</th>\n",
       "      <td>So I moved to SF in late May from Michigan to intern at Genentech for the summer. I stayed at Anjan’s apartment for 7 days while I was looking for a more permanent housing situation. Anjan was extremely hospitable and welcoming throughout the week. He was also very knowledgeable about the area and always offered to help in any way that he could. The area (SOMA) is very safe and is very “walkable.” There are plenty of restaurants and stores nearby (there’s even a target a few blocks away), so you have everything you need within a couple blocks from the apartment.            As for the bedroom, it was spacious and clean. The bathroom was nice and I had to myself for the entirety of my stay. I felt very comfortable living at Anjan’s for a week and I really enjoyed staying there.            If you’re a respectful person and are looking for a place to stay in SF for a short time, I highly recommend staying at Anjan’s. He’s a great person and a great host.</td>\n",
       "      <td>2013-06-02</td>\n",
       "      <td>175</td>\n",
       "    </tr>\n",
       "    <tr>\n",
       "      <th>64636</th>\n",
       "      <td>This was the perfect home from home, our host was amazing like most California's we had a wonderful time.</td>\n",
       "      <td>2014-10-16</td>\n",
       "      <td>19</td>\n",
       "    </tr>\n",
       "    <tr>\n",
       "      <th>174143</th>\n",
       "      <td>We loved our time in beautiful SF! The place is in a fantastic location and near everything. Nadia’s communication and check in process is amazing and probably the best we have used by far. Would definitely recommend!!   (Website hidden by Airbnb) Thanks for having us Nadia   Jess + Mark x</td>\n",
       "      <td>2018-08-10</td>\n",
       "      <td>50</td>\n",
       "    </tr>\n",
       "  </tbody>\n",
       "</table>\n",
       "</div>"
      ],
      "text/plain": [
       "                                                                                                                                                                                                                                                                                                                                                                                                                                                                                                                                                                                                                                                                                                                                                                                                                                                                                                                                                                                                               comments       date  \\\n",
       "19330                                                                                                                                                                                                                                                                                                                                                                                                                                                                                                                                                                                                                                                                                                                                                                                 Hello Josh  Thank you very much for everything. I found myself very comfortable in your home. Quiet, comfortable and very complete and very clean, which I value highly. Next time I'd come with my family. I hope it's possible. 2013-12-01   \n",
       "143113                                                                                                                                                                                                                                                                                                                                   Stop and book it now. Rea (Website hidden by Airbnb) this later!!! If your a single person looking for a story book San Francisco experience, look no farther. Staying in Mikes place couldn't be any more wonderful. If your familiar with \"Tales of the City\" Mike is the Olympia Dukakis. The home is warm and inviting with all the nuances of an old Victorian. Mike is an amazing host . He can tell you how walk drive or public transit the city (don't bother with a car). Would love to keep the gem to myself but everyone deserves this unique place to lay your head. Make sure while you're there be introduced to William . Book IT you won't be disappointed . 2017-06-07   \n",
       "1021372          So I moved to SF in late May from Michigan to intern at Genentech for the summer. I stayed at Anjan’s apartment for 7 days while I was looking for a more permanent housing situation. Anjan was extremely hospitable and welcoming throughout the week. He was also very knowledgeable about the area and always offered to help in any way that he could. The area (SOMA) is very safe and is very “walkable.” There are plenty of restaurants and stores nearby (there’s even a target a few blocks away), so you have everything you need within a couple blocks from the apartment.            As for the bedroom, it was spacious and clean. The bathroom was nice and I had to myself for the entirety of my stay. I felt very comfortable living at Anjan’s for a week and I really enjoyed staying there.            If you’re a respectful person and are looking for a place to stay in SF for a short time, I highly recommend staying at Anjan’s. He’s a great person and a great host.   2013-06-02   \n",
       "64636                                                                                                                                                                                                                                                                                                                                                                                                                                                                                                                                                                                                                                                                                                                                                                                                                                                                                                         This was the perfect home from home, our host was amazing like most California's we had a wonderful time. 2014-10-16   \n",
       "174143                                                                                                                                                                                                                                                                                                                                                                                                                                                                                                                                                                                                                                                                                                               We loved our time in beautiful SF! The place is in a fantastic location and near everything. Nadia’s communication and check in process is amazing and probably the best we have used by far. Would definitely recommend!!   (Website hidden by Airbnb) Thanks for having us Nadia   Jess + Mark x 2018-08-10   \n",
       "\n",
       "         word_count  \n",
       "19330            39  \n",
       "143113          122  \n",
       "1021372         175  \n",
       "64636            19  \n",
       "174143           50  "
      ]
     },
     "metadata": {},
     "output_type": "display_data"
    }
   ],
   "source": [
    "#Capture number of characters used in comments\n",
    "df['word_count'] = [len(x.split()) for x in df['comments'].tolist()]\n",
    "\n",
    "#Check\n",
    "display(df.head())"
   ]
  },
  {
   "cell_type": "markdown",
   "metadata": {
    "Collapsed": "false"
   },
   "source": [
    "### Visualize word counts"
   ]
  },
  {
   "cell_type": "code",
   "execution_count": 44,
   "metadata": {
    "Collapsed": "false"
   },
   "outputs": [
    {
     "name": "stdout",
     "output_type": "stream",
     "text": [
      "Review word count stats:\n",
      "           word_count\n",
      "count  425509.000000\n",
      "mean       51.012223\n",
      "std        47.726691\n",
      "min         1.000000\n",
      "25%        20.000000\n",
      "50%        38.000000\n",
      "75%        67.000000\n",
      "max      1002.000000\n"
     ]
    },
    {
     "data": {
      "image/png": "[encoded data removed]",
      "text/plain": [
       "<Figure size 864x432 with 1 Axes>"
      ]
     },
     "metadata": {
      "needs_background": "light"
     },
     "output_type": "display_data"
    }
   ],
   "source": [
    "#View distribution of review word counts\n",
    "df.word_count.hist(figsize = (12,6),\n",
    "                   bins = 100)\n",
    "\n",
    "print('Review word count stats:\\n', df.describe())"
   ]
  },
  {
   "cell_type": "markdown",
   "metadata": {
    "Collapsed": "false"
   },
   "source": [
    "Remove outliers, reviews that are too short and too long"
   ]
  },
  {
   "cell_type": "code",
   "execution_count": 45,
   "metadata": {
    "Collapsed": "false"
   },
   "outputs": [
    {
     "name": "stdout",
     "output_type": "stream",
     "text": [
      "Percentiles: 25th =20.0, 75th = 67.0, IQR = 47.0\n",
      "Number of outliers: 21214\n",
      "Remaining reviews: 404295\n"
     ]
    }
   ],
   "source": [
    "#Calculate percentiles and iqr\n",
    "q25, q75 = np.percentile(df['word_count'], 25), np.percentile(df['word_count'], 75)\n",
    "iqr = q75 - q25\n",
    "\n",
    "#Calculate outlier cutoffs\n",
    "cutoff = iqr * 1.5\n",
    "lower, upper = q25 - cutoff, q75 + cutoff\n",
    "\n",
    "#Identify outliers\n",
    "outliers = [x for x in df.word_count if x < lower or x > upper]\n",
    "\n",
    "#Outlier stats\n",
    "print('Percentiles: 25th ={}, 75th = {}, IQR = {}'.format(q25,q75, iqr))\n",
    "print('Number of outliers:',len(outliers))\n",
    "print('Remaining reviews:', len(df) - len(outliers))"
   ]
  },
  {
   "cell_type": "code",
   "execution_count": 59,
   "metadata": {
    "Collapsed": "false"
   },
   "outputs": [
    {
     "data": {
      "text/plain": [
       "<matplotlib.axes._subplots.AxesSubplot at 0x1b92f9846a0>"
      ]
     },
     "execution_count": 59,
     "metadata": {},
     "output_type": "execute_result"
    },
    {
     "data": {
      "image/png": "[encoded data removed]",
      "text/plain": [
       "<Figure size 864x432 with 1 Axes>"
      ]
     },
     "metadata": {
      "needs_background": "light"
     },
     "output_type": "display_data"
    }
   ],
   "source": [
    "#Remove Reviews that are too long\n",
    "df = df[(df.word_count > lower) & (df.word_count < upper)]\n",
    "\n",
    "#View new distribution word counts\n",
    "df.word_count.hist(figsize = (12,6),\n",
    "                   bins = 40)"
   ]
  },
  {
   "cell_type": "markdown",
   "metadata": {
    "Collapsed": "false"
   },
   "source": [
    "## Sentiment Analysis with Vader\n",
    "\n",
    "Reviews data does not contain review scores associated with the review. Assigning  compound semantic score using VADER."
   ]
  },
  {
   "cell_type": "code",
   "execution_count": 30,
   "metadata": {
    "Collapsed": "false"
   },
   "outputs": [],
   "source": [
    "#Import and instantiate sentiment intensity analyzer\n",
    "from vaderSentiment.vaderSentiment import SentimentIntensityAnalyzer\n",
    "analyzer = SentimentIntensityAnalyzer()\n",
    "\n",
    "def compound_scores(series):\n",
    "    #Function to capture compound semantic score \n",
    "    score = analyzer.polarity_scores(series)['compound']\n",
    "    return score"
   ]
  },
  {
   "cell_type": "code",
   "execution_count": 31,
   "metadata": {
    "Collapsed": "false"
   },
   "outputs": [
    {
     "data": {
      "application/vnd.jupyter.widget-view+json": {
       "model_id": "2bd382d3717d4b09913f21b8adaaea2c",
       "version_major": 2,
       "version_minor": 0
      },
      "text/plain": [
       "HBox(children=(FloatProgress(value=0.0, description='Pandas Apply', max=425509.0, style=ProgressStyle(descript…"
      ]
     },
     "metadata": {},
     "output_type": "display_data"
    },
    {
     "name": "stdout",
     "output_type": "stream",
     "text": [
      "\n"
     ]
    }
   ],
   "source": [
    "#Apply compound_scores to comments and assign scores to sentiment_compound\n",
    "df['sentiment_compound']= df['comments'].swifter.apply(compound_scores)"
   ]
  },
  {
   "cell_type": "markdown",
   "metadata": {
    "Collapsed": "false"
   },
   "source": [
    "## Assign postive, negative, and neutral  labels to df"
   ]
  },
  {
   "cell_type": "code",
   "execution_count": 32,
   "metadata": {
    "Collapsed": "false"
   },
   "outputs": [
    {
     "data": {
      "text/html": [
       "<div>\n",
       "<style scoped>\n",
       "    .dataframe tbody tr th:only-of-type {\n",
       "        vertical-align: middle;\n",
       "    }\n",
       "\n",
       "    .dataframe tbody tr th {\n",
       "        vertical-align: top;\n",
       "    }\n",
       "\n",
       "    .dataframe thead th {\n",
       "        text-align: right;\n",
       "    }\n",
       "</style>\n",
       "<table border=\"1\" class=\"dataframe\">\n",
       "  <thead>\n",
       "    <tr style=\"text-align: right;\">\n",
       "      <th></th>\n",
       "      <th>comments</th>\n",
       "      <th>date</th>\n",
       "      <th>sentiment_compound</th>\n",
       "      <th>label</th>\n",
       "    </tr>\n",
       "  </thead>\n",
       "  <tbody>\n",
       "    <tr>\n",
       "      <th>19330</th>\n",
       "      <td>Hello Josh  Thank you very much for everything. I found myself very comfortable in your home. Quiet, comfortable and very complete and very clean, which I value highly. Next time I'd come with my family. I hope it's possible.</td>\n",
       "      <td>2013-12-01</td>\n",
       "      <td>0.9534</td>\n",
       "      <td>positive</td>\n",
       "    </tr>\n",
       "    <tr>\n",
       "      <th>143113</th>\n",
       "      <td>Stop and book it now. Rea (Website hidden by Airbnb) this later!!! If your a single person looking for a story book San Francisco experience, look no farther. Staying in Mikes place couldn't be any more wonderful. If your familiar with \"Tales of the City\" Mike is the Olympia Dukakis. The home is warm and inviting with all the nuances of an old Victorian. Mike is an amazing host . He can tell you how walk drive or public transit the city (don't bother with a car). Would love to keep the gem to myself but everyone deserves this unique place to lay your head. Make sure while you're there be introduced to William . Book IT you won't be disappointed .</td>\n",
       "      <td>2017-06-07</td>\n",
       "      <td>0.9334</td>\n",
       "      <td>positive</td>\n",
       "    </tr>\n",
       "  </tbody>\n",
       "</table>\n",
       "</div>"
      ],
      "text/plain": [
       "                                                                                                                                                                                                                                                                                                                                                                                                                                                                                                                                                                                                                                                                                       comments       date  sentiment_compound     label\n",
       "19330                                                                                                                                                                                                                                                                                                                                                                                                                                                         Hello Josh  Thank you very much for everything. I found myself very comfortable in your home. Quiet, comfortable and very complete and very clean, which I value highly. Next time I'd come with my family. I hope it's possible. 2013-12-01              0.9534  positive\n",
       "143113           Stop and book it now. Rea (Website hidden by Airbnb) this later!!! If your a single person looking for a story book San Francisco experience, look no farther. Staying in Mikes place couldn't be any more wonderful. If your familiar with \"Tales of the City\" Mike is the Olympia Dukakis. The home is warm and inviting with all the nuances of an old Victorian. Mike is an amazing host . He can tell you how walk drive or public transit the city (don't bother with a car). Would love to keep the gem to myself but everyone deserves this unique place to lay your head. Make sure while you're there be introduced to William . Book IT you won't be disappointed . 2017-06-07              0.9334  positive"
      ]
     },
     "metadata": {},
     "output_type": "display_data"
    }
   ],
   "source": [
    "#Function that assigns positive, negative, or neutral label depending on vader score\n",
    "def labeler(vader_score):\n",
    "    if vader_score > .25:\n",
    "        return 'positive'\n",
    "    elif vader_score < -.25:\n",
    "        return 'negative'\n",
    "    else:\n",
    "        return 'neutral'\n",
    "\n",
    "#Apply to df\n",
    "df['label']= df.sentiment_compound.apply(labeler)\n",
    "\n",
    "#check\n",
    "display(df.head(2))"
   ]
  },
  {
   "cell_type": "markdown",
   "metadata": {
    "Collapsed": "false"
   },
   "source": [
    "# Sample data for NLP\n",
    "\n",
    "There is a large number of reviews, the majority of which are positive. We will take a 15% sample of all positive reviews, keep all negative reviews, and remove the neutral reviews for our NLP analysis"
   ]
  },
  {
   "cell_type": "markdown",
   "metadata": {
    "Collapsed": "false"
   },
   "source": [
    "## Preview most positive and negative review counts"
   ]
  },
  {
   "cell_type": "code",
   "execution_count": 35,
   "metadata": {
    "Collapsed": "false"
   },
   "outputs": [],
   "source": [
    "#How many really negative and positive reviews are there?\n",
    "print(\"Number of positive reviews:\",len(df[df.label == \"positive\"]))\n",
    "print(\"Number of negative reviews:\",len(df[df.label == \"negative\"]))"
   ]
  },
  {
   "cell_type": "markdown",
   "metadata": {
    "Collapsed": "false"
   },
   "source": [
    "## Sample Data"
   ]
  },
  {
   "cell_type": "code",
   "execution_count": 50,
   "metadata": {
    "Collapsed": "false"
   },
   "outputs": [
    {
     "data": {
      "text/html": [
       "<div>\n",
       "<style scoped>\n",
       "    .dataframe tbody tr th:only-of-type {\n",
       "        vertical-align: middle;\n",
       "    }\n",
       "\n",
       "    .dataframe tbody tr th {\n",
       "        vertical-align: top;\n",
       "    }\n",
       "\n",
       "    .dataframe thead th {\n",
       "        text-align: right;\n",
       "    }\n",
       "</style>\n",
       "<table border=\"1\" class=\"dataframe\">\n",
       "  <thead>\n",
       "    <tr style=\"text-align: right;\">\n",
       "      <th></th>\n",
       "      <th>comments</th>\n",
       "      <th>date</th>\n",
       "      <th>sentiment_compound</th>\n",
       "      <th>label</th>\n",
       "      <th>word_count</th>\n",
       "    </tr>\n",
       "  </thead>\n",
       "  <tbody>\n",
       "    <tr>\n",
       "      <th>67250</th>\n",
       "      <td>Our San Francisco stay with Sharna was very disappointing   My husband has mobility problems, so I checked beforehand to find out if the stairs to her second-floor condo were steep.  Sharna said no.  But it turned out that her second floor condo was actually on the third floor and required my husband to climb 50 steps to get to our bedroom!     Key problems: First, rang the doorbell (which didn’t work). After we banged for a while on the outside door, Sharna appeared. No smile or hello. She told us she was in the middle of a phone call and would soon come back down to help with baggage. She gave us a set of keys that didn’t work. So we went back to ringing the inoperative doorbell &amp; banging on the door until Sharna came down again.  When I told her that three different people were unable to open the door, she denied it &amp; said no one else had ever had difficulty in using them.  I asked her what to do if we couldn't open the door. Sharna’s response: “I don’t know what to tell you.”  Finally I asked if she had another set of keys.  She did, and this set worked.  Sharna continued to argue that the doorbell did in fact work, but I gave up on arguing with her.        We climbed the 50 steps, with my husband increasingly exhausted. The bed was very comfortable, but there was a dresser filled with Sharna’s things and no decent chair to sit in.  Since we were booked for 7 days, I asked her for the use of a dresser.  She didn’t offer to clear out the dresser but asked instead how many drawers we needed.     Sharna told us that a cleaner came once a week but didn’t change the sheets.     Sharna told us that she was going off –to LA, I think, and that we would have the place to ourselves.     After she left, we discovered that the bed sheet and the pillowcase had reddish brown stains on them. There was no bath mat in the shower (so my husband, who has balance problems, couldn’t use it).  The two tiny wastebaskets were unlined, and the carpet had dirt stains on it.      If Jim and I were l0 years younger, we would have immediately made plans to move.  But we were exhausted, and thought that getting a new place would take time away from our plans to meet our friends and relatives in and around the city.     Sharna’s place wasn’t exactly a condo from hell – but it came close.  As for Sharna, I would rate her hosting abilities as close to zero (no stars).  She was unkind, indifferent, unhelpful and dishonest about the 50 stair 3rd floor condo.      Esther and Jim</td>\n",
       "      <td>2013-08-02</td>\n",
       "      <td>-0.9907</td>\n",
       "      <td>negative</td>\n",
       "      <td>461</td>\n",
       "    </tr>\n",
       "    <tr>\n",
       "      <th>13415</th>\n",
       "      <td>The location was great, yes it did have a great view, but it was dirty. The first thing I do anywhere is pull back the top sheet. There was a bunch of crunchy things and hair on the sheets and pillow case. The top sheet was torn in several places and the pillow cases had holes in them. They were not changed. I had no place to stay so I brushed them off and spent two uncomfortable nights in the house.       The bathtub/shower was dirty and had black mold around where the wall met the tub. The sink was dirty and I mean they hadn't been cleaned in a long time. The toilet was filthy inside and out. The little plastic container to put my bathroom stuff in on the counter was gross. I would never have put my toothpaste and toothbrush in it.        There is no heat in the house and it was 52 degrees at night. I went to Walgreens and purchased a small heater to use at night for the two nights I stayed there.        I was offered coffee when I woke up so I went out to the kitchen and there was barely one cup left in the machine. I was the only person at the house and I guess a quarter pot to share with the owner is all you get. I was very disappointed. I would never stay there again or recommend it to anyone</td>\n",
       "      <td>2013-11-01</td>\n",
       "      <td>-0.8452</td>\n",
       "      <td>negative</td>\n",
       "      <td>241</td>\n",
       "    </tr>\n",
       "    <tr>\n",
       "      <th>66343</th>\n",
       "      <td>Host was very friendly.  The block where this Air BnB is, was fine, but Haight is still a bit unsavory.</td>\n",
       "      <td>2015-06-08</td>\n",
       "      <td>-0.5082</td>\n",
       "      <td>negative</td>\n",
       "      <td>20</td>\n",
       "    </tr>\n",
       "    <tr>\n",
       "      <th>174617</th>\n",
       "      <td>I have stayed in many airbnb, always met host, on arrival, questions answered etc,,    that did not occur, and then lock issue, none complanied re the locks so  then new locks placed, but arrived and noticed new lock , but no code given to us,, had to call host in late hours ,, all unnecessary hassle.</td>\n",
       "      <td>2016-06-26</td>\n",
       "      <td>-0.4215</td>\n",
       "      <td>negative</td>\n",
       "      <td>56</td>\n",
       "    </tr>\n",
       "    <tr>\n",
       "      <th>38775</th>\n",
       "      <td>Gabriels spot is small but great for the price &amp; for a couple  if your in town just for a couple nights. Quiet neighborhood up on the hill close enough to walk although I do suggest you take a car service home after cause some of those SF hills are brutal after a long day. Only thing that was  kinda a bummer was the shower water pressure is non existent after a long day in the city. Overall though, nice small place to stay if you plan on being out in the city most of the time which you should be doing anyway cause your on vacation!</td>\n",
       "      <td>2016-01-26</td>\n",
       "      <td>-0.3297</td>\n",
       "      <td>negative</td>\n",
       "      <td>107</td>\n",
       "    </tr>\n",
       "  </tbody>\n",
       "</table>\n",
       "</div>"
      ],
      "text/plain": [
       "                                                                                                                                                                                                                                                                                                                                                                                                                                                                                                                                                                                                                                                                                                                                                                                                                                                                                                                                                                                                                                                                                                                                                                                                                                                                                                                                                                                                                                                                                                                                                                                                                                                                                                                                                                                                                                                                                                                                                                                                                                                                                                                                                                                                                                                                                                                                                                                                                                                                                                                                                                                                       comments  \\\n",
       "67250        Our San Francisco stay with Sharna was very disappointing   My husband has mobility problems, so I checked beforehand to find out if the stairs to her second-floor condo were steep.  Sharna said no.  But it turned out that her second floor condo was actually on the third floor and required my husband to climb 50 steps to get to our bedroom!     Key problems: First, rang the doorbell (which didn’t work). After we banged for a while on the outside door, Sharna appeared. No smile or hello. She told us she was in the middle of a phone call and would soon come back down to help with baggage. She gave us a set of keys that didn’t work. So we went back to ringing the inoperative doorbell & banging on the door until Sharna came down again.  When I told her that three different people were unable to open the door, she denied it & said no one else had ever had difficulty in using them.  I asked her what to do if we couldn't open the door. Sharna’s response: “I don’t know what to tell you.”  Finally I asked if she had another set of keys.  She did, and this set worked.  Sharna continued to argue that the doorbell did in fact work, but I gave up on arguing with her.        We climbed the 50 steps, with my husband increasingly exhausted. The bed was very comfortable, but there was a dresser filled with Sharna’s things and no decent chair to sit in.  Since we were booked for 7 days, I asked her for the use of a dresser.  She didn’t offer to clear out the dresser but asked instead how many drawers we needed.     Sharna told us that a cleaner came once a week but didn’t change the sheets.     Sharna told us that she was going off –to LA, I think, and that we would have the place to ourselves.     After she left, we discovered that the bed sheet and the pillowcase had reddish brown stains on them. There was no bath mat in the shower (so my husband, who has balance problems, couldn’t use it).  The two tiny wastebaskets were unlined, and the carpet had dirt stains on it.      If Jim and I were l0 years younger, we would have immediately made plans to move.  But we were exhausted, and thought that getting a new place would take time away from our plans to meet our friends and relatives in and around the city.     Sharna’s place wasn’t exactly a condo from hell – but it came close.  As for Sharna, I would rate her hosting abilities as close to zero (no stars).  She was unkind, indifferent, unhelpful and dishonest about the 50 stair 3rd floor condo.      Esther and Jim          \n",
       "13415                                                                                                                                                                                                                                                                                                                                                                                                                                                                                                                                                                                                                                                                                                                                                                                                                                                                                                                                                                                                                                                                                                                                                                                                                                                                                                                                      The location was great, yes it did have a great view, but it was dirty. The first thing I do anywhere is pull back the top sheet. There was a bunch of crunchy things and hair on the sheets and pillow case. The top sheet was torn in several places and the pillow cases had holes in them. They were not changed. I had no place to stay so I brushed them off and spent two uncomfortable nights in the house.       The bathtub/shower was dirty and had black mold around where the wall met the tub. The sink was dirty and I mean they hadn't been cleaned in a long time. The toilet was filthy inside and out. The little plastic container to put my bathroom stuff in on the counter was gross. I would never have put my toothpaste and toothbrush in it.        There is no heat in the house and it was 52 degrees at night. I went to Walgreens and purchased a small heater to use at night for the two nights I stayed there.        I was offered coffee when I woke up so I went out to the kitchen and there was barely one cup left in the machine. I was the only person at the house and I guess a quarter pot to share with the owner is all you get. I was very disappointed. I would never stay there again or recommend it to anyone      \n",
       "66343                                                                                                                                                                                                                                                                                                                                                                                                                                                                                                                                                                                                                                                                                                                                                                                                                                                                                                                                                                                                                                                                                                                                                                                                                                                                                                                                                                                                                                                                                                                                                                                                                                                                                                                                                                                                                                                                                                                                                                                                                                                                                                                                                                                                                                                                                                                                                                                                                                                                                                   Host was very friendly.  The block where this Air BnB is, was fine, but Haight is still a bit unsavory.   \n",
       "174617                                                                                                                                                                                                                                                                                                                                                                                                                                                                                                                                                                                                                                                                                                                                                                                                                                                                                                                                                                                                                                                                                                                                                                                                                                                                                                                                                                                                                                                                                                                                                                                                                                                                                                                                                                                                                                                                                                                                                                                                                                                                                                                                                                                                                                                                                          I have stayed in many airbnb, always met host, on arrival, questions answered etc,,    that did not occur, and then lock issue, none complanied re the locks so  then new locks placed, but arrived and noticed new lock , but no code given to us,, had to call host in late hours ,, all unnecessary hassle.    \n",
       "38775                                                                                                                                                                                                                                                                                                                                                                                                                                                                                                                                                                                                                                                                                                                                                                                                                                                                                                                                                                                                                                                                                                                                                                                                                                                                                                                                                                                                                                                                                                                                                                                                                                                                                                                                                                                                                                                                                                                                                                                                                                                 Gabriels spot is small but great for the price & for a couple  if your in town just for a couple nights. Quiet neighborhood up on the hill close enough to walk although I do suggest you take a car service home after cause some of those SF hills are brutal after a long day. Only thing that was  kinda a bummer was the shower water pressure is non existent after a long day in the city. Overall though, nice small place to stay if you plan on being out in the city most of the time which you should be doing anyway cause your on vacation!   \n",
       "\n",
       "             date  sentiment_compound     label  word_count  \n",
       "67250  2013-08-02             -0.9907  negative         461  \n",
       "13415  2013-11-01             -0.8452  negative         241  \n",
       "66343  2015-06-08             -0.5082  negative          20  \n",
       "174617 2016-06-26             -0.4215  negative          56  \n",
       "38775  2016-01-26             -0.3297  negative         107  "
      ]
     },
     "execution_count": 50,
     "metadata": {},
     "output_type": "execute_result"
    }
   ],
   "source": [
    "#Sample 30% of positive reviews, we'll use all negative reviews for NLP\n",
    "positive_sample = df.loc[df['label'] == \"positive\"].sample(frac = .30, random_state = 24, replace = False)\n",
    "\n",
    "#Subset negative reviews\n",
    "df2 = df.loc[df['label'] == 'negative']\n",
    "\n",
    "#Concat positive_sample to df2\n",
    "df2 = pd.concat((df2, positive_sample))\n",
    "\n",
    "#Check\n",
    "df2.head()"
   ]
  },
  {
   "cell_type": "markdown",
   "metadata": {
    "Collapsed": "false"
   },
   "source": [
    "# Write file to csv"
   ]
  },
  {
   "cell_type": "code",
   "execution_count": 51,
   "metadata": {
    "Collapsed": "false"
   },
   "outputs": [
    {
     "name": "stdout",
     "output_type": "stream",
     "text": [
      "Final reviews shape: (65049, 5)\n"
     ]
    }
   ],
   "source": [
    "#View reviews shape\n",
    "print('Final reviews shape:',df2.shape)\n",
    "\n",
    "#Set path to write processed data\n",
    "path = r'C:\\Users\\kishe\\Documents\\Data Science\\Projects\\Python Projects\\In Progress\\Air BnB - SF\\Data\\03_Processed'\n",
    "\n",
    "#Write to csv\n",
    "df2.to_csv(path + '/2020_0208_Reviews_Processed_NLP.csv',sep=',', index=False)"
   ]
  }
 ],
 "metadata": {
  "kernelspec": {
   "display_name": "NLP.venv",
   "language": "python",
   "name": "nlp.venv"
  },
  "language_info": {
   "codemirror_mode": {
    "name": "ipython",
    "version": 3
   },
   "file_extension": ".py",
   "mimetype": "text/x-python",
   "name": "python",
   "nbconvert_exporter": "python",
   "pygments_lexer": "ipython3",
   "version": "3.8.1"
  },
  "toc-autonumbering": true,
  "toc-showcode": true
 },
 "nbformat": 4,
 "nbformat_minor": 4
}
