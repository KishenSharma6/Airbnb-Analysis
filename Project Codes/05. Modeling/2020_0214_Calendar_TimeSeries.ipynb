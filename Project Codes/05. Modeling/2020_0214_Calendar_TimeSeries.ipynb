{
 "cells": [
  {
   "cell_type": "markdown",
   "metadata": {},
   "source": [
    "**Airbnb Calendar -Time-Series Analysis**"
   ]
  },
  {
   "cell_type": "markdown",
   "metadata": {},
   "source": [
    "# Introduction"
   ]
  },
  {
   "cell_type": "markdown",
   "metadata": {},
   "source": [
    "## Read in libraries, data, and set notebook preferences"
   ]
  },
  {
   "cell_type": "markdown",
   "metadata": {},
   "source": [
    "**Read in libraries**"
   ]
  },
  {
   "cell_type": "code",
   "execution_count": 83,
   "metadata": {},
   "outputs": [],
   "source": [
    "#Read in libraries\n",
    "from fbprophet import Prophet\n",
    "from fbprophet.plot import plot_plotly\n",
    "\n",
    "import pandas as pd\n",
    "import numpy as np\n",
    "\n",
    "import matplotlib.pyplot as plt\n",
    "import seaborn as sns"
   ]
  },
  {
   "cell_type": "markdown",
   "metadata": {},
   "source": [
    "**Read in Data**"
   ]
  },
  {
   "cell_type": "code",
   "execution_count": 84,
   "metadata": {},
   "outputs": [],
   "source": [
    "#Set path to local machine for data\n",
    "path = r'C:\\Users\\kishe\\Documents\\Data Science\\Projects\\Python Projects\\In Progress\\Air BnB - SF\\Data\\02_Intermediate/'\n",
    "\n",
    "#Read in Airbnb Calendar data\n",
    "calendar = pd.read_csv(path + '2020_0130_Calendar_Cleaned.csv', sep = ',',\n",
    "                       parse_dates=['date'], low_memory=True,index_col=0)\n",
    "\n",
    "#Read in Zillow data\n",
    "zillow = pd.read_csv(path + '2020_0130_Zillow_Cleaned.csv', parse_dates=['Date'],\n",
    "                     index_col=0, sep=',')"
   ]
  },
  {
   "cell_type": "markdown",
   "metadata": {},
   "source": [
    "**Set notebook preferences**"
   ]
  },
  {
   "cell_type": "code",
   "execution_count": 85,
   "metadata": {},
   "outputs": [],
   "source": [
    "#Set plot aesthetics for notebook\n",
    "sns.set(style='whitegrid', palette='pastel', color_codes=True)\n",
    "\n",
    "#Increase number of columns and rows displayed by Pandas\n",
    "pd.set_option('display.max_rows',100)\n",
    "\n",
    "#Set float format\n",
    "pd.options.display.float_format = '{:.0f}'.format\n",
    "\n",
    "#supress future warnings\n",
    "import warnings\n",
    "warnings.simplefilter(action='ignore', category=FutureWarning)"
   ]
  },
  {
   "cell_type": "markdown",
   "metadata": {},
   "source": [
    "# Preview Data"
   ]
  },
  {
   "cell_type": "markdown",
   "metadata": {},
   "source": [
    "## Airbnb Calendar Data"
   ]
  },
  {
   "cell_type": "code",
   "execution_count": 86,
   "metadata": {},
   "outputs": [
    {
     "name": "stdout",
     "output_type": "stream",
     "text": [
      "(14125242, 5)\n"
     ]
    }
   ],
   "source": [
    "#View shape and preview calendar data\n",
    "print(calendar.shape)"
   ]
  },
  {
   "cell_type": "markdown",
   "metadata": {},
   "source": [
    "## Zillow Data"
   ]
  },
  {
   "cell_type": "code",
   "execution_count": 87,
   "metadata": {},
   "outputs": [
    {
     "name": "stdout",
     "output_type": "stream",
     "text": [
      "(277104, 9)\n"
     ]
    },
    {
     "data": {
      "text/html": [
       "<div>\n",
       "<style scoped>\n",
       "    .dataframe tbody tr th:only-of-type {\n",
       "        vertical-align: middle;\n",
       "    }\n",
       "\n",
       "    .dataframe tbody tr th {\n",
       "        vertical-align: top;\n",
       "    }\n",
       "\n",
       "    .dataframe thead th {\n",
       "        text-align: right;\n",
       "    }\n",
       "</style>\n",
       "<table border=\"1\" class=\"dataframe\">\n",
       "  <thead>\n",
       "    <tr style=\"text-align: right;\">\n",
       "      <th></th>\n",
       "      <th>City</th>\n",
       "      <th>County</th>\n",
       "      <th>Metro</th>\n",
       "      <th>Zip</th>\n",
       "      <th>State</th>\n",
       "      <th>SizeRank</th>\n",
       "      <th>Bedrooms</th>\n",
       "      <th>Date</th>\n",
       "      <th>Median_Rent</th>\n",
       "    </tr>\n",
       "  </thead>\n",
       "  <tbody>\n",
       "    <tr>\n",
       "      <th>4928</th>\n",
       "      <td>Virginia Beach</td>\n",
       "      <td>Virginia Beach City</td>\n",
       "      <td>Virginia Beach-Norfolk-Newport News</td>\n",
       "      <td>23462</td>\n",
       "      <td>VA</td>\n",
       "      <td>83</td>\n",
       "      <td>3</td>\n",
       "      <td>2010-03-01</td>\n",
       "      <td>1200</td>\n",
       "    </tr>\n",
       "    <tr>\n",
       "      <th>11368</th>\n",
       "      <td>Virginia Beach</td>\n",
       "      <td>Virginia Beach City</td>\n",
       "      <td>Virginia Beach-Norfolk-Newport News</td>\n",
       "      <td>23462</td>\n",
       "      <td>VA</td>\n",
       "      <td>83</td>\n",
       "      <td>3</td>\n",
       "      <td>2010-04-01</td>\n",
       "      <td>1250</td>\n",
       "    </tr>\n",
       "    <tr>\n",
       "      <th>17808</th>\n",
       "      <td>Virginia Beach</td>\n",
       "      <td>Virginia Beach City</td>\n",
       "      <td>Virginia Beach-Norfolk-Newport News</td>\n",
       "      <td>23462</td>\n",
       "      <td>VA</td>\n",
       "      <td>83</td>\n",
       "      <td>3</td>\n",
       "      <td>2010-05-01</td>\n",
       "      <td>1200</td>\n",
       "    </tr>\n",
       "    <tr>\n",
       "      <th>24248</th>\n",
       "      <td>Virginia Beach</td>\n",
       "      <td>Virginia Beach City</td>\n",
       "      <td>Virginia Beach-Norfolk-Newport News</td>\n",
       "      <td>23462</td>\n",
       "      <td>VA</td>\n",
       "      <td>83</td>\n",
       "      <td>3</td>\n",
       "      <td>2010-06-01</td>\n",
       "      <td>1250</td>\n",
       "    </tr>\n",
       "    <tr>\n",
       "      <th>30688</th>\n",
       "      <td>Virginia Beach</td>\n",
       "      <td>Virginia Beach City</td>\n",
       "      <td>Virginia Beach-Norfolk-Newport News</td>\n",
       "      <td>23462</td>\n",
       "      <td>VA</td>\n",
       "      <td>83</td>\n",
       "      <td>3</td>\n",
       "      <td>2010-07-01</td>\n",
       "      <td>1225</td>\n",
       "    </tr>\n",
       "  </tbody>\n",
       "</table>\n",
       "</div>"
      ],
      "text/plain": [
       "                 City               County  \\\n",
       "4928   Virginia Beach  Virginia Beach City   \n",
       "11368  Virginia Beach  Virginia Beach City   \n",
       "17808  Virginia Beach  Virginia Beach City   \n",
       "24248  Virginia Beach  Virginia Beach City   \n",
       "30688  Virginia Beach  Virginia Beach City   \n",
       "\n",
       "                                     Metro    Zip State  SizeRank  Bedrooms  \\\n",
       "4928   Virginia Beach-Norfolk-Newport News  23462    VA        83         3   \n",
       "11368  Virginia Beach-Norfolk-Newport News  23462    VA        83         3   \n",
       "17808  Virginia Beach-Norfolk-Newport News  23462    VA        83         3   \n",
       "24248  Virginia Beach-Norfolk-Newport News  23462    VA        83         3   \n",
       "30688  Virginia Beach-Norfolk-Newport News  23462    VA        83         3   \n",
       "\n",
       "            Date  Median_Rent  \n",
       "4928  2010-03-01         1200  \n",
       "11368 2010-04-01         1250  \n",
       "17808 2010-05-01         1200  \n",
       "24248 2010-06-01         1250  \n",
       "30688 2010-07-01         1225  "
      ]
     },
     "execution_count": 87,
     "metadata": {},
     "output_type": "execute_result"
    }
   ],
   "source": [
    "#View shape and preview calendar data\n",
    "print(zillow.shape)\n",
    "zillow.head()"
   ]
  },
  {
   "cell_type": "markdown",
   "metadata": {},
   "source": [
    "# Time Series Analysis"
   ]
  },
  {
   "cell_type": "markdown",
   "metadata": {},
   "source": [
    "## Date preparation, indexing and feature engineering"
   ]
  },
  {
   "cell_type": "markdown",
   "metadata": {},
   "source": [
    "### Calendar data preparation"
   ]
  },
  {
   "cell_type": "code",
   "execution_count": 88,
   "metadata": {},
   "outputs": [],
   "source": [
    "#Set date as index in calendar\n",
    "calendar.set_index('date', inplace=True)"
   ]
  },
  {
   "cell_type": "code",
   "execution_count": 89,
   "metadata": {},
   "outputs": [
    {
     "data": {
      "text/html": [
       "<div>\n",
       "<style scoped>\n",
       "    .dataframe tbody tr th:only-of-type {\n",
       "        vertical-align: middle;\n",
       "    }\n",
       "\n",
       "    .dataframe tbody tr th {\n",
       "        vertical-align: top;\n",
       "    }\n",
       "\n",
       "    .dataframe thead th {\n",
       "        text-align: right;\n",
       "    }\n",
       "</style>\n",
       "<table border=\"1\" class=\"dataframe\">\n",
       "  <thead>\n",
       "    <tr style=\"text-align: right;\">\n",
       "      <th></th>\n",
       "      <th>index</th>\n",
       "      <th>available</th>\n",
       "      <th>listing_id</th>\n",
       "      <th>price</th>\n",
       "      <th>year</th>\n",
       "      <th>month</th>\n",
       "      <th>day</th>\n",
       "      <th>weekday</th>\n",
       "      <th>month_year</th>\n",
       "    </tr>\n",
       "    <tr>\n",
       "      <th>date</th>\n",
       "      <th></th>\n",
       "      <th></th>\n",
       "      <th></th>\n",
       "      <th></th>\n",
       "      <th></th>\n",
       "      <th></th>\n",
       "      <th></th>\n",
       "      <th></th>\n",
       "      <th></th>\n",
       "    </tr>\n",
       "  </thead>\n",
       "  <tbody>\n",
       "    <tr>\n",
       "      <th>2019-04-05</th>\n",
       "      <td>0</td>\n",
       "      <td>1</td>\n",
       "      <td>21190709</td>\n",
       "      <td>5000</td>\n",
       "      <td>2019</td>\n",
       "      <td>4</td>\n",
       "      <td>5</td>\n",
       "      <td>4</td>\n",
       "      <td>2019-04</td>\n",
       "    </tr>\n",
       "    <tr>\n",
       "      <th>2019-04-04</th>\n",
       "      <td>1</td>\n",
       "      <td>1</td>\n",
       "      <td>21190709</td>\n",
       "      <td>5000</td>\n",
       "      <td>2019</td>\n",
       "      <td>4</td>\n",
       "      <td>4</td>\n",
       "      <td>3</td>\n",
       "      <td>2019-04</td>\n",
       "    </tr>\n",
       "    <tr>\n",
       "      <th>2019-04-03</th>\n",
       "      <td>2</td>\n",
       "      <td>1</td>\n",
       "      <td>21190709</td>\n",
       "      <td>5000</td>\n",
       "      <td>2019</td>\n",
       "      <td>4</td>\n",
       "      <td>3</td>\n",
       "      <td>2</td>\n",
       "      <td>2019-04</td>\n",
       "    </tr>\n",
       "    <tr>\n",
       "      <th>2019-04-02</th>\n",
       "      <td>3</td>\n",
       "      <td>1</td>\n",
       "      <td>21190709</td>\n",
       "      <td>5000</td>\n",
       "      <td>2019</td>\n",
       "      <td>4</td>\n",
       "      <td>2</td>\n",
       "      <td>1</td>\n",
       "      <td>2019-04</td>\n",
       "    </tr>\n",
       "    <tr>\n",
       "      <th>2019-04-01</th>\n",
       "      <td>4</td>\n",
       "      <td>1</td>\n",
       "      <td>21190709</td>\n",
       "      <td>5000</td>\n",
       "      <td>2019</td>\n",
       "      <td>4</td>\n",
       "      <td>1</td>\n",
       "      <td>0</td>\n",
       "      <td>2019-04</td>\n",
       "    </tr>\n",
       "  </tbody>\n",
       "</table>\n",
       "</div>"
      ],
      "text/plain": [
       "            index  available  listing_id  price  year  month  day  weekday  \\\n",
       "date                                                                         \n",
       "2019-04-05      0          1    21190709   5000  2019      4    5        4   \n",
       "2019-04-04      1          1    21190709   5000  2019      4    4        3   \n",
       "2019-04-03      2          1    21190709   5000  2019      4    3        2   \n",
       "2019-04-02      3          1    21190709   5000  2019      4    2        1   \n",
       "2019-04-01      4          1    21190709   5000  2019      4    1        0   \n",
       "\n",
       "           month_year  \n",
       "date                   \n",
       "2019-04-05    2019-04  \n",
       "2019-04-04    2019-04  \n",
       "2019-04-03    2019-04  \n",
       "2019-04-02    2019-04  \n",
       "2019-04-01    2019-04  "
      ]
     },
     "execution_count": 89,
     "metadata": {},
     "output_type": "execute_result"
    }
   ],
   "source": [
    "#Extract data from index and assign to columns \n",
    "calendar['year'] = calendar.index.year\n",
    "calendar['month'] = calendar.index.month\n",
    "calendar['day'] = calendar.index.day\n",
    "calendar['weekday'] = calendar.index.weekday\n",
    "calendar['month_year'] = calendar.index.to_period('M')\n",
    "\n",
    "#Check\n",
    "calendar.head()"
   ]
  },
  {
   "cell_type": "markdown",
   "metadata": {},
   "source": [
    "### Zillow data preparation"
   ]
  },
  {
   "cell_type": "code",
   "execution_count": 90,
   "metadata": {},
   "outputs": [
    {
     "data": {
      "text/html": [
       "<div>\n",
       "<style scoped>\n",
       "    .dataframe tbody tr th:only-of-type {\n",
       "        vertical-align: middle;\n",
       "    }\n",
       "\n",
       "    .dataframe tbody tr th {\n",
       "        vertical-align: top;\n",
       "    }\n",
       "\n",
       "    .dataframe thead th {\n",
       "        text-align: right;\n",
       "    }\n",
       "</style>\n",
       "<table border=\"1\" class=\"dataframe\">\n",
       "  <thead>\n",
       "    <tr style=\"text-align: right;\">\n",
       "      <th></th>\n",
       "      <th>City</th>\n",
       "      <th>County</th>\n",
       "      <th>Metro</th>\n",
       "      <th>Zip</th>\n",
       "      <th>State</th>\n",
       "      <th>SizeRank</th>\n",
       "      <th>Bedrooms</th>\n",
       "      <th>Median_Rent</th>\n",
       "    </tr>\n",
       "    <tr>\n",
       "      <th>Date</th>\n",
       "      <th></th>\n",
       "      <th></th>\n",
       "      <th></th>\n",
       "      <th></th>\n",
       "      <th></th>\n",
       "      <th></th>\n",
       "      <th></th>\n",
       "      <th></th>\n",
       "    </tr>\n",
       "  </thead>\n",
       "  <tbody>\n",
       "    <tr>\n",
       "      <th>2010-03-01</th>\n",
       "      <td>Virginia Beach</td>\n",
       "      <td>Virginia Beach City</td>\n",
       "      <td>Virginia Beach-Norfolk-Newport News</td>\n",
       "      <td>23462</td>\n",
       "      <td>VA</td>\n",
       "      <td>83</td>\n",
       "      <td>3</td>\n",
       "      <td>1200</td>\n",
       "    </tr>\n",
       "    <tr>\n",
       "      <th>2010-04-01</th>\n",
       "      <td>Virginia Beach</td>\n",
       "      <td>Virginia Beach City</td>\n",
       "      <td>Virginia Beach-Norfolk-Newport News</td>\n",
       "      <td>23462</td>\n",
       "      <td>VA</td>\n",
       "      <td>83</td>\n",
       "      <td>3</td>\n",
       "      <td>1250</td>\n",
       "    </tr>\n",
       "    <tr>\n",
       "      <th>2010-05-01</th>\n",
       "      <td>Virginia Beach</td>\n",
       "      <td>Virginia Beach City</td>\n",
       "      <td>Virginia Beach-Norfolk-Newport News</td>\n",
       "      <td>23462</td>\n",
       "      <td>VA</td>\n",
       "      <td>83</td>\n",
       "      <td>3</td>\n",
       "      <td>1200</td>\n",
       "    </tr>\n",
       "    <tr>\n",
       "      <th>2010-06-01</th>\n",
       "      <td>Virginia Beach</td>\n",
       "      <td>Virginia Beach City</td>\n",
       "      <td>Virginia Beach-Norfolk-Newport News</td>\n",
       "      <td>23462</td>\n",
       "      <td>VA</td>\n",
       "      <td>83</td>\n",
       "      <td>3</td>\n",
       "      <td>1250</td>\n",
       "    </tr>\n",
       "    <tr>\n",
       "      <th>2010-07-01</th>\n",
       "      <td>Virginia Beach</td>\n",
       "      <td>Virginia Beach City</td>\n",
       "      <td>Virginia Beach-Norfolk-Newport News</td>\n",
       "      <td>23462</td>\n",
       "      <td>VA</td>\n",
       "      <td>83</td>\n",
       "      <td>3</td>\n",
       "      <td>1225</td>\n",
       "    </tr>\n",
       "  </tbody>\n",
       "</table>\n",
       "</div>"
      ],
      "text/plain": [
       "                      City               County  \\\n",
       "Date                                              \n",
       "2010-03-01  Virginia Beach  Virginia Beach City   \n",
       "2010-04-01  Virginia Beach  Virginia Beach City   \n",
       "2010-05-01  Virginia Beach  Virginia Beach City   \n",
       "2010-06-01  Virginia Beach  Virginia Beach City   \n",
       "2010-07-01  Virginia Beach  Virginia Beach City   \n",
       "\n",
       "                                          Metro    Zip State  SizeRank  \\\n",
       "Date                                                                     \n",
       "2010-03-01  Virginia Beach-Norfolk-Newport News  23462    VA        83   \n",
       "2010-04-01  Virginia Beach-Norfolk-Newport News  23462    VA        83   \n",
       "2010-05-01  Virginia Beach-Norfolk-Newport News  23462    VA        83   \n",
       "2010-06-01  Virginia Beach-Norfolk-Newport News  23462    VA        83   \n",
       "2010-07-01  Virginia Beach-Norfolk-Newport News  23462    VA        83   \n",
       "\n",
       "            Bedrooms  Median_Rent  \n",
       "Date                               \n",
       "2010-03-01         3         1200  \n",
       "2010-04-01         3         1250  \n",
       "2010-05-01         3         1200  \n",
       "2010-06-01         3         1250  \n",
       "2010-07-01         3         1225  "
      ]
     },
     "execution_count": 90,
     "metadata": {},
     "output_type": "execute_result"
    }
   ],
   "source": [
    "#Set date as index\n",
    "zillow.set_index('Date', inplace=True)\n",
    "\n",
    "zillow.head()"
   ]
  },
  {
   "cell_type": "markdown",
   "metadata": {},
   "source": [
    "### Airbnb Growth in SF(12/2018 - 12/2019)?"
   ]
  },
  {
   "cell_type": "code",
   "execution_count": 91,
   "metadata": {},
   "outputs": [
    {
     "data": {
      "text/html": [
       "<div>\n",
       "<style scoped>\n",
       "    .dataframe tbody tr th:only-of-type {\n",
       "        vertical-align: middle;\n",
       "    }\n",
       "\n",
       "    .dataframe tbody tr th {\n",
       "        vertical-align: top;\n",
       "    }\n",
       "\n",
       "    .dataframe thead th {\n",
       "        text-align: right;\n",
       "    }\n",
       "</style>\n",
       "<table border=\"1\" class=\"dataframe\">\n",
       "  <thead>\n",
       "    <tr style=\"text-align: right;\">\n",
       "      <th></th>\n",
       "      <th>index</th>\n",
       "      <th>available</th>\n",
       "      <th>listing_id</th>\n",
       "      <th>price</th>\n",
       "      <th>year</th>\n",
       "      <th>month</th>\n",
       "      <th>day</th>\n",
       "      <th>weekday</th>\n",
       "      <th>month_year</th>\n",
       "    </tr>\n",
       "    <tr>\n",
       "      <th>date</th>\n",
       "      <th></th>\n",
       "      <th></th>\n",
       "      <th></th>\n",
       "      <th></th>\n",
       "      <th></th>\n",
       "      <th></th>\n",
       "      <th></th>\n",
       "      <th></th>\n",
       "      <th></th>\n",
       "    </tr>\n",
       "  </thead>\n",
       "  <tbody>\n",
       "    <tr>\n",
       "      <th>2018-01-01</th>\n",
       "      <td>45276890</td>\n",
       "      <td>1</td>\n",
       "      <td>21606897</td>\n",
       "      <td>39</td>\n",
       "      <td>2018</td>\n",
       "      <td>1</td>\n",
       "      <td>1</td>\n",
       "      <td>0</td>\n",
       "      <td>2018-01</td>\n",
       "    </tr>\n",
       "    <tr>\n",
       "      <th>2018-01-01</th>\n",
       "      <td>43172955</td>\n",
       "      <td>1</td>\n",
       "      <td>4263821</td>\n",
       "      <td>65</td>\n",
       "      <td>2018</td>\n",
       "      <td>1</td>\n",
       "      <td>1</td>\n",
       "      <td>0</td>\n",
       "      <td>2018-01</td>\n",
       "    </tr>\n",
       "    <tr>\n",
       "      <th>2018-01-01</th>\n",
       "      <td>44010340</td>\n",
       "      <td>1</td>\n",
       "      <td>2802480</td>\n",
       "      <td>499</td>\n",
       "      <td>2018</td>\n",
       "      <td>1</td>\n",
       "      <td>1</td>\n",
       "      <td>0</td>\n",
       "      <td>2018-01</td>\n",
       "    </tr>\n",
       "    <tr>\n",
       "      <th>2018-01-01</th>\n",
       "      <td>42830259</td>\n",
       "      <td>1</td>\n",
       "      <td>5031525</td>\n",
       "      <td>200</td>\n",
       "      <td>2018</td>\n",
       "      <td>1</td>\n",
       "      <td>1</td>\n",
       "      <td>0</td>\n",
       "      <td>2018-01</td>\n",
       "    </tr>\n",
       "    <tr>\n",
       "      <th>2018-01-01</th>\n",
       "      <td>44009610</td>\n",
       "      <td>1</td>\n",
       "      <td>6092935</td>\n",
       "      <td>300</td>\n",
       "      <td>2018</td>\n",
       "      <td>1</td>\n",
       "      <td>1</td>\n",
       "      <td>0</td>\n",
       "      <td>2018-01</td>\n",
       "    </tr>\n",
       "    <tr>\n",
       "      <th>...</th>\n",
       "      <td>...</td>\n",
       "      <td>...</td>\n",
       "      <td>...</td>\n",
       "      <td>...</td>\n",
       "      <td>...</td>\n",
       "      <td>...</td>\n",
       "      <td>...</td>\n",
       "      <td>...</td>\n",
       "      <td>...</td>\n",
       "    </tr>\n",
       "    <tr>\n",
       "      <th>2019-12-31</th>\n",
       "      <td>26115941</td>\n",
       "      <td>1</td>\n",
       "      <td>25449566</td>\n",
       "      <td>312</td>\n",
       "      <td>2019</td>\n",
       "      <td>12</td>\n",
       "      <td>31</td>\n",
       "      <td>1</td>\n",
       "      <td>2019-12</td>\n",
       "    </tr>\n",
       "    <tr>\n",
       "      <th>2019-12-31</th>\n",
       "      <td>3638957</td>\n",
       "      <td>1</td>\n",
       "      <td>23942828</td>\n",
       "      <td>80</td>\n",
       "      <td>2019</td>\n",
       "      <td>12</td>\n",
       "      <td>31</td>\n",
       "      <td>1</td>\n",
       "      <td>2019-12</td>\n",
       "    </tr>\n",
       "    <tr>\n",
       "      <th>2019-12-31</th>\n",
       "      <td>31751547</td>\n",
       "      <td>1</td>\n",
       "      <td>5212469</td>\n",
       "      <td>202</td>\n",
       "      <td>2019</td>\n",
       "      <td>12</td>\n",
       "      <td>31</td>\n",
       "      <td>1</td>\n",
       "      <td>2019-12</td>\n",
       "    </tr>\n",
       "    <tr>\n",
       "      <th>2019-12-31</th>\n",
       "      <td>14302129</td>\n",
       "      <td>1</td>\n",
       "      <td>28783226</td>\n",
       "      <td>199</td>\n",
       "      <td>2019</td>\n",
       "      <td>12</td>\n",
       "      <td>31</td>\n",
       "      <td>1</td>\n",
       "      <td>2019-12</td>\n",
       "    </tr>\n",
       "    <tr>\n",
       "      <th>2019-12-31</th>\n",
       "      <td>2157933</td>\n",
       "      <td>1</td>\n",
       "      <td>2980416</td>\n",
       "      <td>59</td>\n",
       "      <td>2019</td>\n",
       "      <td>12</td>\n",
       "      <td>31</td>\n",
       "      <td>1</td>\n",
       "      <td>2019-12</td>\n",
       "    </tr>\n",
       "  </tbody>\n",
       "</table>\n",
       "<p>9495332 rows × 9 columns</p>\n",
       "</div>"
      ],
      "text/plain": [
       "               index  available  listing_id  price  year  month  day  weekday  \\\n",
       "date                                                                            \n",
       "2018-01-01  45276890          1    21606897     39  2018      1    1        0   \n",
       "2018-01-01  43172955          1     4263821     65  2018      1    1        0   \n",
       "2018-01-01  44010340          1     2802480    499  2018      1    1        0   \n",
       "2018-01-01  42830259          1     5031525    200  2018      1    1        0   \n",
       "2018-01-01  44009610          1     6092935    300  2018      1    1        0   \n",
       "...              ...        ...         ...    ...   ...    ...  ...      ...   \n",
       "2019-12-31  26115941          1    25449566    312  2019     12   31        1   \n",
       "2019-12-31   3638957          1    23942828     80  2019     12   31        1   \n",
       "2019-12-31  31751547          1     5212469    202  2019     12   31        1   \n",
       "2019-12-31  14302129          1    28783226    199  2019     12   31        1   \n",
       "2019-12-31   2157933          1     2980416     59  2019     12   31        1   \n",
       "\n",
       "           month_year  \n",
       "date                   \n",
       "2018-01-01    2018-01  \n",
       "2018-01-01    2018-01  \n",
       "2018-01-01    2018-01  \n",
       "2018-01-01    2018-01  \n",
       "2018-01-01    2018-01  \n",
       "...               ...  \n",
       "2019-12-31    2019-12  \n",
       "2019-12-31    2019-12  \n",
       "2019-12-31    2019-12  \n",
       "2019-12-31    2019-12  \n",
       "2019-12-31    2019-12  \n",
       "\n",
       "[9495332 rows x 9 columns]"
      ]
     },
     "execution_count": 91,
     "metadata": {},
     "output_type": "execute_result"
    }
   ],
   "source": [
    "calendar[calendar['available'] == 1].sort_values(by = 'date')"
   ]
  },
  {
   "cell_type": "code",
   "execution_count": 97,
   "metadata": {},
   "outputs": [
    {
     "data": {
      "text/plain": [
       "<matplotlib.axes._subplots.AxesSubplot at 0x21d86dd4780>"
      ]
     },
     "execution_count": 97,
     "metadata": {},
     "output_type": "execute_result"
    },
    {
     "data": {
      "image/png": "[encoded data removed]",
      "text/plain": [
       "<Figure size 1440x720 with 1 Axes>"
      ]
     },
     "metadata": {},
     "output_type": "display_data"
    }
   ],
   "source": [
    "#Store count of booked evenings in Sf per night \n",
    "booked_nights = calendar[calendar['available'] == 0].groupby(['date'])['available'].count()\n",
    "booked_nights.plot(title = 'Booked Nights in SF', figsize = (20,10))\n",
    "#Group last year by month_year and get a count of unique listings per day\n",
    "#last_year_daily = booked_nights.groupby(['date'])['listing_id'].agg({'nunique'}).reset_index()\n",
    "#booked_nights.groupby(['date'])['listing_id'].agg({'nunique'}).reset_index()\n",
    "# #Rename columns\n",
    "# last_year_daily =last_year_daily.rename(columns = {'nunique': 'listings'})\n",
    "\n",
    "# last_year_daily"
   ]
  },
  {
   "cell_type": "code",
   "execution_count": 81,
   "metadata": {},
   "outputs": [
    {
     "ename": "NameError",
     "evalue": "name 'last_year_daily' is not defined",
     "output_type": "error",
     "traceback": [
      "\u001b[1;31m---------------------------------------------------------------------------\u001b[0m",
      "\u001b[1;31mNameError\u001b[0m                                 Traceback (most recent call last)",
      "\u001b[1;32m<ipython-input-81-13ef4b524bdc>\u001b[0m in \u001b[0;36m<module>\u001b[1;34m\u001b[0m\n\u001b[0;32m      1\u001b[0m \u001b[1;31m#Weekly listings\u001b[0m\u001b[1;33m\u001b[0m\u001b[1;33m\u001b[0m\u001b[1;33m\u001b[0m\u001b[0m\n\u001b[1;32m----> 2\u001b[1;33m \u001b[0mprint\u001b[0m\u001b[1;33m(\u001b[0m\u001b[0mlast_year_daily\u001b[0m\u001b[1;33m.\u001b[0m\u001b[0mshape\u001b[0m\u001b[1;33m)\u001b[0m\u001b[1;33m\u001b[0m\u001b[1;33m\u001b[0m\u001b[0m\n\u001b[0m\u001b[0;32m      3\u001b[0m \u001b[0mlast_year_daily\u001b[0m\u001b[1;33m.\u001b[0m\u001b[0mhead\u001b[0m\u001b[1;33m(\u001b[0m\u001b[1;33m)\u001b[0m\u001b[1;33m\u001b[0m\u001b[1;33m\u001b[0m\u001b[0m\n",
      "\u001b[1;31mNameError\u001b[0m: name 'last_year_daily' is not defined"
     ]
    }
   ],
   "source": [
    "#Weekly listings\n",
    "print(last_year_daily.shape)\n",
    "last_year_daily.head()"
   ]
  },
  {
   "cell_type": "code",
   "execution_count": null,
   "metadata": {},
   "outputs": [],
   "source": [
    "rolling_mean=last_year_daily.rolling(window=7,min_periods=1).mean()\n",
    "rolling_mean = rolling_mean.rename(columns={'listings':'rolling_wk_avg'})"
   ]
  },
  {
   "cell_type": "code",
   "execution_count": null,
   "metadata": {},
   "outputs": [],
   "source": [
    "rolling_mean.head()"
   ]
  },
  {
   "cell_type": "code",
   "execution_count": null,
   "metadata": {},
   "outputs": [],
   "source": [
    "test= last_year_daily.join(rolling_mean)"
   ]
  },
  {
   "cell_type": "code",
   "execution_count": null,
   "metadata": {},
   "outputs": [],
   "source": [
    "test.head()"
   ]
  },
  {
   "cell_type": "code",
   "execution_count": null,
   "metadata": {},
   "outputs": [],
   "source": [
    "test = test.drop(columns='listings')"
   ]
  },
  {
   "cell_type": "code",
   "execution_count": null,
   "metadata": {},
   "outputs": [],
   "source": [
    "#Capture unique listings a month\n",
    "last_year_monthly = calendar.groupby(['month_year'])['listing_id'].agg({'nunique'}).reset_index()\n",
    "\n",
    "#Rename columns\n",
    "last_year_monthly =last_year_monthly.rename(columns = {'nunique': 'listings'})"
   ]
  },
  {
   "cell_type": "code",
   "execution_count": null,
   "metadata": {},
   "outputs": [],
   "source": [
    "#Set 538 plot style\n",
    "plt.style.use('fivethirtyeight')\n",
    "\n",
    "#Plot daily unique listings data\n",
    "ax = last_year_daily.plot(x='date', y='listings', kind = 'line',style='o-', markersize=.5,\n",
    "          label= 'Daily Unique Listings',figsize = (15,10),\n",
    "         linewidth = 1.5)\n",
    "\n",
    "test.plot(x='date', y='rolling_wk_avg', kind = 'line',style='o-', markersize=.5,\n",
    "          label= 'Weekly Unique Listings',figsize = (15,10),\n",
    "         linewidth = 1.5, ax=ax)\n",
    "\n",
    "#plot montly average\n",
    "last_year_monthly.plot(x='month_year', y='listings',kind = 'line',style='o-', markersize= 7,\n",
    "          label= 'Monthly Unique Listings', linewidth = 1.5 , ax=ax)\n",
    "\n",
    "#Set fontdict\n",
    "fontdict={'weight' : 'bold',\n",
    "          'size': 17}\n",
    "\n",
    "#Set x and y labels\n",
    "ax.set_xlabel('Month',fontdict=fontdict)\n",
    "ax.set_ylabel('Count', fontdict=fontdict)\n",
    "\n",
    "#Format yticks\n",
    "ax.set_yticklabels(['{:,}'.format(int(x)) for x in ax.get_yticks().tolist()])\n",
    "\n",
    "#Set Title\n",
    "ax.set_title('Growth of Airbnb Listings in San Francisco', fontweight = 'bold', fontsize=22)\n",
    "\n",
    "#Adjust plot margins\n",
    "ax.margins(0,.12)\n",
    "\n",
    "#Mute vertical grid lines\n",
    "ax.grid(b = False, which ='major', axis = 'x')\n",
    "\n",
    "#Add Text\n",
    "xs,ys=last_year_monthly['month_year'], last_year_monthly['listings']\n",
    "\n",
    "for x,y in zip(xs,ys):\n",
    "    label = '{:,}'.format(y)\n",
    "    plt.annotate(label, (x,y),textcoords=\"offset points\",fontsize = 9, xytext=(0,0), ha='left')\n",
    "\n",
    "#Set legend\n",
    "plt.legend(title='Legend', frameon = True, loc='upper left');"
   ]
  },
  {
   "cell_type": "code",
   "execution_count": null,
   "metadata": {},
   "outputs": [],
   "source": [
    "#datamusings #artificialintelligence\n",
    "#softwareengineering #programmingisfun\n",
    "#fullstack #sql #codeismylife #developerlife\n",
    "#developerslife #codingpics #learntocode #java\n",
    "#bigdata #webdevelopers #pythoncode\n",
    "#analytics #reactjs #devlife\n"
   ]
  },
  {
   "cell_type": "code",
   "execution_count": null,
   "metadata": {},
   "outputs": [],
   "source": []
  },
  {
   "cell_type": "markdown",
   "metadata": {},
   "source": [
    "# Median rent across the United States"
   ]
  },
  {
   "cell_type": "code",
   "execution_count": null,
   "metadata": {},
   "outputs": [],
   "source": [
    "#SF vs rest of US Rent\n",
    "\n",
    "plt.style.use('ggplot')\n",
    "\n",
    "fig, ax = plt.subplots(figsize = (12,5))\n",
    "sf_zillow.groupby('Date')['Median_Rent'].mean().plot(kind = 'line', color = 'r')\n",
    "\n",
    "zillow.groupby(['Date'])['Median_Rent'].mean().plot(kind = 'line', color= 'g')#natl average\n",
    "\n",
    "plt.title('Comparing rent accross the Unites states vs SF(in airbnb specofically)')\n",
    "#We also noted each state's region size ranking, which represents how big it is population-wise;\n",
    "#California is ranked No. 1 with the largest population of all states, while Wyoming is ranked No. 51\n",
    "zillow[zillow.SizeRank < 2].groupby(['Date'])['Median_Rent'].mean().plot(kind = 'line', color = 'b')#this is compared to CA\n",
    "zillow[zillow.SizeRank < 10].groupby(['Date'])['Median_Rent'].mean().plot(kind = 'line', color = 'black')#purp(top 10 largest in US)"
   ]
  },
  {
   "cell_type": "code",
   "execution_count": null,
   "metadata": {},
   "outputs": [],
   "source": []
  },
  {
   "cell_type": "code",
   "execution_count": null,
   "metadata": {},
   "outputs": [],
   "source": []
  },
  {
   "cell_type": "code",
   "execution_count": null,
   "metadata": {},
   "outputs": [],
   "source": []
  },
  {
   "cell_type": "code",
   "execution_count": null,
   "metadata": {},
   "outputs": [],
   "source": []
  },
  {
   "cell_type": "code",
   "execution_count": null,
   "metadata": {},
   "outputs": [],
   "source": []
  },
  {
   "cell_type": "code",
   "execution_count": null,
   "metadata": {},
   "outputs": [],
   "source": []
  },
  {
   "cell_type": "code",
   "execution_count": null,
   "metadata": {},
   "outputs": [],
   "source": []
  },
  {
   "cell_type": "code",
   "execution_count": null,
   "metadata": {},
   "outputs": [],
   "source": []
  },
  {
   "cell_type": "code",
   "execution_count": null,
   "metadata": {},
   "outputs": [],
   "source": [
    "#Group last year by month_year and get a count of unique listings per day\n",
    "last_year_daily = calendar.groupby(['date'])['listing_id'].agg({'nunique'}).reset_index()\n",
    "\n",
    "#Rename columns\n",
    "last_year_daily =last_year_daily.rename(columns = {'nunique': 'listings'})"
   ]
  },
  {
   "cell_type": "code",
   "execution_count": null,
   "metadata": {},
   "outputs": [],
   "source": [
    "#Weekly listings\n",
    "print(last_year_daily.shape)\n",
    "last_year_daily.head()"
   ]
  },
  {
   "cell_type": "code",
   "execution_count": null,
   "metadata": {},
   "outputs": [],
   "source": [
    "rolling_mean=last_year_daily.rolling(window=7,min_periods=1).mean()\n",
    "rolling_mean = rolling_mean.rename(columns={'listings':'rolling_wk_avg'})"
   ]
  },
  {
   "cell_type": "code",
   "execution_count": null,
   "metadata": {},
   "outputs": [],
   "source": [
    "rolling_mean.head()"
   ]
  },
  {
   "cell_type": "code",
   "execution_count": null,
   "metadata": {},
   "outputs": [],
   "source": [
    "test= last_year_daily.join(rolling_mean)"
   ]
  },
  {
   "cell_type": "code",
   "execution_count": null,
   "metadata": {},
   "outputs": [],
   "source": [
    "test.head()"
   ]
  },
  {
   "cell_type": "code",
   "execution_count": null,
   "metadata": {},
   "outputs": [],
   "source": [
    "test = test.drop(columns='listings')"
   ]
  },
  {
   "cell_type": "code",
   "execution_count": null,
   "metadata": {},
   "outputs": [],
   "source": [
    "#Capture unique listings a month\n",
    "last_year_monthly = calendar.groupby(['month_year'])['listing_id'].agg({'nunique'}).reset_index()\n",
    "\n",
    "#Rename columns\n",
    "last_year_monthly =last_year_monthly.rename(columns = {'nunique': 'listings'})"
   ]
  },
  {
   "cell_type": "code",
   "execution_count": null,
   "metadata": {},
   "outputs": [],
   "source": [
    "#Set 538 plot style\n",
    "plt.style.use('fivethirtyeight')\n",
    "\n",
    "#Plot daily unique listings data\n",
    "ax = last_year_daily.plot(x='date', y='listings', kind = 'line',style='o-', markersize=.5,\n",
    "          label= 'Daily Unique Listings',figsize = (15,10),\n",
    "         linewidth = 1.5)\n",
    "\n",
    "test.plot(x='date', y='rolling_wk_avg', kind = 'line',style='o-', markersize=.5,\n",
    "          label= 'Weekly Unique Listings',figsize = (15,10),\n",
    "         linewidth = 1.5, ax=ax)\n",
    "\n",
    "#plot montly average\n",
    "last_year_monthly.plot(x='month_year', y='listings',kind = 'line',style='o-', markersize= 7,\n",
    "          label= 'Monthly Unique Listings', linewidth = 1.5 , ax=ax)\n",
    "\n",
    "#Set fontdict\n",
    "fontdict={'weight' : 'bold',\n",
    "          'size': 17}\n",
    "\n",
    "#Set x and y labels\n",
    "ax.set_xlabel('Month',fontdict=fontdict)\n",
    "ax.set_ylabel('Count', fontdict=fontdict)\n",
    "\n",
    "#Format yticks\n",
    "ax.set_yticklabels(['{:,}'.format(int(x)) for x in ax.get_yticks().tolist()])\n",
    "\n",
    "#Set Title\n",
    "ax.set_title('Growth of Airbnb Listings in San Francisco', fontweight = 'bold', fontsize=22)\n",
    "\n",
    "#Adjust plot margins\n",
    "ax.margins(0,.12)\n",
    "\n",
    "#Mute vertical grid lines\n",
    "ax.grid(b = False, which ='major', axis = 'x')\n",
    "\n",
    "#Add Text\n",
    "xs,ys=last_year_monthly['month_year'], last_year_monthly['listings']\n",
    "\n",
    "for x,y in zip(xs,ys):\n",
    "    label = '{:,}'.format(y)\n",
    "    plt.annotate(label, (x,y),textcoords=\"offset points\",fontsize = 9, xytext=(0,0), ha='left')\n",
    "\n",
    "#Set legend\n",
    "plt.legend(title='Legend', frameon = True, loc='upper left');"
   ]
  },
  {
   "cell_type": "markdown",
   "metadata": {},
   "source": [
    "Over the last year, there has been significant growth in the number of listings available for rent month to month. Let us look into the number of nights booked by users over the last year."
   ]
  },
  {
   "cell_type": "markdown",
   "metadata": {},
   "source": [
    "Might be worth looking at a few years worth of reviews and calendar data to see the demand and  growth over time"
   ]
  },
  {
   "cell_type": "code",
   "execution_count": null,
   "metadata": {},
   "outputs": [],
   "source": [
    "#Set Date as index for zillow data\n",
    "zillow.set_index(keys = 'Date', inplace=True)"
   ]
  },
  {
   "cell_type": "code",
   "execution_count": null,
   "metadata": {},
   "outputs": [],
   "source": [
    "#Extract date info from index and assign to zillow\n",
    "zillow['Year'] = zillow.index.year\n",
    "zillow['Month'] = zillow.index.month\n",
    "zillow['Weekday_Name'] = zillow.index.weekday_name"
   ]
  },
  {
   "cell_type": "code",
   "execution_count": null,
   "metadata": {},
   "outputs": [],
   "source": [
    "zillow.head()"
   ]
  },
  {
   "cell_type": "markdown",
   "metadata": {},
   "source": [
    "# Time Series Analysis"
   ]
  },
  {
   "cell_type": "markdown",
   "metadata": {},
   "source": [
    "For this analysis, we will isolate the rows in our Zillow data that are in the zipcode or city of the listings data."
   ]
  },
  {
   "cell_type": "code",
   "execution_count": null,
   "metadata": {},
   "outputs": [],
   "source": [
    "zillow = zillow.loc['2011-09-01':'2019-11-01']"
   ]
  },
  {
   "cell_type": "code",
   "execution_count": null,
   "metadata": {},
   "outputs": [],
   "source": [
    "#SF vs rest of US Rent\n",
    "\n",
    "plt.style.use('ggplot')\n",
    "\n",
    "fig, ax = plt.subplots(figsize = (12,5))\n",
    "sf_zillow.groupby('Date')['Median_Rent'].mean().plot(kind = 'line', color = 'r')\n",
    "\n",
    "zillow.groupby(['Date'])['Median_Rent'].mean().plot(kind = 'line', color= 'g')#natl average\n",
    "\n",
    "plt.title('Comparing rent accross the Unites states vs SF(in airbnb specofically)')\n",
    "#We also noted each state's region size ranking, which represents how big it is population-wise;\n",
    "#California is ranked No. 1 with the largest population of all states, while Wyoming is ranked No. 51\n",
    "zillow[zillow.SizeRank < 2].groupby(['Date'])['Median_Rent'].mean().plot(kind = 'line', color = 'b')#this is compared to CA\n",
    "zillow[zillow.SizeRank < 10].groupby(['Date'])['Median_Rent'].mean().plot(kind = 'line', color = 'black')#purp(top 10 largest in US)"
   ]
  },
  {
   "cell_type": "markdown",
   "metadata": {},
   "source": [
    "Airbnb monthly rent vs bay area rent "
   ]
  },
  {
   "cell_type": "code",
   "execution_count": null,
   "metadata": {},
   "outputs": [],
   "source": [
    "#Capture id and monthly_price from listings data for merge with calendar data\n",
    "listings_merge = listings[['id','monthly_price']]\n",
    "\n"
   ]
  },
  {
   "cell_type": "code",
   "execution_count": null,
   "metadata": {},
   "outputs": [],
   "source": [
    "calendar_merge = calendar[['listing_id','price','month_year','year','month']]\n",
    "calendar_merge.reset_index(inplace = True)"
   ]
  },
  {
   "cell_type": "code",
   "execution_count": null,
   "metadata": {},
   "outputs": [],
   "source": [
    "monthly_listings = calendar_merge.merge(listings_merge, left_on='listing_id', right_on='id')"
   ]
  },
  {
   "cell_type": "code",
   "execution_count": null,
   "metadata": {},
   "outputs": [],
   "source": [
    "monthly_listings=monthly_listings[-monthly_listings.monthly_price.isna()]\n",
    "\n",
    "monthly_listings.drop_duplicates(inplace = True)"
   ]
  },
  {
   "cell_type": "code",
   "execution_count": null,
   "metadata": {},
   "outputs": [],
   "source": [
    "print(monthly_listings.shape)\n",
    "monthly_listings.head()"
   ]
  },
  {
   "cell_type": "code",
   "execution_count": null,
   "metadata": {},
   "outputs": [],
   "source": [
    "monthly_listings.set_index('date', inplace=True)\n",
    "\n",
    "monthly_listings.sort_index(inplace=True)"
   ]
  },
  {
   "cell_type": "code",
   "execution_count": null,
   "metadata": {},
   "outputs": [],
   "source": [
    "monthly_listings.tail()"
   ]
  },
  {
   "cell_type": "code",
   "execution_count": null,
   "metadata": {},
   "outputs": [],
   "source": [
    "monthly_listings.loc['2018-12-01':'2019-11-01'].groupby('month_year')['monthly_price'].mean().plot(color = 'g')\n",
    "\n",
    "sf_zillow.loc['2018-12-01':'2019-11-01'].groupby(['Date'])['Median_Rent'].mean().plot(kind = 'line')"
   ]
  },
  {
   "cell_type": "code",
   "execution_count": null,
   "metadata": {},
   "outputs": [],
   "source": [
    "#test_pd.loc['2018-09':'2019-12'].groupby('date')['monthly_price'].mean().plot(kind = 'box')\n",
    "sns.boxplot(x='month_year', y = 'price', data = monthly_listings)"
   ]
  },
  {
   "cell_type": "code",
   "execution_count": null,
   "metadata": {},
   "outputs": [],
   "source": [
    "sf_zillow.sort_index(inplace=True)"
   ]
  },
  {
   "cell_type": "code",
   "execution_count": null,
   "metadata": {},
   "outputs": [],
   "source": [
    "sf_zillow.tail()"
   ]
  },
  {
   "cell_type": "code",
   "execution_count": null,
   "metadata": {},
   "outputs": [],
   "source": [
    "calendar.head()"
   ]
  },
  {
   "cell_type": "markdown",
   "metadata": {},
   "source": [
    "* Comparing monthly rent of airbnb to zillow"
   ]
  },
  {
   "cell_type": "markdown",
   "metadata": {},
   "source": [
    "### Principal Component Analysis"
   ]
  },
  {
   "cell_type": "code",
   "execution_count": null,
   "metadata": {},
   "outputs": [],
   "source": []
  }
 ],
 "metadata": {
  "kernelspec": {
   "display_name": "Python 3",
   "language": "python",
   "name": "python3"
  },
  "language_info": {
   "codemirror_mode": {
    "name": "ipython",
    "version": 3
   },
   "file_extension": ".py",
   "mimetype": "text/x-python",
   "name": "python",
   "nbconvert_exporter": "python",
   "pygments_lexer": "ipython3",
   "version": "3.7.3"
  },
  "toc-autonumbering": true
 },
 "nbformat": 4,
 "nbformat_minor": 4
}
