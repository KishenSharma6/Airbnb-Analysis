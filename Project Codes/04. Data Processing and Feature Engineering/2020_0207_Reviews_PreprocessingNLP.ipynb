{
 "cells": [
  {
   "cell_type": "markdown",
   "metadata": {},
   "source": [
    "**Pre-processing Airbnb Review Data for NLP**"
   ]
  },
  {
   "cell_type": "markdown",
   "metadata": {},
   "source": [
    "# Introduction"
   ]
  },
  {
   "cell_type": "markdown",
   "metadata": {},
   "source": [
    "## Read in libraries, data, and set notebook preferences"
   ]
  },
  {
   "cell_type": "markdown",
   "metadata": {},
   "source": [
    "**Read in libraries**"
   ]
  },
  {
   "cell_type": "code",
   "execution_count": 186,
   "metadata": {},
   "outputs": [],
   "source": [
    "#Read in libraries\n",
    "import pandas as pd\n",
    "import dask as dd\n",
    "import swifter\n",
    "import numpy as np\n",
    "import nltk"
   ]
  },
  {
   "cell_type": "markdown",
   "metadata": {},
   "source": [
    "**Read in data**"
   ]
  },
  {
   "cell_type": "code",
   "execution_count": 5,
   "metadata": {},
   "outputs": [],
   "source": [
    "#Set path to data\n",
    "path = r'C:\\Users\\kishe\\Documents\\Data Science\\Projects\\Python Projects\\In Progress\\Air BnB - SF\\Data\\02_Intermediate'\n",
    "\n",
    "#Read in data\n",
    "df = pd.read_csv(path + '/2020_0131_Reviews_Cleaned.csv',sep=',',index_col=0,\n",
    "                 parse_dates=['date'])"
   ]
  },
  {
   "cell_type": "markdown",
   "metadata": {},
   "source": [
    "**Set preferences for notebook**"
   ]
  },
  {
   "cell_type": "code",
   "execution_count": 154,
   "metadata": {},
   "outputs": [],
   "source": [
    "#Ignore warnings\n",
    "import warnings; warnings.simplefilter('ignore')\n",
    "\n",
    "#Increase number of columns and rows displayed by Pandas\n",
    "pd.set_option('display.max_columns', 500)\n",
    "pd.set_option('display.max_rows',500)\n",
    "pd.set_option('display.width',1000)"
   ]
  },
  {
   "cell_type": "markdown",
   "metadata": {},
   "source": [
    "## Preview data"
   ]
  },
  {
   "cell_type": "code",
   "execution_count": 155,
   "metadata": {},
   "outputs": [
    {
     "name": "stdout",
     "output_type": "stream",
     "text": [
      "Reviews data shape: (425511, 7)\n",
      "Data types: \n",
      " comments                      object\n",
      "date                  datetime64[ns]\n",
      "id                             int64\n",
      "listing_id                     int64\n",
      "reviewer_id                    int64\n",
      "reviewer_name                 object\n",
      "sentiment_compound           float64\n",
      "dtype: object\n"
     ]
    },
    {
     "data": {
      "text/html": [
       "<div>\n",
       "<style scoped>\n",
       "    .dataframe tbody tr th:only-of-type {\n",
       "        vertical-align: middle;\n",
       "    }\n",
       "\n",
       "    .dataframe tbody tr th {\n",
       "        vertical-align: top;\n",
       "    }\n",
       "\n",
       "    .dataframe thead th {\n",
       "        text-align: right;\n",
       "    }\n",
       "</style>\n",
       "<table border=\"1\" class=\"dataframe\">\n",
       "  <thead>\n",
       "    <tr style=\"text-align: right;\">\n",
       "      <th></th>\n",
       "      <th>comments</th>\n",
       "      <th>date</th>\n",
       "      <th>id</th>\n",
       "      <th>listing_id</th>\n",
       "      <th>reviewer_id</th>\n",
       "      <th>reviewer_name</th>\n",
       "      <th>sentiment_compound</th>\n",
       "    </tr>\n",
       "  </thead>\n",
       "  <tbody>\n",
       "    <tr>\n",
       "      <th>19330</th>\n",
       "      <td>Hello Josh  Thank you very much for everything. I found myself very comfortable in your home. Quiet, comfortable and very complete and very clean, which I value highly. Next time I'd come with my family. I hope it's possible.</td>\n",
       "      <td>2013-12-01</td>\n",
       "      <td>9000494</td>\n",
       "      <td>209514</td>\n",
       "      <td>9215434</td>\n",
       "      <td>Ramon</td>\n",
       "      <td>0.9534</td>\n",
       "    </tr>\n",
       "    <tr>\n",
       "      <th>143113</th>\n",
       "      <td>Stop and book it now. Rea (Website hidden by Airbnb) this later!!! If your a single person looking for a story book San Francisco experience, look no farther. Staying in Mikes place couldn't be any more wonderful. If your familiar with \"Tales of the City\" Mike is the Olympia Dukakis. The home is warm and inviting with all the nuances of an old Victorian. Mike is an amazing host . He can tell you how walk drive or public transit the city (don't bother with a car). Would love to keep the gem to myself but everyone deserves this unique place to lay your head. Make sure while you're there be introduced to William . Book IT you won't be disappointed .</td>\n",
       "      <td>2017-06-07</td>\n",
       "      <td>158659946</td>\n",
       "      <td>4833101</td>\n",
       "      <td>35954713</td>\n",
       "      <td>Tim</td>\n",
       "      <td>0.9334</td>\n",
       "    </tr>\n",
       "    <tr>\n",
       "      <th>1021372</th>\n",
       "      <td>So I moved to SF in late May from Michigan to intern at Genentech for the summer. I stayed at Anjan’s apartment for 7 days while I was looking for a more permanent housing situation. Anjan was extremely hospitable and welcoming throughout the week. He was also very knowledgeable about the area and always offered to help in any way that he could. The area (SOMA) is very safe and is very “walkable.” There are plenty of restaurants and stores nearby (there’s even a target a few blocks away), so you have everything you need within a couple blocks from the apartment.            As for the bedroom, it was spacious and clean. The bathroom was nice and I had to myself for the entirety of my stay. I felt very comfortable living at Anjan’s for a week and I really enjoyed staying there.            If you’re a respectful person and are looking for a place to stay in SF for a short time, I highly recommend staying at Anjan’s. He’s a great person and a great host.</td>\n",
       "      <td>2013-06-02</td>\n",
       "      <td>4928809</td>\n",
       "      <td>635850</td>\n",
       "      <td>6542011</td>\n",
       "      <td>Michael</td>\n",
       "      <td>0.9860</td>\n",
       "    </tr>\n",
       "    <tr>\n",
       "      <th>64636</th>\n",
       "      <td>This was the perfect home from home, our host was amazing like most California's we had a wonderful time.</td>\n",
       "      <td>2014-10-16</td>\n",
       "      <td>21374058</td>\n",
       "      <td>1150867</td>\n",
       "      <td>13431837</td>\n",
       "      <td>Chris &amp; Tess</td>\n",
       "      <td>0.9287</td>\n",
       "    </tr>\n",
       "    <tr>\n",
       "      <th>174143</th>\n",
       "      <td>We loved our time in beautiful SF! The place is in a fantastic location and near everything. Nadia’s communication and check in process is amazing and probably the best we have used by far. Would definitely recommend!!   (Website hidden by Airbnb) Thanks for having us Nadia   Jess + Mark x</td>\n",
       "      <td>2018-08-10</td>\n",
       "      <td>305042501</td>\n",
       "      <td>7226841</td>\n",
       "      <td>73281468</td>\n",
       "      <td>Jessica ( + Mark)</td>\n",
       "      <td>0.9824</td>\n",
       "    </tr>\n",
       "  </tbody>\n",
       "</table>\n",
       "</div>"
      ],
      "text/plain": [
       "                                                                                                                                                                                                                                                                                                                                                                                                                                                                                                                                                                                                                                                                                                                                                                                                                                                                                                                                                                                                               comments       date  \\\n",
       "19330                                                                                                                                                                                                                                                                                                                                                                                                                                                                                                                                                                                                                                                                                                                                                                                 Hello Josh  Thank you very much for everything. I found myself very comfortable in your home. Quiet, comfortable and very complete and very clean, which I value highly. Next time I'd come with my family. I hope it's possible. 2013-12-01   \n",
       "143113                                                                                                                                                                                                                                                                                                                                   Stop and book it now. Rea (Website hidden by Airbnb) this later!!! If your a single person looking for a story book San Francisco experience, look no farther. Staying in Mikes place couldn't be any more wonderful. If your familiar with \"Tales of the City\" Mike is the Olympia Dukakis. The home is warm and inviting with all the nuances of an old Victorian. Mike is an amazing host . He can tell you how walk drive or public transit the city (don't bother with a car). Would love to keep the gem to myself but everyone deserves this unique place to lay your head. Make sure while you're there be introduced to William . Book IT you won't be disappointed . 2017-06-07   \n",
       "1021372          So I moved to SF in late May from Michigan to intern at Genentech for the summer. I stayed at Anjan’s apartment for 7 days while I was looking for a more permanent housing situation. Anjan was extremely hospitable and welcoming throughout the week. He was also very knowledgeable about the area and always offered to help in any way that he could. The area (SOMA) is very safe and is very “walkable.” There are plenty of restaurants and stores nearby (there’s even a target a few blocks away), so you have everything you need within a couple blocks from the apartment.            As for the bedroom, it was spacious and clean. The bathroom was nice and I had to myself for the entirety of my stay. I felt very comfortable living at Anjan’s for a week and I really enjoyed staying there.            If you’re a respectful person and are looking for a place to stay in SF for a short time, I highly recommend staying at Anjan’s. He’s a great person and a great host.   2013-06-02   \n",
       "64636                                                                                                                                                                                                                                                                                                                                                                                                                                                                                                                                                                                                                                                                                                                                                                                                                                                                                                         This was the perfect home from home, our host was amazing like most California's we had a wonderful time. 2014-10-16   \n",
       "174143                                                                                                                                                                                                                                                                                                                                                                                                                                                                                                                                                                                                                                                                                                               We loved our time in beautiful SF! The place is in a fantastic location and near everything. Nadia’s communication and check in process is amazing and probably the best we have used by far. Would definitely recommend!!   (Website hidden by Airbnb) Thanks for having us Nadia   Jess + Mark x 2018-08-10   \n",
       "\n",
       "                id  listing_id  reviewer_id      reviewer_name  sentiment_compound  \n",
       "19330      9000494      209514      9215434              Ramon              0.9534  \n",
       "143113   158659946     4833101     35954713                Tim              0.9334  \n",
       "1021372    4928809      635850      6542011            Michael              0.9860  \n",
       "64636     21374058     1150867     13431837       Chris & Tess              0.9287  \n",
       "174143   305042501     7226841     73281468  Jessica ( + Mark)              0.9824  "
      ]
     },
     "metadata": {},
     "output_type": "display_data"
    }
   ],
   "source": [
    "#View shape and dtypes. Preview head\n",
    "print('Reviews data shape:', df.shape)\n",
    "print('Data types: \\n', df.dtypes)\n",
    "display(df.head())"
   ]
  },
  {
   "cell_type": "markdown",
   "metadata": {},
   "source": [
    "# Preprocessing"
   ]
  },
  {
   "cell_type": "markdown",
   "metadata": {},
   "source": [
    "## Sentiment Analysis with Vader\n",
    "\n",
    "Reviews data does not contain review scores associated with the review. Assigning  compound semantic score using VADER."
   ]
  },
  {
   "cell_type": "code",
   "execution_count": 8,
   "metadata": {},
   "outputs": [],
   "source": [
    "#Import and instantiate sentiment intensity analyzer\n",
    "from vaderSentiment.vaderSentiment import SentimentIntensityAnalyzer\n",
    "analyzer = SentimentIntensityAnalyzer()\n",
    "\n",
    "def compound_scores(series):\n",
    "    #Function to capture compound semantic score \n",
    "    score = analyzer.polarity_scores(series)['compound']\n",
    "    return score"
   ]
  },
  {
   "cell_type": "code",
   "execution_count": 9,
   "metadata": {},
   "outputs": [
    {
     "data": {
      "application/vnd.jupyter.widget-view+json": {
       "model_id": "b73c194027c5438eb26c806f0abaf544",
       "version_major": 2,
       "version_minor": 0
      },
      "text/plain": [
       "HBox(children=(FloatProgress(value=0.0, description='Pandas Apply', max=425511.0, style=ProgressStyle(descript…"
      ]
     },
     "metadata": {},
     "output_type": "display_data"
    },
    {
     "name": "stdout",
     "output_type": "stream",
     "text": [
      "\n"
     ]
    }
   ],
   "source": [
    "#Apply compound_scores to comments \n",
    "df['sentiment_compound']= df['comments'].swifter.apply(compound_scores)"
   ]
  },
  {
   "cell_type": "markdown",
   "metadata": {},
   "source": [
    "### Preview most positive and negative reviews"
   ]
  },
  {
   "cell_type": "code",
   "execution_count": 10,
   "metadata": {},
   "outputs": [
    {
     "data": {
      "text/html": [
       "<div>\n",
       "<style scoped>\n",
       "    .dataframe tbody tr th:only-of-type {\n",
       "        vertical-align: middle;\n",
       "    }\n",
       "\n",
       "    .dataframe tbody tr th {\n",
       "        vertical-align: top;\n",
       "    }\n",
       "\n",
       "    .dataframe thead th {\n",
       "        text-align: right;\n",
       "    }\n",
       "</style>\n",
       "<table border=\"1\" class=\"dataframe\">\n",
       "  <thead>\n",
       "    <tr style=\"text-align: right;\">\n",
       "      <th></th>\n",
       "      <th>comments</th>\n",
       "      <th>sentiment_compound</th>\n",
       "    </tr>\n",
       "  </thead>\n",
       "  <tbody>\n",
       "    <tr>\n",
       "      <th>40972</th>\n",
       "      <td>This was perhaps the most amazing AirBnB experience I've ever had.  I have used AirBnB several times in several countries and it's usually a good experience, but this was outstanding in so many unexpected ways. First off Adam and Alex are incredibly gracious and wonderful hosts. We came in super late and they made the whole place feel like home.    The location is amazing. Seriously, amazing (coming from someone who used to live in SF). It's right next to the park, great restaurants around, lots of place to explore, near several great museums, easy Uber access, lots of public transportation, a farmers market, a food truck hangout, a Whole Foods 1 block away... Amazing.    The kitchen is really a Kitchen with a capital K. Every spice, pan, knife, cooking implement you could hope for is there. We used that kitchen everyday and it was a godsend since we were visiting with our daughter. Everything worked perfectly, was beautifully clean and shiny, and just made you want to cook more! I only wish we got to use the grill - but we were just so busy enjoying the city.    This unit has lots of unexpected surprises - there's actually a garage which Adam and Alex were kind enough to let us use (we arranged to do so beforehand), there were tons of toys and books for our daughter to entertain herself with, there's a beautiful piano we played a few evenings, and this seems to be a part of SF where the weather is always perfect. They have great wifi, a scanner, a printer, a fax machine - which actually ended up being useful for us.    We pretty much walked to the park everyday where there was a really mindblowing playground and an awesome carousel that our daughter (and we) enjoyed. There was a phenomenal food truck gathering on Fridays with live music. There is the best ice cream shop in the world around the corner. A very reasonable gym that I got day passes for a short walk away.    All-in-all this was an amazing trip. We stayed for several days and I didn't want to leave. I felt very lucky that we found such a fantastic spot with such amazing hosts. I am trying to think of something that I wish had been different - but it was honestly just great through and through.    We will be back. I really hope this feedback is helpful as you make your decision. This is a really phenomenal place, and Adam and Alex were lovely hosts. I hope you enjoy their home as much as we did.</td>\n",
       "      <td>0.9997</td>\n",
       "    </tr>\n",
       "    <tr>\n",
       "      <th>101333</th>\n",
       "      <td>This is a perfect place to stay. We were a large party of twelve people across three generations (from 68 to 8months) but the accommodation is so versatile that we managed with ease. The house is beautiful, with pretty bedrooms with comfortable beds and quality linens, three luxurious bathrooms with ample towels and quality toiletries provided, a superb kitchen which is very well equipped and satisfied a family of foodies, and stylish living space. There were lots of books and things for the children including beach toys and a kite and racquets and balls for the “bigger kids” who found free courts nearby and staged knockout competitions.  The location is wonderful. The house is in a pretty, quiet street just over the road from Golden Gate park and all that has to offer and a short walk to the beach. There is a large supermarket just a few blocks away and a lively area on Balboa Street with local bakeries and a wealth of eateries and pleasant bars within easy walking distance.  The zoo, which is lovely, is also within easy walking distance. You could happily stay in the immediate locality and keep yourself fully amused.   That said access to the rest of the city is easy with a bus stop on a main arterial route just over the road. MOMA gave us a great day out and the Mission District some great eating experiences. Haight  and Castro were lively and interesting and of course the Golden Gate Bridge! Fisherman’s Wharf was a bit touristy but the museum of animated machines gave us several hours of fun.  Suzy was an absolutely fabulous host. She gave us lots of local information which really helped to orient us in the first few days. The house was beautifully clean and well supplied and we had a welcome pack that was more a welcome banquet. The house was full of plants and flowers and it was good to have a pleasant garden to relax in. Suzy even supplied a gift voucher to get a birthday cake for my 65th Birthday from a local bakery. Her communication was excellent and in the lead up to the holiday she came to feel more like a friend rather than a host.  If you want a lovely place to stay in San Francisco look no further.  I can’t recommend it enough. We will be back!</td>\n",
       "      <td>0.9996</td>\n",
       "    </tr>\n",
       "    <tr>\n",
       "      <th>43021</th>\n",
       "      <td>Amazing two week stay! There were multiple aspects of this stay that made it great, and here is my breakdown:    Location:     Amazing location that lent itself it to a perfect view! I usually stay in SOMA but wanted a different (and better) location to explore this time around. In the last 15 trips (over a span of 2 years) I've taken in SF, this has been my favorite stay. There are tons of cafes and shops, I highly recommend Buyer's Best Friend Mercato for little unique finds (and great sampling) on Columbus. (Espresso dark chocolate shortbread, jesus, kill me now!) I loved waking up early each morning and walking all over the neighborhood, it was also a quick and direct walk to get to downtown.     The House:     Beautiful house! Amazingly decorated as Nicole, one of the hosts, is an interior designer and made the space feel as luxurious and welcoming as a high end hotel, if not more. The kitchen was well-stocked with any equipment you'd need as well as some great literature on cuisine. The bar that is available for guests is also incredibly generous and welcoming, they have a beautiful rose garden that is regularly tended to by a gardener. The view from the deck/balcony on the house is ridiculously beautiful and the lounge area is very comfortable! You get a view of Alcatraz Island and the Golden Gate Bridge, Lombard, etc. This house will definitely spoil you. A previous guest mentioned the trash truck, but I stayed here for two weeks and never once heard the truck. The bedroom was beautiful and calming, with a private bathroom, all perfectly decorated. A lovely house on a wonderful street! An authentic high-end SF living experience.    The Feline Hosts:    I might be biased as a cat lover, but the fact that they have cats is one of the reasons I booked in the first place! I love these cats! So funny, so much personality, I wanted to never let Sheila go and cart her off to DC. Cuddling with these cats made me soooo happy! I highly doubt the cats were as delighted, but they it took in stride. Had some kitty withdrawal when I came home. \"How much does it cost to ship a cat? Will I get sued if I steal said cat?\" were the types of questions I was left with post-stay.       The Human Hosts:     Nicole and Trevor were the perfect guests! They were so nice, thoughtful and considerate, and stays like these are the reason I will always prefer AIRBNB to any hotel. We developed a friendship and I joined them on excursions to whole foods, food trucks and shops around town. They were always fun to talk to and are very knowledgable about both their respective professional fields and just a ton of other topics.     So in short: I had an amazing stay, and you should just book now and enjoy. The end!</td>\n",
       "      <td>0.9995</td>\n",
       "    </tr>\n",
       "  </tbody>\n",
       "</table>\n",
       "</div>"
      ],
      "text/plain": [
       "                                                                                                                                                                                                                                                                                                                                                                                                                                                                                                                                                                                                                                                                                                                                                                                                                                                                                                                                                                                                                                                                                                                                                                                                                                                                                                                                                                                                                                                                                                                                                                                                                                                                                                                                                                                                                                                                                                                                                                                                                                                                                                                                                                                                                                                                                                                                                                                                                                                                                                                                                                                                                                                                                                                                                                                                                                                comments  \\\n",
       "40972                                                                                                                                                                                                                                                                                                                                                     This was perhaps the most amazing AirBnB experience I've ever had.  I have used AirBnB several times in several countries and it's usually a good experience, but this was outstanding in so many unexpected ways. First off Adam and Alex are incredibly gracious and wonderful hosts. We came in super late and they made the whole place feel like home.    The location is amazing. Seriously, amazing (coming from someone who used to live in SF). It's right next to the park, great restaurants around, lots of place to explore, near several great museums, easy Uber access, lots of public transportation, a farmers market, a food truck hangout, a Whole Foods 1 block away... Amazing.    The kitchen is really a Kitchen with a capital K. Every spice, pan, knife, cooking implement you could hope for is there. We used that kitchen everyday and it was a godsend since we were visiting with our daughter. Everything worked perfectly, was beautifully clean and shiny, and just made you want to cook more! I only wish we got to use the grill - but we were just so busy enjoying the city.    This unit has lots of unexpected surprises - there's actually a garage which Adam and Alex were kind enough to let us use (we arranged to do so beforehand), there were tons of toys and books for our daughter to entertain herself with, there's a beautiful piano we played a few evenings, and this seems to be a part of SF where the weather is always perfect. They have great wifi, a scanner, a printer, a fax machine - which actually ended up being useful for us.    We pretty much walked to the park everyday where there was a really mindblowing playground and an awesome carousel that our daughter (and we) enjoyed. There was a phenomenal food truck gathering on Fridays with live music. There is the best ice cream shop in the world around the corner. A very reasonable gym that I got day passes for a short walk away.    All-in-all this was an amazing trip. We stayed for several days and I didn't want to leave. I felt very lucky that we found such a fantastic spot with such amazing hosts. I am trying to think of something that I wish had been different - but it was honestly just great through and through.    We will be back. I really hope this feedback is helpful as you make your decision. This is a really phenomenal place, and Adam and Alex were lovely hosts. I hope you enjoy their home as much as we did.   \n",
       "101333                                                                                                                                                                                                                                                                                                                                                                                                                                                                                                                                                             This is a perfect place to stay. We were a large party of twelve people across three generations (from 68 to 8months) but the accommodation is so versatile that we managed with ease. The house is beautiful, with pretty bedrooms with comfortable beds and quality linens, three luxurious bathrooms with ample towels and quality toiletries provided, a superb kitchen which is very well equipped and satisfied a family of foodies, and stylish living space. There were lots of books and things for the children including beach toys and a kite and racquets and balls for the “bigger kids” who found free courts nearby and staged knockout competitions.  The location is wonderful. The house is in a pretty, quiet street just over the road from Golden Gate park and all that has to offer and a short walk to the beach. There is a large supermarket just a few blocks away and a lively area on Balboa Street with local bakeries and a wealth of eateries and pleasant bars within easy walking distance.  The zoo, which is lovely, is also within easy walking distance. You could happily stay in the immediate locality and keep yourself fully amused.   That said access to the rest of the city is easy with a bus stop on a main arterial route just over the road. MOMA gave us a great day out and the Mission District some great eating experiences. Haight  and Castro were lively and interesting and of course the Golden Gate Bridge! Fisherman’s Wharf was a bit touristy but the museum of animated machines gave us several hours of fun.  Suzy was an absolutely fabulous host. She gave us lots of local information which really helped to orient us in the first few days. The house was beautifully clean and well supplied and we had a welcome pack that was more a welcome banquet. The house was full of plants and flowers and it was good to have a pleasant garden to relax in. Suzy even supplied a gift voucher to get a birthday cake for my 65th Birthday from a local bakery. Her communication was excellent and in the lead up to the holiday she came to feel more like a friend rather than a host.  If you want a lovely place to stay in San Francisco look no further.  I can’t recommend it enough. We will be back!   \n",
       "43021   Amazing two week stay! There were multiple aspects of this stay that made it great, and here is my breakdown:    Location:     Amazing location that lent itself it to a perfect view! I usually stay in SOMA but wanted a different (and better) location to explore this time around. In the last 15 trips (over a span of 2 years) I've taken in SF, this has been my favorite stay. There are tons of cafes and shops, I highly recommend Buyer's Best Friend Mercato for little unique finds (and great sampling) on Columbus. (Espresso dark chocolate shortbread, jesus, kill me now!) I loved waking up early each morning and walking all over the neighborhood, it was also a quick and direct walk to get to downtown.     The House:     Beautiful house! Amazingly decorated as Nicole, one of the hosts, is an interior designer and made the space feel as luxurious and welcoming as a high end hotel, if not more. The kitchen was well-stocked with any equipment you'd need as well as some great literature on cuisine. The bar that is available for guests is also incredibly generous and welcoming, they have a beautiful rose garden that is regularly tended to by a gardener. The view from the deck/balcony on the house is ridiculously beautiful and the lounge area is very comfortable! You get a view of Alcatraz Island and the Golden Gate Bridge, Lombard, etc. This house will definitely spoil you. A previous guest mentioned the trash truck, but I stayed here for two weeks and never once heard the truck. The bedroom was beautiful and calming, with a private bathroom, all perfectly decorated. A lovely house on a wonderful street! An authentic high-end SF living experience.    The Feline Hosts:    I might be biased as a cat lover, but the fact that they have cats is one of the reasons I booked in the first place! I love these cats! So funny, so much personality, I wanted to never let Sheila go and cart her off to DC. Cuddling with these cats made me soooo happy! I highly doubt the cats were as delighted, but they it took in stride. Had some kitty withdrawal when I came home. \"How much does it cost to ship a cat? Will I get sued if I steal said cat?\" were the types of questions I was left with post-stay.       The Human Hosts:     Nicole and Trevor were the perfect guests! They were so nice, thoughtful and considerate, and stays like these are the reason I will always prefer AIRBNB to any hotel. We developed a friendship and I joined them on excursions to whole foods, food trucks and shops around town. They were always fun to talk to and are very knowledgable about both their respective professional fields and just a ton of other topics.     So in short: I had an amazing stay, and you should just book now and enjoy. The end!    \n",
       "\n",
       "        sentiment_compound  \n",
       "40972               0.9997  \n",
       "101333              0.9996  \n",
       "43021               0.9995  "
      ]
     },
     "execution_count": 10,
     "metadata": {},
     "output_type": "execute_result"
    }
   ],
   "source": [
    "#View some of the most positive reviews\n",
    "df[['comments','sentiment_compound' ]].sort_values(by = 'sentiment_compound', ascending= False).head(3)"
   ]
  },
  {
   "cell_type": "code",
   "execution_count": 11,
   "metadata": {},
   "outputs": [
    {
     "data": {
      "text/html": [
       "<div>\n",
       "<style scoped>\n",
       "    .dataframe tbody tr th:only-of-type {\n",
       "        vertical-align: middle;\n",
       "    }\n",
       "\n",
       "    .dataframe tbody tr th {\n",
       "        vertical-align: top;\n",
       "    }\n",
       "\n",
       "    .dataframe thead th {\n",
       "        text-align: right;\n",
       "    }\n",
       "</style>\n",
       "<table border=\"1\" class=\"dataframe\">\n",
       "  <thead>\n",
       "    <tr style=\"text-align: right;\">\n",
       "      <th></th>\n",
       "      <th>comments</th>\n",
       "      <th>sentiment_compound</th>\n",
       "    </tr>\n",
       "  </thead>\n",
       "  <tbody>\n",
       "    <tr>\n",
       "      <th>1352782</th>\n",
       "      <td>I did not stay with Hostwell as I didn’t feel comfortable or safe after trying to cancel the accommodation as I thought I’d booked for 2 night but then checked only booked for 1 night which cost me $511 US dollars.   Not to mention when I clicked on reserve and clicked on confirm and pay through the Airbnb Website it came up with an error payment didn’t go through. If you don’t want to miss out on the accommodation to click on confirm payment again. But if I hadn’t thought to check my email which confirmed payment then I would of paid double and would still be in this situation oF fighting for my full refund with still no resolution and booking was for Friday, 9th August.   I didn’t cancel with the host as the refund would of only been $169 US so at 12.44am in the morning and less than 48hrs contacted Airbnb Team Support. For over 12 hrs I have had to constantly call Team Support with no end to the resolution. Been hung up by them 7+ times by Case Manager Keith the first one simply spat policy at me and would not transfer me to his supervisors. He also proceeded to ignore my calls and emails and was promised he would call me back but only attempted to call apparently when I was yet again called Team Support then I received an email.   Every time I asked to speak to a Case Managers supervisor they hung up on me blaming it on computer issues also unable to transfer me to the Case Manager dealing with my matter - every call. That is the reason for so many Case Managers I had gone through. At 4am in the morning spoke to Hazel who mentioned she would reach out to the host on my behalf requesting a refund. However was never emailed updates and where my case is at.   And so it seems Airbnb like to push the blame and responsibility on the host as to whether I would receive a refund however the host was only concerned with losing the money that he refused to provide a full refund. At this point having a aleepless night moved around 7+ Case Managers from Manila all not prepared to do anything, Spitting policy at me.   And not willing to resolve my issue. Tired and frustrated waiting for call back after call back from Case Managers, Supervisors wanting my money back for accommodation which was only for 1 nights stay instead of the 2 nights I thought I’d booked.   I’m still no closer to resolving the matter as now the Supervisor from Resolutions Team is yet to call me back and it’s been 2 days passed.   I am frustrated, disappointed, disgusted at the outrageously horrible customer service I have experienced from everyone I’ve dealt with at Airbnb Team Support and the Host who also only worried about losing their money and spat policy at me but not concerned about a overseas traveller trying to enjoy her international experience and save money along the way where I can.   I will continue to fight for my refund and will no longer be using Airbnb again because of the disgraceful way they continue to handle my case.   Disappointed customer, Zarita</td>\n",
       "      <td>-0.9941</td>\n",
       "    </tr>\n",
       "    <tr>\n",
       "      <th>173772</th>\n",
       "      <td>My host tried to make me feel welcome but I'm afraid that I have to give the experience a bad review. I did not understand from the listing that it was a basement apartment (which meant lots of sounds from the floor above, spiders above the bed &amp; kitchen garbage, a long dark hallway in spite of the one light, that one had to go through to get to the apartment.) The key to the street door was left on a leather tongue attached to the inside of the mailbox. Anyone casing the place with so much traffic going in &amp; out could see the set up. The host told me I could remove the \"public\" key during my stay. But then I discovered that the door to the apartment had no outside lock so I could not lock it when I left. There was a bolt for locking it from the inside. Plus a few feet away was a door to their enclosed back yard garden which was kept open. So I did not feel safe as a single woman in urban America &amp; could not believe anyone would have a set up like that.  The apartment itself was tastefully done and fun. The few problems (cleaning people having left no toilet paper &amp; very dead flowers; sink plug that disconnected the first time I used it; no can opener when I went to cook my dinner in a well set up kitchen) were all taken care of immediately.  And I was patient &amp; understanding with each of these things. I knew they were new at this and discovering how to work out the kinks.  But the first time I had a complaint, that I couldn't leave my suitcase for a couple of hours after check out because I had a late flight out, I received a rude &amp; unprofessional text accusing me of being a problem. We got through that with a couple back &amp; froths, but it was disturbing to my day. And then on leaving there was a very upsetting confrontation. I saw they were letting the next guests put their suitcases in the garage! I confronted them calmly with the question of what was their problem with me. Instead of explaining the reason they were making an exception for this couple, they aggressively tried to get me to leave. I said they were being \"nasty\" and left very upset.  So it was not a good experience for my first airbnb.</td>\n",
       "      <td>-0.9956</td>\n",
       "    </tr>\n",
       "    <tr>\n",
       "      <th>88818</th>\n",
       "      <td>I stayed in her apt from Feb 6 to Feb 10, 2016. The experience in her place was so bad during these days that totally ruined my vacation.     1. The house had strong bad smell that made me sick and dizzy,since it was really hard for me to find another place in the evening of Feb 6 due to Super Bowl 50, I kept staying there for 4 nights, but the smell problem bothered me all the time.    2. Julie didn't provide enough toilet paper that really caused inconvenience when I found the toilet paper used out and no any extra one at home.    3. Julie didn't offer any paper towel, napkin at kitchen, dining table and anywhere at home that made me really feel uncomfortable and inconvenience when I cooked and ate. I even couldn't find a steak knife after I cooked my steak.    4. When I came home at night on Feb 7, I found I had no hot water to take a shower in my bathroom.    5. I found several pieces of hair on my pillow when I arrived on Feb 6 that made me doubt if the bedding was cleaned.    6. There was someone walked around whole night above my bedroom that made me wake up whole night on Feb 8. Julie also heard that but she didn't do anything trying to stop that noise made by her neighbors above.  And the noise happenned the night of Feb 9th again.      7.  Julie came home in the mid-night of Feb 6th with her high heel shoes and the noise woke me up     8. Julie called my name in fount of my door in the mid-night and asked me if I screamed on the night of Feb 8th, cos she heard someone screaming. I was almost sleeping that time but her interruption woke me up. It was really make me confusing why she acted in this way, I guessed she may have some hallucination or felt too lonely.     9. Julie wrote me an email after I moved out. She complained there was a bad smell in house from the trash can in kitchen. She blamed me to put kitchen trash (some fish skin and meat of a salmon, I only cooked once during my stay) in that trash can in kitchen and caused bad smell in house. It was her duty to throw trash away, but she didn't throw even once during my 5 days staying, I really confused where I should put the kitchen trash if I was not allowed to put that trash inside kitchen trash can. She also complained that I put the dirty towels inside the laundry basket. She also complained that I didn't lock the door although I did locked at least one lock of two, my friend Gordon can prove that.</td>\n",
       "      <td>-0.9978</td>\n",
       "    </tr>\n",
       "  </tbody>\n",
       "</table>\n",
       "</div>"
      ],
      "text/plain": [
       "                                                                                                                                                                                                                                                                                                                                                                                                                                                                                                                                                                                                                                                                                                                                                                                                                                                                                                                                                                                                                                                                                                                                                                                                                                                                                                                                                                                                                                                                                                                                                                                                                                                                                                                                                                                                                                                                                                                                                                                                                                                                                                                                                                                                                                                                                                                                                                                                                                                                                                                                                                                                                                                                                                                                                                                                                                                                                                                                                                                                                                                                                                          comments  \\\n",
       "1352782  I did not stay with Hostwell as I didn’t feel comfortable or safe after trying to cancel the accommodation as I thought I’d booked for 2 night but then checked only booked for 1 night which cost me $511 US dollars.   Not to mention when I clicked on reserve and clicked on confirm and pay through the Airbnb Website it came up with an error payment didn’t go through. If you don’t want to miss out on the accommodation to click on confirm payment again. But if I hadn’t thought to check my email which confirmed payment then I would of paid double and would still be in this situation oF fighting for my full refund with still no resolution and booking was for Friday, 9th August.   I didn’t cancel with the host as the refund would of only been $169 US so at 12.44am in the morning and less than 48hrs contacted Airbnb Team Support. For over 12 hrs I have had to constantly call Team Support with no end to the resolution. Been hung up by them 7+ times by Case Manager Keith the first one simply spat policy at me and would not transfer me to his supervisors. He also proceeded to ignore my calls and emails and was promised he would call me back but only attempted to call apparently when I was yet again called Team Support then I received an email.   Every time I asked to speak to a Case Managers supervisor they hung up on me blaming it on computer issues also unable to transfer me to the Case Manager dealing with my matter - every call. That is the reason for so many Case Managers I had gone through. At 4am in the morning spoke to Hazel who mentioned she would reach out to the host on my behalf requesting a refund. However was never emailed updates and where my case is at.   And so it seems Airbnb like to push the blame and responsibility on the host as to whether I would receive a refund however the host was only concerned with losing the money that he refused to provide a full refund. At this point having a aleepless night moved around 7+ Case Managers from Manila all not prepared to do anything, Spitting policy at me.   And not willing to resolve my issue. Tired and frustrated waiting for call back after call back from Case Managers, Supervisors wanting my money back for accommodation which was only for 1 nights stay instead of the 2 nights I thought I’d booked.   I’m still no closer to resolving the matter as now the Supervisor from Resolutions Team is yet to call me back and it’s been 2 days passed.   I am frustrated, disappointed, disgusted at the outrageously horrible customer service I have experienced from everyone I’ve dealt with at Airbnb Team Support and the Host who also only worried about losing their money and spat policy at me but not concerned about a overseas traveller trying to enjoy her international experience and save money along the way where I can.   I will continue to fight for my refund and will no longer be using Airbnb again because of the disgraceful way they continue to handle my case.   Disappointed customer, Zarita   \n",
       "173772                                                                                                                                                                                                                                                                                                                                                                                                                                                                                                                                                                                                                                                                                                                                                                                                                                                                                  My host tried to make me feel welcome but I'm afraid that I have to give the experience a bad review. I did not understand from the listing that it was a basement apartment (which meant lots of sounds from the floor above, spiders above the bed & kitchen garbage, a long dark hallway in spite of the one light, that one had to go through to get to the apartment.) The key to the street door was left on a leather tongue attached to the inside of the mailbox. Anyone casing the place with so much traffic going in & out could see the set up. The host told me I could remove the \"public\" key during my stay. But then I discovered that the door to the apartment had no outside lock so I could not lock it when I left. There was a bolt for locking it from the inside. Plus a few feet away was a door to their enclosed back yard garden which was kept open. So I did not feel safe as a single woman in urban America & could not believe anyone would have a set up like that.  The apartment itself was tastefully done and fun. The few problems (cleaning people having left no toilet paper & very dead flowers; sink plug that disconnected the first time I used it; no can opener when I went to cook my dinner in a well set up kitchen) were all taken care of immediately.  And I was patient & understanding with each of these things. I knew they were new at this and discovering how to work out the kinks.  But the first time I had a complaint, that I couldn't leave my suitcase for a couple of hours after check out because I had a late flight out, I received a rude & unprofessional text accusing me of being a problem. We got through that with a couple back & froths, but it was disturbing to my day. And then on leaving there was a very upsetting confrontation. I saw they were letting the next guests put their suitcases in the garage! I confronted them calmly with the question of what was their problem with me. Instead of explaining the reason they were making an exception for this couple, they aggressively tried to get me to leave. I said they were being \"nasty\" and left very upset.  So it was not a good experience for my first airbnb.   \n",
       "88818                                                                                                                                                                                                                                                                                                                                                                                                                                                                                                                                                                                             I stayed in her apt from Feb 6 to Feb 10, 2016. The experience in her place was so bad during these days that totally ruined my vacation.     1. The house had strong bad smell that made me sick and dizzy,since it was really hard for me to find another place in the evening of Feb 6 due to Super Bowl 50, I kept staying there for 4 nights, but the smell problem bothered me all the time.    2. Julie didn't provide enough toilet paper that really caused inconvenience when I found the toilet paper used out and no any extra one at home.    3. Julie didn't offer any paper towel, napkin at kitchen, dining table and anywhere at home that made me really feel uncomfortable and inconvenience when I cooked and ate. I even couldn't find a steak knife after I cooked my steak.    4. When I came home at night on Feb 7, I found I had no hot water to take a shower in my bathroom.    5. I found several pieces of hair on my pillow when I arrived on Feb 6 that made me doubt if the bedding was cleaned.    6. There was someone walked around whole night above my bedroom that made me wake up whole night on Feb 8. Julie also heard that but she didn't do anything trying to stop that noise made by her neighbors above.  And the noise happenned the night of Feb 9th again.      7.  Julie came home in the mid-night of Feb 6th with her high heel shoes and the noise woke me up     8. Julie called my name in fount of my door in the mid-night and asked me if I screamed on the night of Feb 8th, cos she heard someone screaming. I was almost sleeping that time but her interruption woke me up. It was really make me confusing why she acted in this way, I guessed she may have some hallucination or felt too lonely.     9. Julie wrote me an email after I moved out. She complained there was a bad smell in house from the trash can in kitchen. She blamed me to put kitchen trash (some fish skin and meat of a salmon, I only cooked once during my stay) in that trash can in kitchen and caused bad smell in house. It was her duty to throw trash away, but she didn't throw even once during my 5 days staying, I really confused where I should put the kitchen trash if I was not allowed to put that trash inside kitchen trash can. She also complained that I put the dirty towels inside the laundry basket. She also complained that I didn't lock the door although I did locked at least one lock of two, my friend Gordon can prove that.       \n",
       "\n",
       "         sentiment_compound  \n",
       "1352782             -0.9941  \n",
       "173772              -0.9956  \n",
       "88818               -0.9978  "
      ]
     },
     "execution_count": 11,
     "metadata": {},
     "output_type": "execute_result"
    }
   ],
   "source": [
    "#View some of the most negative reviews\n",
    "df[['comments','sentiment_compound' ]].sort_values(by = 'sentiment_compound', ascending= False).tail(3)"
   ]
  },
  {
   "cell_type": "markdown",
   "metadata": {},
   "source": [
    "## Language Processing Pipeline"
   ]
  },
  {
   "cell_type": "markdown",
   "metadata": {},
   "source": [
    "### Build Pipeline"
   ]
  },
  {
   "cell_type": "code",
   "execution_count": 196,
   "metadata": {},
   "outputs": [
    {
     "name": "stdout",
     "output_type": "stream",
     "text": [
      "19330                                                                                                                                                                                                                                                                                                                                 [hello, josh, thank, much, everything, comfortable, home, quiet, comfortable, complete, clean, highly, next, time, come, possible]\n",
      "143113                                                                                                          [stop, book, rea, website, hide, later, person, look, book, san, francisco, experience, look, stay, place, wonderful, familiar, tale, city, mike, olympia, dukakis, home, inviting, nuance, old, victorian, mike, amaze, host, tell, walk, drive, transit, city, would, love, gem, everyone, deserve, unique, place, head, make, sure, book, disappoint]\n",
      "1021372    [move, may, michigan, summer, day, look, permanent, housing, situation, anjan, extremely, hospitable, welcome, throughout, week, also, knowledgeable, area, always, offer, way, area, soma, safe, walkable, plenty, store, nearby, block, away, everything, need, within, block, apartment, bedroom, spacious, clean, bathroom, nice, entirety, stay, comfortable, living, enjoy, stay, respectful, person, look, time, recommend, stay, great, person, host]\n",
      "Name: comments, dtype: object\n"
     ]
    }
   ],
   "source": [
    "#Import libraries\n",
    "import re\n",
    "from nltk.corpus import stopwords, wordnet\n",
    "stop = stopwords.words('english')\n",
    "from nltk.corpus import wordnet\n",
    "from nltk.stem.wordnet import WordNetLemmatizer\n",
    "\n",
    "def get_wordnet_pos(treebank_tag):\n",
    "#Create function for to capture POS of token for lemmatizer\n",
    "    if treebank_tag.startswith('J'):\n",
    "        return wordnet.ADJ\n",
    "    elif treebank_tag.startswith('V'):\n",
    "        return wordnet.VERB\n",
    "    elif treebank_tag.startswith('N'):\n",
    "        return wordnet.NOUN\n",
    "    elif treebank_tag.startswith('R'):\n",
    "        return wordnet.ADV\n",
    "    else:\n",
    "        return wordnet.NOUN\n",
    "\n",
    "def comment_preprocessor(series):\n",
    "    \"\"\"\n",
    "    Function that completes the following preprocessing steps\n",
    "    Remove numbers\n",
    "    Tokenize columns of text data in pandas. \n",
    "    Additionally remove punctuation and lower-case text    \n",
    "    Remove tokens with < 1 character\n",
    "    Remove stopwords\n",
    "    POS Tagging\n",
    "    Lemmatize\n",
    "    Tagging  \n",
    "    \"\"\"\n",
    "    series = re.sub(r'\\d+', '', series) #remove numbers from text\n",
    "    tokenizer = nltk.tokenize.RegexpTokenizer(r'\\w+') #Instantiat tokenizer\n",
    "    tokens = tokenizer.tokenize(series) #Tokenize series and remove punctuation\n",
    "    tokens = [token.lower() for token in tokens] #convert tokens to lowercase\n",
    "    tokens = [tokens.remove(token) if len(token) <3 else token for token in tokens] #remove tokens with len <3\n",
    "    tokens = [token for token in tokens if token] #Remove None from tokens\n",
    "    tokens = [token for token in tokens if token not in stop] #Remove stopwords\n",
    "    tokens = nltk.tag.pos_tag(tokens)#apply word tags to tokens\n",
    "    \n",
    "    lemmatizer = WordNetLemmatizer()\n",
    "    tokens = [lemmatizer.lemmatize(token[0], get_wordnet_pos(token[1])) for token in tokens]\n",
    "    return tokens"
   ]
  },
  {
   "cell_type": "markdown",
   "metadata": {},
   "source": [
    "### Apply to reviews data"
   ]
  },
  {
   "cell_type": "code",
   "execution_count": 199,
   "metadata": {},
   "outputs": [],
   "source": [
    "#Import progress bar to track time to apply comment_preprocessor\n",
    "from tqdm import tqdm, tqdm_pandas\n",
    "tqdm_pandas()\n",
    "\n",
    "#Apply\n",
    "df['comments_tokenized'] = df['comments'].progress_apply(comment_preprocessor)\n",
    "\n",
    "#Check\n",
    "df.head()"
   ]
  },
  {
   "cell_type": "markdown",
   "metadata": {},
   "source": [
    "### Tagging , dependency parsing, noun phrases, name entity recognition, conference resolution"
   ]
  },
  {
   "cell_type": "markdown",
   "metadata": {},
   "source": [
    "# Write file to csv"
   ]
  },
  {
   "cell_type": "code",
   "execution_count": null,
   "metadata": {},
   "outputs": [
    {
     "name": "stdout",
     "output_type": "stream",
     "text": [
      "Final reviews shape: (425511, 8)\n"
     ]
    }
   ],
   "source": [
    "#View reviews shape\n",
    "print('Final reviews shape:',df.shape)\n",
    "\n",
    "#Set path to write processed data\n",
    "path = r'C:\\Users\\kishe\\Documents\\Data Science\\Projects\\Python Projects\\In Progress\\Air BnB - SF\\Data\\03_Processed'\n",
    "\n",
    "#Write to csv\n",
    "df.to_csv(path + '/2020_0208_Reviews_Processed_NLP.csv',sep=',', index=False)"
   ]
  }
 ],
 "metadata": {
  "kernelspec": {
   "display_name": "Python 3",
   "language": "python",
   "name": "python3"
  },
  "language_info": {
   "codemirror_mode": {
    "name": "ipython",
    "version": 3
   },
   "file_extension": ".py",
   "mimetype": "text/x-python",
   "name": "python",
   "nbconvert_exporter": "python",
   "pygments_lexer": "ipython3",
   "version": "3.7.3"
  }
 },
 "nbformat": 4,
 "nbformat_minor": 4
}
